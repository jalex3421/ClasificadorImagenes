{
 "cells": [
  {
   "cell_type": "markdown",
   "metadata": {},
   "source": [
    "# Objetivo 1"
   ]
  },
  {
   "cell_type": "markdown",
   "metadata": {},
   "source": [
    "# Autores\n",
    "David Rodríguez\n",
    ",    Alejandro Meza"
   ]
  },
  {
   "cell_type": "markdown",
   "metadata": {},
   "source": [
    "## Índice de la práctica\n",
    "\n",
    "- [1.Introducción](#1.Introducción)\n",
    "- [2.Creación de datos](#2.Creación-de-datos)\n",
    "- [3.Creación de Modelo de Predicción](#3.Creación-de-Modelo-de-Predicción)\n",
    "- [4.Regresión logística](#4.Regresión-logística)\n",
    "- [5.SVM](#5.SVM)"
   ]
  },
  {
   "cell_type": "code",
   "execution_count": 1,
   "metadata": {},
   "outputs": [],
   "source": [
    "import cv2\n",
    "import glob\n",
    "import skimage\n",
    "\n",
    "\n",
    "#Librerias contornos \n",
    "import numpy as np\n",
    "from skimage.io import imread, imshow\n",
    "from skimage.filters import prewitt_h,prewitt_v\n",
    "from skimage import data, io\n",
    "import matplotlib.pyplot as plt\n",
    "%matplotlib inline\n",
    "from skimage.filters import threshold_otsu \n",
    "from skimage.feature import hog\n",
    "from skimage import data, exposure\n",
    "\n",
    "#Machine Learning\n",
    "from sklearn.linear_model import LogisticRegression\n",
    "from sklearn.datasets import load_iris #dataset de prueba\n",
    "from sklearn.preprocessing import OneHotEncoder\n",
    "from scipy.optimize import minimize\n",
    "import sklearn.metrics as metrics\n",
    "from sklearn.model_selection import GridSearchCV\n",
    "from sklearn import svm\n",
    "\n",
    "#Librerias para preparación de datos\n",
    "from sklearn.model_selection import train_test_split\n",
    "from sklearn.preprocessing import StandardScaler\n"
   ]
  },
  {
   "cell_type": "markdown",
   "metadata": {},
   "source": [
    "# 1.Introducción"
   ]
  },
  {
   "cell_type": "markdown",
   "metadata": {},
   "source": [
    "Para cumplir el objetivo 1, lo hemos dividido en tareas: \n",
    "\n",
    "·Creacion de Datos: A partir de las imagenes obtenemos sus caracteristicas\n",
    "\n",
    "·Creación de Modelo de Predicción: A partir de los datos obtenidos anteriormente, creamos un modelo de predicción."
   ]
  },
  {
   "cell_type": "markdown",
   "metadata": {},
   "source": [
    "# 2.Creación de datos"
   ]
  },
  {
   "cell_type": "markdown",
   "metadata": {},
   "source": [
    "Se va a crear la matriz X, que es la que contiene las imágenes (se crea un dataset).\n",
    "Creamos metodos que nos ayudaran a conseguir nuestro objetivo."
   ]
  },
  {
   "cell_type": "code",
   "execution_count": 2,
   "metadata": {},
   "outputs": [],
   "source": [
    "'''\n",
    "Descripcion: diccionario con los posibles valores de las imagenes, en relacion con el nombre de las carpetas.\n",
    "Entrada: -\n",
    "Salida: diccionario cuyas claves son el nombre de las carpetas, y los valores son el tipo de signals que contiene.\n",
    "'''\n",
    "def devolverDiccionarioEtiquetas():\n",
    "    \n",
    "    diccionarioValores = {}\n",
    "    diccionarioValores['00000'] = 'VelocidadMaxima20'\n",
    "    diccionarioValores['00001'] = 'VelocidadMaxima30'\n",
    "    diccionarioValores['00002'] = 'VelocidadMaxima50'\n",
    "    diccionarioValores['00003'] = 'VelocidadMaxima60'\n",
    "    diccionarioValores['00004'] = 'VelocidadMaxima70'\n",
    "    diccionarioValores['00005'] = 'VelocidadMaxima80'\n",
    "    diccionarioValores['00006'] = 'FinVelocidadMaxima80'\n",
    "    diccionarioValores['00007'] = 'VelocidadMaxima100'\n",
    "    diccionarioValores['00008'] = 'VelocidadMaxima120'\n",
    "    diccionarioValores['00009'] = 'AdelantamientoProhibido'\n",
    "    diccionarioValores['00010'] = 'AdelantamientoProhibidoParaCamiones'\n",
    "\n",
    "    diccionarioValores['00011'] = 'InterseccionConPrioridad'\n",
    "    diccionarioValores['00012'] = 'CalzadaConPrioridad'\n",
    "    diccionarioValores['00013'] = 'CedaElPaso'\n",
    "    diccionarioValores['00014'] = 'DetencionObligatoria'\n",
    "    diccionarioValores['00015'] = 'CirculacionProhibida'\n",
    "    diccionarioValores['00016'] = 'EntradaProhibidaAVehiculosMercancias'\n",
    "    diccionarioValores['00017'] = 'EntradaProhibida'\n",
    "    diccionarioValores['00018'] = 'OtrosPeligros'\n",
    "    diccionarioValores['00019'] = 'CurvaPeligrosaHaciaLaIzquierda'\n",
    "    diccionarioValores['00020'] = 'CurvaPeligrosaHaciaLaDerecha'\n",
    "\n",
    "    diccionarioValores['00021'] = 'CurvasPeligrosasHaciaLaIzquierda'\n",
    "    diccionarioValores['00022'] = 'PerfilIrregular'\n",
    "    diccionarioValores['00023'] = 'PavimentoDeslizante'\n",
    "    diccionarioValores['00024'] = 'EstrechamientoCalzadaPorDerecha'\n",
    "    diccionarioValores['00025'] = 'Obras'\n",
    "    diccionarioValores['00026'] = 'Semaforos'\n",
    "    diccionarioValores['00027'] = 'PasoDePeatones'\n",
    "    diccionarioValores['00028'] = 'Kids'\n",
    "    diccionarioValores['00029'] = 'EntradaProhibidasCiclos'\n",
    "    diccionarioValores['00030'] = 'PavimentoDeslizanteNieveHielo'\n",
    "\n",
    "    diccionarioValores['00031'] = 'PasoDeAnimalesEnLibertad'\n",
    "    diccionarioValores['00032'] = 'FinDeProhibiciones'\n",
    "    diccionarioValores['00033'] = 'SentidoObligatorioDerecha'\n",
    "    diccionarioValores['00034'] = 'SentidoObligatorioIzquierda'\n",
    "    diccionarioValores['00035'] = 'SentidoObligatorio'\n",
    "    diccionarioValores['00036'] = 'DirPermitidasRectoYDerecha'\n",
    "    diccionarioValores['00037'] = 'DirPermitidasRectoEIzquierda'\n",
    "    diccionarioValores['00038'] = 'PasoObligatorioDerecha'\n",
    "    diccionarioValores['00039'] = 'PasoObligatorioizquierda'\n",
    "    diccionarioValores['00040'] = 'InterseccionSentidoObligatorioGiratorio'\n",
    "\n",
    "\n",
    "    diccionarioValores['00041'] = 'FinProhibicionAdelantamiento'\n",
    "    diccionarioValores['00042'] = 'FinProhibicionAdelantamientoCamiones'\n",
    "    \n",
    "    return diccionarioValores"
   ]
  },
  {
   "cell_type": "markdown",
   "metadata": {},
   "source": [
    "Probemos ahora el código...."
   ]
  },
  {
   "cell_type": "code",
   "execution_count": null,
   "metadata": {},
   "outputs": [],
   "source": [
    "d =  devolverDiccionarioEtiquetas()\n",
    "\n",
    "for k,v in d.items():\n",
    "    print(v)"
   ]
  },
  {
   "cell_type": "markdown",
   "metadata": {},
   "source": [
    "Creamos un diccionario para almacenar todas las fotos, relacionadas a cada señal"
   ]
  },
  {
   "cell_type": "code",
   "execution_count": 3,
   "metadata": {},
   "outputs": [],
   "source": [
    "'''\n",
    "Descripcion: diccionario con los posibles valores de las imagenes, en relacion con el nombre de las carpetas.\n",
    "Entrada: -\n",
    "Salida: diccionario cuyas claves son el nombre de las carpetas, y los valores son las imagenes de las signals\n",
    "'''\n",
    "def crearDiccionarioDatos():\n",
    "    trafic_signals = {}\n",
    "    #para cada tipo de señal creamos una lista con sus ejemplos, y se la asignamos a su etiqueta de nombre de carpeta\n",
    "    for i in range(0,43):\n",
    "        if i<10:\n",
    "            folder = 'Dataset_traffic_sign/0000'+str(i)+'/*.png'\n",
    "            tipo = '0000'+str(i)\n",
    "        else:\n",
    "            folder = 'Dataset_traffic_sign/000'+str(i)+'/*.png'\n",
    "            tipo = '000'+str(i)\n",
    "        \n",
    "        images = [cv2.imread(file,0) for file in glob.glob(folder)]\n",
    "        images_mod = [] \n",
    "        for im in images:\n",
    "            #se aplica el resize\n",
    "            images_mod.append(cv2.resize(im, (100, 100), interpolation = cv2.INTER_NEAREST))\n",
    "\n",
    "        trafic_signals[tipo] = images_mod\n",
    "    return trafic_signals"
   ]
  },
  {
   "cell_type": "markdown",
   "metadata": {},
   "source": [
    "Creamos funciones para transformar imagenes en descriptores dependiendo del tipo que queramos.\n",
    "Hay de: HOG, Sift, Surf, Fast_Brief, ORB"
   ]
  },
  {
   "cell_type": "code",
   "execution_count": 4,
   "metadata": {},
   "outputs": [],
   "source": [
    "# HOG\n",
    "def hogMaker(images00000_mod):\n",
    "    fd, hog_image = hog(images00000_mod, orientations=8, pixels_per_cell=(16, 16),\n",
    "                        cells_per_block=(1, 1), visualize=True)\n",
    "    return fd\n",
    "\n",
    "\n",
    "# $Sift$\n",
    "#devuelve descriptor de Sift\n",
    "def siftMaker(images00000_mod):\n",
    "    sift = cv2.xfeatures2d.SIFT_create()\n",
    "    kp, des = sift.detectAndCompute(images00000_mod,None)\n",
    "    return des\n",
    "\n",
    "\n",
    "# $Surf$\n",
    "def surfmaker(images00000_mod):\n",
    "    surf = cv2.xfeatures2d.SURF_create(400)\n",
    "    kp, des = surf.detectAndCompute(images00000_mod,None)\n",
    "    return des\n",
    "\n",
    "# $Fast$ + $Brief$\n",
    "def fastbrief_Maker(images00000_mod):\n",
    "    fast = cv2.FastFeatureDetector_create()\n",
    "\n",
    "    # find and draw the keypoints\n",
    "    kp2 = fast.detect(images00000_mod,None)\n",
    "    img2 = cv2.drawKeypoints(images00000_mod, kp2, None, color=(255,0,0))\n",
    "\n",
    "    # Disable nonmaxSuppression\n",
    "    fast.setNonmaxSuppression(0)\n",
    "    kp3 = fast.detect(img2,None)\n",
    "\n",
    "    img3 = cv2.drawKeypoints(img2, kp3, None, color=(255,0,0))\n",
    "    brief = cv2.xfeatures2d.BriefDescriptorExtractor_create()\n",
    "\n",
    "    # Compute descriptors\n",
    "    kp, des = brief.compute(img3, kp3) #fast nonsup\n",
    "    return des\n",
    "\n",
    "\n",
    "# $ORB$\n",
    "def orbMaker(images00000_mod):\n",
    "    # Initiate ORB detector\n",
    "    orb = cv2.ORB_create()\n",
    "\n",
    "    # find the keypoints with ORB\n",
    "    kp = orb.detect(images00000_mod,None)\n",
    "\n",
    "    # compute the descriptors with ORB\n",
    "    kp, des = orb.compute(images00000_mod, kp)\n",
    "    return des"
   ]
  },
  {
   "cell_type": "markdown",
   "metadata": {},
   "source": [
    "Cogemos las imagenes y las separamos  en train y test, y decimos a que clase pertenecen"
   ]
  },
  {
   "cell_type": "code",
   "execution_count": 7,
   "metadata": {},
   "outputs": [],
   "source": [
    "'''\n",
    "Descripcion: Obtencion de train y test a partir de un conjunto de imágenes\n",
    "Entrada: trafic_signals, signals_types\n",
    "Salida: imagenesTrain,imagenesTest,ytrain,ytest\n",
    "'''\n",
    "def separaTrainTest(trafic_signals,signals_types):\n",
    "    imagenesTrain = None\n",
    "    imagenesTest = None\n",
    "    ytrain = None\n",
    "    ytest = None\n",
    "    \n",
    "    for signal,images in trafic_signals.items():\n",
    "        \n",
    "        aux_y_train = []\n",
    "        aux_y_test = []\n",
    "        \n",
    "        np_im = np.array(images)\n",
    "        n_train = int(0.6*np_im.shape[0])\n",
    "        n_test = np_im.shape[0]-n_train\n",
    "        \n",
    "        aux_train = np_im[:n_train]\n",
    "        aux_test = np_im[n_train:]\n",
    "        \n",
    "        for i in range(n_train):\n",
    "            aux_y_train.append(signals_types[signal])\n",
    "        for i in range(n_test):\n",
    "            aux_y_test.append(signals_types[signal])\n",
    "        \n",
    "        aux_y_train = np.array(aux_y_train).reshape(-1,1)\n",
    "        aux_y_test = np.array(aux_y_test).reshape(-1,1)\n",
    "        \n",
    "        if imagenesTrain is None:\n",
    "            imagenesTrain = aux_train\n",
    "            ytrain = aux_y_train\n",
    "            imagenesTest = aux_test\n",
    "            ytest = aux_y_test\n",
    "        else:\n",
    "            imagenesTrain = np.concatenate((imagenesTrain,aux_train),axis=0)\n",
    "            ytrain =  np.vstack((ytrain,aux_y_train))\n",
    "            imagenesTest = np.concatenate((imagenesTest,aux_test),axis=0)\n",
    "            ytest = np.vstack((ytest,aux_y_test))\n",
    "        \n",
    "    return imagenesTrain,imagenesTest,ytrain,ytest"
   ]
  },
  {
   "cell_type": "markdown",
   "metadata": {},
   "source": [
    "Creamos las caracteristicas con los datos que nos den y sus tipos"
   ]
  },
  {
   "cell_type": "code",
   "execution_count": 8,
   "metadata": {},
   "outputs": [],
   "source": [
    "\n",
    "def creaMatrizCaracteristicas(imagenes,carac_type, y=None ):\n",
    "    X = None\n",
    "    if y is not None:\n",
    "        y_nueva = []\n",
    "        \n",
    "    for i in range(imagenes.shape[0]):\n",
    "        if carac_type=='sift':\n",
    "            d = siftMaker(imagenes[i])\n",
    "        elif carac_type=='surf':\n",
    "            d = surfmaker(imagenes[i])\n",
    "        elif carac_type=='fast_brief':\n",
    "            d = fastbrief_Maker(imagenes[i])\n",
    "        elif carac_type=='orb':\n",
    "            d = orbMaker(imagenes[i])\n",
    "        elif carac_type=='hog':\n",
    "            d = hogMaker(imagenes[i])\n",
    "        else: #en caso de recibir un valor que no es valido\n",
    "            try:\n",
    "                raise ValueError\n",
    "            except ValueError:\n",
    "                print(\"valor incorrecto\")\n",
    "        \n",
    "        if d is not None:\n",
    "            if y is not None:\n",
    "                y_nueva.append(y[i])\n",
    "            if X is None:\n",
    "                X = d\n",
    "            else:\n",
    "                X = np.vstack((X,d))\n",
    "    if y is not None:\n",
    "        return X, np.array(y_nueva)\n",
    "    else:\n",
    "        return X"
   ]
  },
  {
   "cell_type": "code",
   "execution_count": 9,
   "metadata": {},
   "outputs": [],
   "source": [
    "trafic_signals = crearDiccionarioDatos() #creacion del diccionario de datos\n",
    "signals_types = devolverDiccionarioEtiquetas() #creacion de diccionario que contiene nombre de carpetas y tipos de signals\n",
    "carac_type = 'hog' #el tipo elegido para los descriptores va a ser Hog"
   ]
  },
  {
   "cell_type": "code",
   "execution_count": 10,
   "metadata": {},
   "outputs": [],
   "source": [
    "imagenesTrain,imagenesTest,ytrain,ytest = separaTrainTest(trafic_signals,signals_types)\n",
    "Xtrain, Ytrain = creaMatrizCaracteristicas(imagenesTrain,carac_type,ytrain)\n",
    "Xtest, Ytest = creaMatrizCaracteristicas(imagenesTest,carac_type,ytest)"
   ]
  },
  {
   "cell_type": "code",
   "execution_count": 11,
   "metadata": {},
   "outputs": [
    {
     "data": {
      "text/plain": [
       "((739, 100, 100), (525, 100, 100), (739, 1), (525, 1))"
      ]
     },
     "execution_count": 11,
     "metadata": {},
     "output_type": "execute_result"
    }
   ],
   "source": [
    "imagenesTrain.shape,imagenesTest.shape,ytrain.shape,ytest.shape"
   ]
  },
  {
   "cell_type": "code",
   "execution_count": 12,
   "metadata": {},
   "outputs": [
    {
     "data": {
      "text/plain": [
       "((739, 288), (739, 1), (525, 288), (525, 1))"
      ]
     },
     "execution_count": 12,
     "metadata": {},
     "output_type": "execute_result"
    }
   ],
   "source": [
    "Xtrain.shape, Ytrain.shape,Xtest.shape, Ytest.shape"
   ]
  },
  {
   "cell_type": "markdown",
   "metadata": {},
   "source": [
    "# 3.Creación de Modelo de Predicción"
   ]
  },
  {
   "cell_type": "markdown",
   "metadata": {},
   "source": [
    "A continuación se implementarán dos modelos de ML como son regresión logísitica y SVM para dar solución al problema."
   ]
  },
  {
   "cell_type": "markdown",
   "metadata": {},
   "source": [
    "# 4.Regresión logística"
   ]
  },
  {
   "cell_type": "markdown",
   "metadata": {},
   "source": [
    "Si 𝑛 es grande (relativo a m), siendo n el número de características y m el número de ejemplos se recomienda usar regresión logística. Como este no es el caso, el resultado que se obtendrá no será el óptimo. Tal como se mostrará a continuación..."
   ]
  },
  {
   "cell_type": "code",
   "execution_count": 13,
   "metadata": {},
   "outputs": [],
   "source": [
    "# esta funcion nos ayudará a cambiar los valores de Y para la regresion logistica\n",
    "def transformarY(y, signal):\n",
    "    aux = np.copy(y)\n",
    "    Y = np.zeros(y.shape[0]).reshape(-1,1)\n",
    "    \n",
    "    Y[aux != np.array([signal])] = 0\n",
    "    Y[aux == np.array([signal])] = 1\n",
    "    \n",
    "    return Y.reshape(-1)"
   ]
  },
  {
   "cell_type": "markdown",
   "metadata": {},
   "source": [
    "Sacamos para el ejemplo de descriptor los porcentajes de aciertos."
   ]
  },
  {
   "cell_type": "code",
   "execution_count": 14,
   "metadata": {},
   "outputs": [],
   "source": [
    "predicctionsTest = []\n",
    "final_signals = []\n",
    "\n",
    "for k,s in signals_types.items():\n",
    "    Ytrain_T = transformarY(Ytrain,s)\n",
    "    Ytest_T = transformarY(Ytest,s)\n",
    "    clf = LogisticRegression(random_state=0,solver='lbfgs',max_iter=10000).fit(Xtrain, Ytrain_T)\n",
    "    #prediccionTrain = clf.predict(Xtrain)\n",
    "    prediccionTest = clf.predict(Xtest)\n",
    "    #scoreTrain = clf.score(Xtrain, Ytrain_T)\n",
    "    scoreTest = clf.score(Xtest, Ytest_T)\n",
    "    \n",
    "#   print(f\"La precision del clasificador en TRAIN: {np.round(scoreTrain,2)} en TEST: {scoreTest} para {s}\")\n",
    "    \n",
    "#    predicctionsTrain.append(np.round(scoreTrain,2))\n",
    "    predicctionsTest.append(np.round(scoreTest,2))\n",
    "    final_signals.append(s)"
   ]
  },
  {
   "cell_type": "code",
   "execution_count": 15,
   "metadata": {},
   "outputs": [
    {
     "data": {
      "image/png": "[encoded data removed]",
      "text/plain": [
       "<Figure size 1440x720 with 1 Axes>"
      ]
     },
     "metadata": {
      "needs_background": "light"
     },
     "output_type": "display_data"
    }
   ],
   "source": [
    "sig = np.arange(len(final_signals))\n",
    "plt.figure(figsize=(20,10))\n",
    "#plt.plot(sig,predicctionsTrain,label='Resultados para Train')\n",
    "plt.plot(sig,predicctionsTest,label='Resultados para Test')\n",
    "plt.xlabel('numero signal')\n",
    "plt.ylabel('precision')\n",
    "plt.grid()\n",
    "plt.legend(loc=4)\n",
    "plt.show()"
   ]
  },
  {
   "cell_type": "code",
   "execution_count": 16,
   "metadata": {},
   "outputs": [],
   "source": [
    "# funcion que no ayudará a cambiar de un numero a el string correspondiente relacionado a la señal\n",
    "def deNumeroASignal(num):\n",
    "    if num<10:\n",
    "        tipo = '0000'+str(num)\n",
    "    else:\n",
    "        tipo = '000'+str(num)\n",
    "    return tipo"
   ]
  },
  {
   "cell_type": "markdown",
   "metadata": {},
   "source": [
    "Probado el ejemplo. Entrenamos para los diferentes tipos de descripciones y escogemos el mejor"
   ]
  },
  {
   "cell_type": "code",
   "execution_count": 17,
   "metadata": {},
   "outputs": [],
   "source": [
    "def getSignalsLogPredicction(Xtrain,Ytrain,signals_types,carac_type):\n",
    "        \n",
    "    predicctionsTrain = []\n",
    "    final_signals = []\n",
    "    modelos = []\n",
    "\n",
    "    for k,s in signals_types.items():\n",
    "        Ytrain_T = transformarY(Ytrain,s)\n",
    "        if not(np.any(Ytrain_T==1)):\n",
    "            predicctionsTrain.append(0)\n",
    "            final_signals.append(s)\n",
    "            modelos.append(None)\n",
    "        else:\n",
    "            clf = LogisticRegression(random_state=0,solver='lbfgs',max_iter=10000).fit(Xtrain, Ytrain_T)\n",
    "            prediccionTrain = clf.predict(Xtrain)\n",
    "            scoreTrain = clf.score(Xtrain, Ytrain_T)\n",
    "            predicctionsTrain.append((scoreTrain))\n",
    "            final_signals.append(s)\n",
    "            modelos.append(clf)\n",
    "    \n",
    "    predMediaTrain = sum(predicctionsTrain)/len(predicctionsTrain)\n",
    "    \n",
    "    print(f'Prediccion media TRAIN: {predMediaTrain} para {carac_type}')\n",
    "    \n",
    "    return modelos,predMediaTrain,np.array(predicctionsTrain)"
   ]
  },
  {
   "cell_type": "code",
   "execution_count": 18,
   "metadata": {},
   "outputs": [
    {
     "name": "stdout",
     "output_type": "stream",
     "text": [
      "Prediccion media TRAIN: 0.9928249992132681 para hog\n"
     ]
    }
   ],
   "source": [
    "typeDescriptors = ['hog']# Se le podria pasar todo esto: ['sift','surf','fast_brief','orb','hog']\n",
    "trafic_signals = crearDiccionarioDatos()\n",
    "signals_types = devolverDiccionarioEtiquetas()\n",
    "bestypeDes = None\n",
    "Modelos = None\n",
    "bestXtest = None\n",
    "bestYtrain = None\n",
    "bestPrediccionTrain = 0\n",
    "prediccionesPorSignal = None\n",
    "\n",
    "for carac_type in typeDescriptors:\n",
    "    \n",
    "    Xtrain,Ytrain = creaMatrizCaracteristicas(imagenesTrain,carac_type,ytrain)\n",
    "    \n",
    "    modelos, prediccionTrain, predicctionsTrain = getSignalsLogPredicction(Xtrain,Ytrain,signals_types,carac_type)\n",
    "    \n",
    "    if bestPrediccionTrain < prediccionTrain:\n",
    "        Modelos = modelos\n",
    "        bestypeDes = carac_type\n",
    "        prediccionesPorSignal = predicctionsTrain"
   ]
  },
  {
   "cell_type": "markdown",
   "metadata": {},
   "source": [
    "Ahora probamos el modelo con las imagenes separadas para el test."
   ]
  },
  {
   "cell_type": "markdown",
   "metadata": {},
   "source": [
    "Probamos primero con una imagen."
   ]
  },
  {
   "cell_type": "code",
   "execution_count": 19,
   "metadata": {},
   "outputs": [],
   "source": [
    "def probarClasificador(n,Modelos, imagenesTrain,bestypeDes,signals_types):\n",
    "    plt.figure()\n",
    "    plt.imshow(imagenesTrain[n])\n",
    "    plt.show()\n",
    "\n",
    "    y_imagen = np.zeros(len(Modelos))\n",
    "\n",
    "    #transformar imagen en des\n",
    "    d = creaMatrizCaracteristicas(np.array([imagenesTrain[n]]), bestypeDes)\n",
    "    d = np.array(d).reshape(1,-1)\n",
    "\n",
    "    # predecir des\n",
    "    ii = 0\n",
    "    for m in Modelos:\n",
    "        if m is not None:\n",
    "            y_imagen[ii] = m.predict(d)\n",
    "            ii+=1\n",
    "\n",
    "    #sacar resultado\n",
    "    pred = np.argwhere(y_imagen==1)\n",
    "    if pred.size>1:\n",
    "        a = deNumeroASignal(pred[np.argmax(prediccionesPorSignal[pred])])\n",
    "        print(signals_types[a])\n",
    "    elif pred.size == 1:\n",
    "        a = deNumeroASignal(pred[0][0])\n",
    "        print(signals_types[a])"
   ]
  },
  {
   "cell_type": "code",
   "execution_count": 20,
   "metadata": {},
   "outputs": [
    {
     "name": "stdout",
     "output_type": "stream",
     "text": [
      "--------------------------------------------------------------------------\n",
      "Introduce el numero de imagen que quieras clasificar: 67\n",
      "Tu imagen a clasificar es la numero 67\n",
      "--------------------------------------------------------------------------\n"
     ]
    },
    {
     "data": {
      "image/png": "[encoded data removed]",
      "text/plain": [
       "<Figure size 432x288 with 1 Axes>"
      ]
     },
     "metadata": {
      "needs_background": "light"
     },
     "output_type": "display_data"
    },
    {
     "name": "stdout",
     "output_type": "stream",
     "text": [
      "VelocidadMaxima50\n"
     ]
    }
   ],
   "source": [
    "print(\"--------------------------------------------------------------------------\")\n",
    "n  = (int)(input(\"Introduce el numero de imagen que quieras clasificar: \"))\n",
    "print(f\"Tu imagen a clasificar es la numero {n}\")\n",
    "print(\"--------------------------------------------------------------------------\")\n",
    "\n",
    "probarClasificador(n,Modelos, imagenesTrain,bestypeDes,signals_types)"
   ]
  },
  {
   "cell_type": "markdown",
   "metadata": {},
   "source": [
    "Veamos pues,  la tasa de acierto de predicciones con las imagenes separadas para TEST con el mejor tipo de descriptor (todo el conjunto)"
   ]
  },
  {
   "cell_type": "code",
   "execution_count": 21,
   "metadata": {},
   "outputs": [
    {
     "name": "stdout",
     "output_type": "stream",
     "text": [
      "La prediccion media de test tiene un acierto del 0.9860465116279066\n"
     ]
    }
   ],
   "source": [
    "\n",
    "prediccionTestmatriz =  np.zeros((Xtest.shape[0], len(modelos)))\n",
    "\n",
    "contador = 0\n",
    "for modelo in Modelos:\n",
    "    prediccionTest = modelo.predict(Xtest)\n",
    "#     print(prediccionTest.shape)\n",
    "    prediccionTestmatriz[:,contador] = prediccionTest\n",
    "    contador += 1\n",
    "    \n",
    "print(f\"La prediccion media de test tiene un acierto del {sum(predicctionsTest)/(len(predicctionsTest))}\")"
   ]
  },
  {
   "cell_type": "code",
   "execution_count": 22,
   "metadata": {},
   "outputs": [
    {
     "data": {
      "text/plain": [
       "(525, 43)"
      ]
     },
     "execution_count": 22,
     "metadata": {},
     "output_type": "execute_result"
    }
   ],
   "source": [
    "prediccionTestmatriz.shape"
   ]
  },
  {
   "cell_type": "code",
   "execution_count": 23,
   "metadata": {},
   "outputs": [
    {
     "data": {
      "text/plain": [
       "array([False,  True,  True,  True,  True,  True, False,  True,  True,\n",
       "        True,  True,  True,  True,  True,  True, False,  True,  True,\n",
       "        True, False, False, False, False, False, False,  True,  True,\n",
       "       False, False, False, False,  True, False, False, False,  True,\n",
       "        True, False,  True,  True, False, False, False])"
      ]
     },
     "execution_count": 23,
     "metadata": {},
     "output_type": "execute_result"
    }
   ],
   "source": [
    "np.any(prediccionTestmatriz==1,axis=0) "
   ]
  },
  {
   "cell_type": "code",
   "execution_count": 24,
   "metadata": {},
   "outputs": [
    {
     "data": {
      "text/plain": [
       "array([0.99594046, 0.98511502, 0.97834912, 0.98105548, 0.9932341 ,\n",
       "       0.96887686, 0.9932341 , 0.9932341 , 0.98511502, 0.99052774,\n",
       "       0.9932341 , 0.9932341 , 1.        , 1.        , 0.99594046,\n",
       "       0.99052774, 0.99458728, 1.        , 0.99458728, 0.99594046,\n",
       "       0.99729364, 0.9932341 , 0.9932341 , 0.98782138, 0.99458728,\n",
       "       0.9864682 , 0.99052774, 0.99458728, 0.99052774, 0.99458728,\n",
       "       0.99052774, 0.99594046, 1.        , 0.99594046, 0.99458728,\n",
       "       0.99864682, 0.99594046, 0.99594046, 1.        , 0.99594046,\n",
       "       0.99188092, 0.99594046, 0.99458728])"
      ]
     },
     "execution_count": 24,
     "metadata": {},
     "output_type": "execute_result"
    }
   ],
   "source": [
    "prediccionesPorSignal"
   ]
  },
  {
   "cell_type": "markdown",
   "metadata": {},
   "source": [
    "Es un resultado bastante optimista, probamos a analizar la tasa de acierto de otra manera"
   ]
  },
  {
   "cell_type": "code",
   "execution_count": 25,
   "metadata": {},
   "outputs": [
    {
     "data": {
      "text/plain": [
       "array([[0., 0., 0., ..., 0., 0., 0.],\n",
       "       [0., 0., 0., ..., 0., 0., 0.],\n",
       "       [0., 0., 0., ..., 0., 0., 0.],\n",
       "       ...,\n",
       "       [0., 0., 0., ..., 0., 0., 0.],\n",
       "       [0., 0., 0., ..., 0., 0., 0.],\n",
       "       [0., 0., 0., ..., 0., 0., 0.]])"
      ]
     },
     "execution_count": 25,
     "metadata": {},
     "output_type": "execute_result"
    }
   ],
   "source": [
    "prediccionTestmatriz"
   ]
  },
  {
   "cell_type": "markdown",
   "metadata": {},
   "source": [
    "$Debido$ $a$ $problemas$ $técnicos$ que desconocemos, nos hemos visto forzados a poner una imagen con el resultado obtenido de la versión anterior, para demostrar que el porcentaje de aciertos en test es realmente bajo"
   ]
  },
  {
   "cell_type": "code",
   "execution_count": 31,
   "metadata": {},
   "outputs": [],
   "source": [
    "problematecnico = cv2.imread('ResultadoRegresionLogistica.png')\n",
    "cv2.imshow('resultadoRegLogistica',problematecnico)\n",
    "cv2.waitKey(0)\n",
    "cv2.destroyAllWindows()"
   ]
  },
  {
   "cell_type": "code",
   "execution_count": null,
   "metadata": {},
   "outputs": [],
   "source": [
    "\n",
    "'''\n",
    "filas = prediccionTestmatriz.shape[0]\n",
    "soluciones = [] #lista de soluciones que se han predicho\n",
    "\n",
    "for i in range(filas):\n",
    "    aux = prediccionTestmatriz[i,:] #se obtiene la fila de la matriz\n",
    "    #ERROR ESTA AQUI!!!\n",
    "    posicionesUnos = (np.where(aux==1)[0]) #se obtienen las posiciones unos\n",
    "    signalPredicha = (np.argmax(prediccionesPorSignal[posicionesUnos]))\n",
    "    nombreSignals= deNumeroASignal(posicionesUnos[signalPredicha])\n",
    "    soluciones.append(signals_types[nombreSignals])\n",
    "    \n",
    "    \n",
    "ytestComparar = list(ytest)\n",
    "\n",
    "\n",
    "aciertos =  0\n",
    "for i in range(len(ytestComparar)):\n",
    "    if ytestComparar[i] == soluciones[i]:\n",
    "        aciertos+=1\n",
    "        \n",
    "porcentajeAciertos = ( aciertos/(len(soluciones)) )*100\n",
    "print(f\"El porcentaje de aciertos es {porcentajeAciertos}\")\n",
    "\n",
    "\n",
    "'''"
   ]
  },
  {
   "cell_type": "markdown",
   "metadata": {},
   "source": [
    "Vemos que el resultado no es tan bueno como imaginabamos. "
   ]
  },
  {
   "cell_type": "markdown",
   "metadata": {},
   "source": [
    "# 5.SVM"
   ]
  },
  {
   "cell_type": "markdown",
   "metadata": {},
   "source": [
    "Las máquinas de vectores de soporte o máquinas de vector soporte (del inglés Support Vector Machines, SVM) son un conjunto de algoritmos de aprendizaje supervisado desarrollados por Vladimir Vapnik y su equipo en los laboratorios AT&T."
   ]
  },
  {
   "cell_type": "markdown",
   "metadata": {},
   "source": [
    "Estos métodos están propiamente relacionados con problemas de clasificación y regresión. Dado un conjunto de ejemplos de entrenamiento (de muestras) podemos etiquetar las clases y entrenar una SVM para construir un modelo que prediga la clase de una nueva muestra."
   ]
  },
  {
   "cell_type": "markdown",
   "metadata": {},
   "source": [
    "$Idea$:\n",
    "\n",
    "Dado un conjunto de puntos, subconjunto de un conjunto mayor (espacio), en el que cada uno de ellos pertenece a una de dos posibles categorías, un algoritmo basado en SVM construye un modelo capaz de predecir si un punto nuevo (cuya categoría desconocemos) pertenece a una categoría o a la otra.\n",
    "\n",
    "Como en la mayoría de los métodos de clasificación supervisada, los datos de entrada (los puntos) son vistos como un vector p-dimensional (una lista ordenada de p números).\n",
    "\n",
    "La SVM busca un hiperplano que separe de forma óptima a los puntos de una clase de la de otra, que eventualmente han podido ser previamente proyectados a un espacio de dimensionalidad superior."
   ]
  },
  {
   "cell_type": "code",
   "execution_count": 26,
   "metadata": {},
   "outputs": [
    {
     "name": "stderr",
     "output_type": "stream",
     "text": [
      "C:\\Users\\alemt\\anaconda3\\envs\\py37vision\\lib\\site-packages\\sklearn\\model_selection\\_split.py:1978: FutureWarning: The default value of cv will change from 3 to 5 in version 0.22. Specify it explicitly to silence this warning.\n",
      "  warnings.warn(CV_WARNING, FutureWarning)\n",
      "C:\\Users\\alemt\\anaconda3\\envs\\py37vision\\lib\\site-packages\\sklearn\\model_selection\\_search.py:813: DeprecationWarning: The default of the `iid` parameter will change from True to False in version 0.22 and will be removed in 0.24. This will change numeric results when test-set sizes are unequal.\n",
      "  DeprecationWarning)\n"
     ]
    },
    {
     "name": "stdout",
     "output_type": "stream",
     "text": [
      "Classification report for - \n",
      "GridSearchCV(cv='warn', error_score='raise-deprecating',\n",
      "             estimator=SVC(C=1.0, cache_size=200, class_weight=None, coef0=0.0,\n",
      "                           decision_function_shape='ovr', degree=3,\n",
      "                           gamma='auto_deprecated', kernel='rbf', max_iter=-1,\n",
      "                           probability=False, random_state=None, shrinking=True,\n",
      "                           tol=0.001, verbose=False),\n",
      "             iid='warn', n_jobs=None,\n",
      "             param_grid=[{'C': [1, 10, 100, 1000], 'kernel': ['linear']},\n",
      "                         {'C': [1, 10, 100, 1000], 'gamma': [0.001, 0.0001],\n",
      "                          'kernel': ['rbf']}],\n",
      "             pre_dispatch='2*n_jobs', refit=True, return_train_score=False,\n",
      "             scoring=None, verbose=0):\n",
      "                                         precision    recall  f1-score   support\n",
      "\n",
      "                AdelantamientoProhibido       0.80      1.00      0.89        20\n",
      "    AdelantamientoProhibidoParaCamiones       0.96      0.96      0.96        27\n",
      "                    CalzadaConPrioridad       0.97      1.00      0.98        28\n",
      "                             CedaElPaso       1.00      0.97      0.98        29\n",
      "                   CirculacionProhibida       0.75      0.75      0.75         8\n",
      "           CurvaPeligrosaHaciaLaDerecha       0.40      0.40      0.40         5\n",
      "         CurvaPeligrosaHaciaLaIzquierda       0.00      0.00      0.00         3\n",
      "       CurvasPeligrosasHaciaLaIzquierda       0.67      0.50      0.57         4\n",
      "                   DetencionObligatoria       1.00      1.00      1.00        10\n",
      "           DirPermitidasRectoEIzquierda       1.00      1.00      1.00         3\n",
      "             DirPermitidasRectoYDerecha       1.00      0.80      0.89         5\n",
      "                       EntradaProhibida       1.00      0.93      0.97        15\n",
      "   EntradaProhibidaAVehiculosMercancias       1.00      1.00      1.00         6\n",
      "                EntradaProhibidasCiclos       0.00      0.00      0.00         4\n",
      "        EstrechamientoCalzadaPorDerecha       0.00      0.00      0.00         4\n",
      "                     FinDeProhibiciones       1.00      0.33      0.50         3\n",
      "           FinProhibicionAdelantamiento       0.00      0.00      0.00         3\n",
      "   FinProhibicionAdelantamientoCamiones       0.60      1.00      0.75         3\n",
      "                   FinVelocidadMaxima80       1.00      1.00      1.00         6\n",
      "               InterseccionConPrioridad       0.70      0.78      0.74        18\n",
      "InterseccionSentidoObligatorioGiratorio       0.60      0.60      0.60         5\n",
      "                                   Kids       0.33      0.57      0.42         7\n",
      "                                  Obras       0.64      0.90      0.75        20\n",
      "                          OtrosPeligros       0.75      0.94      0.83        16\n",
      "               PasoDeAnimalesEnLibertad       1.00      0.90      0.95        10\n",
      "                         PasoDePeatones       0.00      0.00      0.00         3\n",
      "                 PasoObligatorioDerecha       1.00      0.96      0.98        28\n",
      "               PasoObligatorioizquierda       1.00      1.00      1.00         4\n",
      "                    PavimentoDeslizante       0.33      0.14      0.20         7\n",
      "          PavimentoDeslizanteNieveHielo       0.75      0.50      0.60         6\n",
      "                        PerfilIrregular       0.83      1.00      0.91         5\n",
      "                              Semaforos       0.71      0.62      0.67         8\n",
      "                     SentidoObligatorio       0.94      0.94      0.94        16\n",
      "              SentidoObligatorioDerecha       1.00      0.78      0.88         9\n",
      "            SentidoObligatorioIzquierda       0.80      0.67      0.73         6\n",
      "                     VelocidadMaxima100       0.69      0.95      0.80        19\n",
      "                     VelocidadMaxima120       0.83      0.79      0.81        19\n",
      "                      VelocidadMaxima20       1.00      0.33      0.50         3\n",
      "                      VelocidadMaxima30       0.79      0.77      0.78        30\n",
      "                      VelocidadMaxima50       0.92      0.73      0.81        30\n",
      "                      VelocidadMaxima60       0.82      0.95      0.88        19\n",
      "                      VelocidadMaxima70       0.96      0.96      0.96        26\n",
      "                      VelocidadMaxima80       0.79      0.88      0.83        25\n",
      "\n",
      "                               accuracy                           0.83       525\n",
      "                              macro avg       0.73      0.70      0.70       525\n",
      "                           weighted avg       0.82      0.83      0.82       525\n",
      "\n",
      "\n"
     ]
    },
    {
     "name": "stderr",
     "output_type": "stream",
     "text": [
      "C:\\Users\\alemt\\anaconda3\\envs\\py37vision\\lib\\site-packages\\sklearn\\metrics\\classification.py:1437: UndefinedMetricWarning: Precision and F-score are ill-defined and being set to 0.0 in labels with no predicted samples.\n",
      "  'precision', 'predicted', average, warn_for)\n"
     ]
    }
   ],
   "source": [
    "param_grid = [\n",
    "  {'C': [1, 10, 100, 1000], 'kernel': ['linear']},\n",
    "  {'C': [1, 10, 100, 1000], 'gamma': [0.001, 0.0001], 'kernel': ['rbf']},]\n",
    "svc = svm.SVC()\n",
    "clf = GridSearchCV(svc, param_grid)\n",
    "clf.fit(Xtrain, ytrain.ravel())\n",
    "y_pred = clf.predict(Xtest)\n",
    "print(\"Classification report for - \\n{}:\\n{}\\n\".format(clf, metrics.classification_report(ytest.ravel(), y_pred)))"
   ]
  },
  {
   "cell_type": "markdown",
   "metadata": {},
   "source": [
    "De manera manual vemos la tasa de acierto y comparamos."
   ]
  },
  {
   "cell_type": "code",
   "execution_count": 27,
   "metadata": {},
   "outputs": [
    {
     "name": "stdout",
     "output_type": "stream",
     "text": [
      "El porcentaje de aciertos es 83.23809523809523%\n"
     ]
    }
   ],
   "source": [
    "ytestCompararSVM = (y_pred)\n",
    "\n",
    "aciertosSVM =  0\n",
    "for i in range(len(ytestCompararSVM)):\n",
    "    if ytestCompararSVM[i] == ytest[i]:\n",
    "        aciertosSVM+=1\n",
    "        \n",
    "porcentajeAciertosSVM = ( aciertosSVM/(len(ytestCompararSVM)) )*100\n",
    "print(f\"El porcentaje de aciertos es {porcentajeAciertosSVM}%\")"
   ]
  },
  {
   "cell_type": "markdown",
   "metadata": {},
   "source": [
    "Vemos que es lo que decia en los datos como \"accuracy\""
   ]
  },
  {
   "cell_type": "code",
   "execution_count": 28,
   "metadata": {},
   "outputs": [],
   "source": [
    "def predecirImagenSVM(imagen,carac_type,clf):\n",
    "    \n",
    "#     transformar imagen en des\n",
    "    d = creaMatrizCaracteristicas(np.array([imagen]), carac_type)\n",
    "    d = np.array(d).reshape(1,-1)\n",
    "    return clf.predict(d)"
   ]
  },
  {
   "cell_type": "markdown",
   "metadata": {},
   "source": [
    "Probamos con un ejemplo"
   ]
  },
  {
   "cell_type": "code",
   "execution_count": 29,
   "metadata": {},
   "outputs": [
    {
     "name": "stdout",
     "output_type": "stream",
     "text": [
      "¿Desea probar el clasificador? (si/no)si\n",
      "Introduce un numero de imagen para probar: 56\n",
      "Tu numero de imagen para probar es la numero 56\n"
     ]
    },
    {
     "data": {
      "image/png": "[encoded data removed]",
      "text/plain": [
       "<Figure size 432x288 with 1 Axes>"
      ]
     },
     "metadata": {
      "needs_background": "light"
     },
     "output_type": "display_data"
    },
    {
     "name": "stdout",
     "output_type": "stream",
     "text": [
      "¿Desea seguir probando el clasificador? (si/no)si\n",
      "Introduce un numero de imagen para probar: 89\n",
      "Tu numero de imagen para probar es la numero 89\n"
     ]
    },
    {
     "data": {
      "image/png": "[encoded data removed]",
      "text/plain": [
       "<Figure size 432x288 with 1 Axes>"
      ]
     },
     "metadata": {
      "needs_background": "light"
     },
     "output_type": "display_data"
    },
    {
     "name": "stdout",
     "output_type": "stream",
     "text": [
      "¿Desea seguir probando el clasificador? (si/no)no\n",
      "Hasta la proxima!!\n"
     ]
    }
   ],
   "source": [
    "#pequeña celda para interactuar con el clasificador\n",
    "\n",
    "caracter = input(\"¿Desea probar el clasificador? (si/no)\")\n",
    "\n",
    "if caracter == \"no\":\n",
    "    print(\"Hasta la proxima!!\")\n",
    "elif caracter == \"si\":\n",
    "    while(caracter == \"si\"):\n",
    "        numeroImagen = (int)(input(\"Introduce un numero de imagen para probar: \"))\n",
    "        print(f\"Tu numero de imagen para probar es la numero {numeroImagen}\")\n",
    "        res = predecirImagenSVM(imagenesTest[numeroImagen],carac_type,clf)\n",
    "        plt.figure()\n",
    "        plt.imshow(imagenesTest[numeroImagen])\n",
    "        lab = 'Precision' + str(np.round(porcentajeAciertosSVM,2))+'%\\n'+ res[0]\n",
    "        plt.xlabel(lab)\n",
    "        plt.show()\n",
    "        caracter = input(\"¿Desea seguir probando el clasificador? (si/no)\")\n",
    "        if caracter == \"no\":\n",
    "            print(\"Hasta la proxima!!\")\n",
    "            break"
   ]
  },
  {
   "cell_type": "markdown",
   "metadata": {},
   "source": [
    "Para finalizar, guiados por la tasa superior de aciertos, escogemos las SVMs como modelo de predicción para este proyecto."
   ]
  }
 ],
 "metadata": {
  "kernelspec": {
   "display_name": "Python 3",
   "language": "python",
   "name": "python3"
  },
  "language_info": {
   "codemirror_mode": {
    "name": "ipython",
    "version": 3
   },
   "file_extension": ".py",
   "mimetype": "text/x-python",
   "name": "python",
   "nbconvert_exporter": "python",
   "pygments_lexer": "ipython3",
   "version": "3.7.4"
  }
 },
 "nbformat": 4,
 "nbformat_minor": 2
}
