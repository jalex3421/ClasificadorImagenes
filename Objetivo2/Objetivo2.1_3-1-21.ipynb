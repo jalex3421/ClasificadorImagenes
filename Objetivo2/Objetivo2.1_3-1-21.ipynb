{
 "cells": [
  {
   "cell_type": "markdown",
   "metadata": {},
   "source": [
    "# Objetivo 2.1"
   ]
  },
  {
   "cell_type": "markdown",
   "metadata": {},
   "source": [
    "# Autores\n",
    "David Rodríguez , Alejandro Meza"
   ]
  },
  {
   "cell_type": "markdown",
   "metadata": {},
   "source": [
    "# Índice de la práctica\n",
    "\n",
    "- [1.Introducción](#1.Introducción)\n",
    "- [2.Creación de datos](#2.Creación-de-datos)\n",
    "- [3.Creación de Modelo de Predicción](#3.Creación-de-Modelo-de-Predicción)"
   ]
  },
  {
   "cell_type": "code",
   "execution_count": 282,
   "metadata": {},
   "outputs": [],
   "source": [
    "import cv2\n",
    "import glob\n",
    "import skimage\n",
    "\n",
    "\n",
    "#Librerias contornos \n",
    "import numpy as np\n",
    "from skimage.io import imread, imshow\n",
    "import matplotlib.pyplot as plt\n",
    "%matplotlib inline\n",
    "from skimage.feature import hog\n",
    "from skimage import data, exposure\n",
    "\n",
    "#Machine Learning\n",
    "from scipy.optimize import minimize\n",
    "import sklearn.metrics as metrics\n",
    "from sklearn.model_selection import GridSearchCV\n",
    "from sklearn import svm"
   ]
  },
  {
   "cell_type": "markdown",
   "metadata": {},
   "source": [
    "# 1.Introducción"
   ]
  },
  {
   "cell_type": "markdown",
   "metadata": {},
   "source": [
    "Para cumplir el objetivo 1, lo hemos dividido en tareas:\n",
    "\n",
    "||||||||||||||||||||||||||||||||||||||||||||||||||||||||||||||||||||||"
   ]
  },
  {
   "cell_type": "markdown",
   "metadata": {},
   "source": [
    "# 2.Creación de datos"
   ]
  },
  {
   "cell_type": "markdown",
   "metadata": {},
   "source": [
    "Se va a crear la matriz X, que es la que contiene las imágenes (se crea un dataset). Creamos metodos que nos ayudaran a conseguir nuestro objetivo."
   ]
  },
  {
   "cell_type": "code",
   "execution_count": 283,
   "metadata": {},
   "outputs": [],
   "source": [
    "'''\n",
    "Descripcion: diccionario con los posibles valores de las imagenes, en relacion con el nombre de las carpetas.\n",
    "Entrada: -\n",
    "Salida: diccionario cuyas claves son el nombre de las carpetas, y los valores son el tipo de signals que contiene.\n",
    "'''\n",
    "def devolverDiccionarioEtiquetasSign():\n",
    "    \n",
    "    diccionarioValores = {}\n",
    "    diccionarioValores['00000'] = 'VelocidadMaxima20'\n",
    "    diccionarioValores['00001'] = 'VelocidadMaxima30'\n",
    "    diccionarioValores['00002'] = 'VelocidadMaxima50'\n",
    "    diccionarioValores['00003'] = 'VelocidadMaxima60'\n",
    "    diccionarioValores['00004'] = 'VelocidadMaxima70'\n",
    "    diccionarioValores['00005'] = 'VelocidadMaxima80'\n",
    "    diccionarioValores['00006'] = 'FinVelocidadMaxima80'\n",
    "    diccionarioValores['00007'] = 'VelocidadMaxima100'\n",
    "    diccionarioValores['00008'] = 'VelocidadMaxima120'\n",
    "    diccionarioValores['00009'] = 'AdelantamientoProhibido'\n",
    "    diccionarioValores['00010'] = 'AdelantamientoProhibidoParaCamiones'\n",
    "\n",
    "    diccionarioValores['00011'] = 'InterseccionConPrioridad'\n",
    "    diccionarioValores['00012'] = 'CalzadaConPrioridad'\n",
    "    diccionarioValores['00013'] = 'CedaElPaso'\n",
    "    diccionarioValores['00014'] = 'DetencionObligatoria'\n",
    "    diccionarioValores['00015'] = 'CirculacionProhibida'\n",
    "    diccionarioValores['00016'] = 'EntradaProhibidaAVehiculosMercancias'\n",
    "    diccionarioValores['00017'] = 'EntradaProhibida'\n",
    "    diccionarioValores['00018'] = 'OtrosPeligros'\n",
    "    diccionarioValores['00019'] = 'CurvaPeligrosaHaciaLaIzquierda'\n",
    "    diccionarioValores['00020'] = 'CurvaPeligrosaHaciaLaDerecha'\n",
    "\n",
    "    diccionarioValores['00021'] = 'CurvasPeligrosasHaciaLaIzquierda'\n",
    "    diccionarioValores['00022'] = 'PerfilIrregular'\n",
    "    diccionarioValores['00023'] = 'PavimentoDeslizante'\n",
    "    diccionarioValores['00024'] = 'EstrechamientoCalzadaPorDerecha'\n",
    "    diccionarioValores['00025'] = 'Obras'\n",
    "    diccionarioValores['00026'] = 'Semaforos'\n",
    "    diccionarioValores['00027'] = 'PasoDePeatones'\n",
    "    diccionarioValores['00028'] = 'Kids'\n",
    "    diccionarioValores['00029'] = 'EntradaProhibidasCiclos'\n",
    "    diccionarioValores['00030'] = 'PavimentoDeslizanteNieveHielo'\n",
    "\n",
    "    diccionarioValores['00031'] = 'PasoDeAnimalesEnLibertad'\n",
    "    diccionarioValores['00032'] = 'FinDeProhibiciones'\n",
    "    diccionarioValores['00033'] = 'SentidoObligatorioDerecha'\n",
    "    diccionarioValores['00034'] = 'SentidoObligatorioIzquierda'\n",
    "    diccionarioValores['00035'] = 'SentidoObligatorio'\n",
    "    diccionarioValores['00036'] = 'DirPermitidasRectoYDerecha'\n",
    "    diccionarioValores['00037'] = 'DirPermitidasRectoEIzquierda'\n",
    "    diccionarioValores['00038'] = 'PasoObligatorioDerecha'\n",
    "    diccionarioValores['00039'] = 'PasoObligatorioizquierda'\n",
    "    diccionarioValores['00040'] = 'InterseccionSentidoObligatorioGiratorio'\n",
    "\n",
    "\n",
    "    diccionarioValores['00041'] = 'FinProhibicionAdelantamiento'\n",
    "    diccionarioValores['00042'] = 'FinProhibicionAdelantamientoCamiones'\n",
    "    \n",
    "    return diccionarioValores"
   ]
  },
  {
   "cell_type": "code",
   "execution_count": 284,
   "metadata": {},
   "outputs": [],
   "source": [
    "'''\n",
    "Descripcion: diccionario con los posibles valores de las imagenes, en relacion con el nombre de las carpetas.\n",
    "Entrada: -\n",
    "Salida: diccionario cuyas claves son el nombre de las carpetas, y los valores son el tipo de signals que contiene.\n",
    "'''\n",
    "def devolverDiccionarioEtiquetasNoSign():\n",
    "    \n",
    "    diccionarioValores = {}\n",
    "    diccionarioValores['000'] = 'Animal'\n",
    "    diccionarioValores['001'] = 'Carretera'\n",
    "    diccionarioValores['002'] = 'Cielo'\n",
    "    diccionarioValores['003'] = 'VehiculoCoche'\n",
    "    diccionarioValores['004'] = 'Arbol'\n",
    "    diccionarioValores['005'] = 'Persona'\n",
    "    diccionarioValores['006'] = 'Edificio'\n",
    "    diccionarioValores['007'] = 'VehiculoMoto'\n",
    "    diccionarioValores['008'] = 'Semaforo'\n",
    "    diccionarioValores['009'] = 'Basura'\n",
    "    diccionarioValores['010'] = 'Farola'\n",
    "\n",
    "    diccionarioValores['011'] = 'Estatua'\n",
    "    diccionarioValores['012'] = 'PasoDeZebra'\n",
    "    diccionarioValores['013'] = 'Carteles'\n",
    "    diccionarioValores['014'] = 'Ventana'\n",
    "    diccionarioValores['015'] = 'Paisaje'\n",
    "    diccionarioValores['016'] = 'Mix'\n",
    "    \n",
    "    return diccionarioValores"
   ]
  },
  {
   "cell_type": "markdown",
   "metadata": {},
   "source": [
    "Probemos ahora el código...."
   ]
  },
  {
   "cell_type": "code",
   "execution_count": 285,
   "metadata": {},
   "outputs": [
    {
     "name": "stdout",
     "output_type": "stream",
     "text": [
      "Animal\n",
      "Carretera\n",
      "Cielo\n",
      "VehiculoCoche\n",
      "Arbol\n",
      "Persona\n",
      "Edificio\n",
      "VehiculoMoto\n",
      "Semaforo\n",
      "Basura\n",
      "Farola\n",
      "Estatua\n",
      "PasoDeZebra\n",
      "Carteles\n",
      "Ventana\n",
      "Paisaje\n",
      "Mix\n"
     ]
    }
   ],
   "source": [
    "d =  devolverDiccionarioEtiquetasNoSign()\n",
    "\n",
    "for k,v in d.items():\n",
    "    print(v)"
   ]
  },
  {
   "cell_type": "markdown",
   "metadata": {},
   "source": [
    "Creamos un diccionario para almacenar todas las fotos, relacionadas a cada elemento diferente de señal"
   ]
  },
  {
   "cell_type": "code",
   "execution_count": 286,
   "metadata": {},
   "outputs": [],
   "source": [
    "'''\n",
    "Descripcion: diccionario con los posibles valores de las imagenes, en relacion con el nombre de las carpetas.\n",
    "Entrada: -\n",
    "Salida: diccionario cuyas claves son el nombre de las carpetas, y los valores son las imagenes de las signals\n",
    "'''\n",
    "def crearDiccionarioDatosSign():\n",
    "    trafic_signals = {}\n",
    "    #para cada tipo de señal creamos una lista con sus ejemplos, y se la asignamos a su etiqueta de nombre de carpeta\n",
    "    for i in range(0,43):\n",
    "        if i<10:\n",
    "            folder = 'Dataset_traffic_sign/0000'+str(i)+'/*.png'\n",
    "            tipo = '0000'+str(i)\n",
    "        else:\n",
    "            folder = 'Dataset_traffic_sign/000'+str(i)+'/*.png'\n",
    "            tipo = '000'+str(i)\n",
    "        \n",
    "        images = [cv2.imread(file,0) for file in glob.glob(folder)]\n",
    "        images_mod = [] \n",
    "        for im in images:\n",
    "            #se aplica el resize\n",
    "            images_mod.append(cv2.resize(im, (100, 100), interpolation = cv2.INTER_NEAREST))\n",
    "\n",
    "        trafic_signals[tipo] = images_mod\n",
    "    return trafic_signals"
   ]
  },
  {
   "cell_type": "code",
   "execution_count": 326,
   "metadata": {},
   "outputs": [],
   "source": [
    "'''\n",
    "Descripcion: diccionario con los posibles valores de las imagenes, en relacion con el nombre de las carpetas.\n",
    "Entrada: -\n",
    "Salida: diccionario cuyas claves son el nombre de las carpetas, y los valores los elementos que no son signals\n",
    "'''\n",
    "def crearDiccionarioDatosNoSign():\n",
    "    noSignals = {} #diccionario para almacenar todo lo que no es sinal\n",
    "    #para cada tipo de elemento que no es señal creamos una lista con sus ejemplos\n",
    "    # y se la asignamos a su etiqueta de nombre de carpeta\n",
    "    for i in range(0,16): #iteramos sobre el numero de carptas\n",
    "        if i<10:\n",
    "            folder = 'Dataset_no_traffic_sign/00'+str(i)+'/*.jpg'\n",
    "            tipo = '00'+str(i)\n",
    "        else:\n",
    "            folder = 'Dataset_no_traffic_sign/0'+str(i)+'/*.jpg'\n",
    "            tipo = '0'+str(i)\n",
    "\n",
    "        images = [cv2.imread(file,0) for file in glob.glob(folder)]\n",
    "        images_mod = [] \n",
    "        for im in images:\n",
    "            #se aplica el resize\n",
    "            images_mod.append(cv2.resize(im, (100, 100), interpolation = cv2.INTER_NEAREST))\n",
    "\n",
    "        noSignals[tipo] = images_mod\n",
    "    return noSignals"
   ]
  },
  {
   "cell_type": "markdown",
   "metadata": {},
   "source": [
    "Creamos funciones para transformar imagenes en descriptores con HOG."
   ]
  },
  {
   "cell_type": "code",
   "execution_count": 327,
   "metadata": {},
   "outputs": [],
   "source": [
    "# HOG\n",
    "def hogMaker(images00000_mod):\n",
    "    fd, hog_image = hog(images00000_mod, orientations=8, pixels_per_cell=(16, 16),\n",
    "                        cells_per_block=(1, 1), visualize=True)\n",
    "    return fd"
   ]
  },
  {
   "cell_type": "markdown",
   "metadata": {},
   "source": [
    "Cogemos las imagenes y las separamos en train y test, y decimos a que clase pertenecen*"
   ]
  },
  {
   "cell_type": "code",
   "execution_count": 328,
   "metadata": {},
   "outputs": [],
   "source": [
    "'''\n",
    "Descripcion: Obtencion de train y test a partir de un conjunto de imágenes\n",
    "Entrada: trafic_signals, signals_types\n",
    "Salida: imagenesTrain,imagenesTest,ytrain,ytest\n",
    "'''\n",
    "def separaTrainTest(trafic_signals,signals_types):\n",
    "    imagenesTrain = None\n",
    "    imagenesTest = None\n",
    "    ytrain = None\n",
    "    ytest = None\n",
    "    \n",
    "    for signal,images in trafic_signals.items():\n",
    "        \n",
    "        aux_y_train = []\n",
    "        aux_y_test = []\n",
    "        \n",
    "        np_im = np.array(images)\n",
    "        n_train = int(0.6*np_im.shape[0])\n",
    "        n_test = np_im.shape[0]-n_train\n",
    "        \n",
    "        aux_train = np_im[:n_train]\n",
    "        aux_test = np_im[n_train:]\n",
    "        \n",
    "        for i in range(n_train):\n",
    "            aux_y_train.append(signals_types[signal])\n",
    "        for i in range(n_test):\n",
    "            aux_y_test.append(signals_types[signal])\n",
    "        \n",
    "        aux_y_train = np.array(aux_y_train).reshape(-1,1)\n",
    "        aux_y_test = np.array(aux_y_test).reshape(-1,1)\n",
    "        \n",
    "        if imagenesTrain is None:\n",
    "            imagenesTrain = aux_train\n",
    "            ytrain = aux_y_train\n",
    "            imagenesTest = aux_test\n",
    "            ytest = aux_y_test\n",
    "        else:\n",
    "            imagenesTrain = np.concatenate((imagenesTrain,aux_train),axis=0)\n",
    "            ytrain =  np.vstack((ytrain,aux_y_train))\n",
    "            imagenesTest = np.concatenate((imagenesTest,aux_test),axis=0)\n",
    "            ytest = np.vstack((ytest,aux_y_test))\n",
    "        \n",
    "    return imagenesTrain,imagenesTest,ytrain,ytest"
   ]
  },
  {
   "cell_type": "markdown",
   "metadata": {},
   "source": [
    "Creamos las caracteristicas con los datos que nos den y sus tipos*"
   ]
  },
  {
   "cell_type": "code",
   "execution_count": 329,
   "metadata": {},
   "outputs": [],
   "source": [
    "\n",
    "def creaMatrizCaracteristicas(imagenes,carac_type, y=None ):\n",
    "    X = None\n",
    "    if y is not None:\n",
    "        y_nueva = []\n",
    "        \n",
    "    for i in range(imagenes.shape[0]):\n",
    "        if carac_type=='hog':\n",
    "            d = hogMaker(imagenes[i])\n",
    "        else: #en caso de recibir un valor que no es valido\n",
    "            try:\n",
    "                raise ValueError\n",
    "            except ValueError:\n",
    "                print(\"valor incorrecto\")\n",
    "        \n",
    "        if d is not None:\n",
    "            if y is not None:\n",
    "                y_nueva.append(y[i])\n",
    "            if X is None:\n",
    "                X = d\n",
    "            else:\n",
    "                X = np.vstack((X,d))\n",
    "    if y is not None:\n",
    "        return X, np.array(y_nueva)\n",
    "    else:\n",
    "        return X"
   ]
  },
  {
   "cell_type": "code",
   "execution_count": 330,
   "metadata": {},
   "outputs": [],
   "source": [
    "elem_signals = crearDiccionarioDatosSign() #creacion del diccionario de datos\n",
    "signals_types = devolverDiccionarioEtiquetasSign() #creacion de diccionario que contiene nombre de carpetas y tipos de signals\n",
    "\n",
    "elem_no_signals = crearDiccionarioDatosNoSign() #creacion del diccionario de datos\n",
    "no_signals_types = devolverDiccionarioEtiquetasNoSign() #creacion de diccionario que contiene nombre de carpetas y tipos de signalcarac_type = 'hog' #el tipo elegido para los descriptores va a ser Hog\n",
    "carac_type = 'hog'"
   ]
  },
  {
   "cell_type": "code",
   "execution_count": 331,
   "metadata": {},
   "outputs": [
    {
     "ename": "KeyError",
     "evalue": "'016'",
     "output_type": "error",
     "traceback": [
      "\u001b[1;31m---------------------------------------------------------------------------\u001b[0m",
      "\u001b[1;31mKeyError\u001b[0m                                  Traceback (most recent call last)",
      "\u001b[1;32m<ipython-input-331-9857838e002a>\u001b[0m in \u001b[0;36m<module>\u001b[1;34m\u001b[0m\n\u001b[1;32m----> 1\u001b[1;33m \u001b[0mlen\u001b[0m\u001b[1;33m(\u001b[0m\u001b[0melem_no_signals\u001b[0m\u001b[1;33m[\u001b[0m\u001b[1;34m'016'\u001b[0m\u001b[1;33m]\u001b[0m\u001b[1;33m)\u001b[0m\u001b[1;33m\u001b[0m\u001b[1;33m\u001b[0m\u001b[0m\n\u001b[0m",
      "\u001b[1;31mKeyError\u001b[0m: '016'"
     ]
    }
   ],
   "source": [
    "len(elem_no_signals['016'])\n"
   ]
  },
  {
   "cell_type": "markdown",
   "metadata": {},
   "source": [
    "Separamos las señales y las no señales en conjuntos para TRAIN y TEST"
   ]
  },
  {
   "cell_type": "code",
   "execution_count": 335,
   "metadata": {},
   "outputs": [],
   "source": [
    "signal_Train,signal_Test,signal_ytrain,signal_ytest = separaTrainTest(elem_signals,signals_types)"
   ]
  },
  {
   "cell_type": "code",
   "execution_count": 336,
   "metadata": {},
   "outputs": [],
   "source": [
    "no_signal_Train,no_signal_Test,no_signal_ytrain,no_signal_ytest = separaTrainTest(elem_no_signals,no_signals_types)"
   ]
  },
  {
   "cell_type": "code",
   "execution_count": 337,
   "metadata": {},
   "outputs": [],
   "source": [
    "imagenesTrain = np.concatenate((signal_Train, no_signal_Train))\n",
    "imagenesTest = np.concatenate((signal_Test, no_signal_Test))\n",
    "\n",
    "ytrain = np.vstack((signal_ytrain,no_signal_ytrain))\n",
    "ytest = np.vstack((signal_ytest,no_signal_ytest))\n",
    "\n",
    "Xtrain, Ytrain = creaMatrizCaracteristicas(imagenesTrain,carac_type,ytrain)\n",
    "Xtest, Ytest = creaMatrizCaracteristicas(imagenesTest,carac_type,ytest)"
   ]
  },
  {
   "cell_type": "code",
   "execution_count": 338,
   "metadata": {},
   "outputs": [
    {
     "data": {
      "text/plain": [
       "((739, 100, 100), (525, 100, 100), (739, 1), (525, 1))"
      ]
     },
     "execution_count": 338,
     "metadata": {},
     "output_type": "execute_result"
    }
   ],
   "source": [
    "signal_Train.shape,signal_Test.shape,signal_ytrain.shape,signal_ytest.shape"
   ]
  },
  {
   "cell_type": "code",
   "execution_count": 339,
   "metadata": {},
   "outputs": [
    {
     "data": {
      "text/plain": [
       "((685, 100, 100), (467, 100, 100), (685, 1), (467, 1))"
      ]
     },
     "execution_count": 339,
     "metadata": {},
     "output_type": "execute_result"
    }
   ],
   "source": [
    "no_signal_Train.shape,no_signal_Test.shape,no_signal_ytrain.shape,no_signal_ytest.shape"
   ]
  },
  {
   "cell_type": "code",
   "execution_count": 340,
   "metadata": {},
   "outputs": [
    {
     "data": {
      "text/plain": [
       "((1424, 288), (1424, 1), (992, 288), (992, 1))"
      ]
     },
     "execution_count": 340,
     "metadata": {},
     "output_type": "execute_result"
    }
   ],
   "source": [
    "Xtrain.shape, Ytrain.shape,Xtest.shape, Ytest.shape"
   ]
  },
  {
   "cell_type": "markdown",
   "metadata": {},
   "source": [
    "# 3.Creación de Modelo de Predicción"
   ]
  },
  {
   "cell_type": "markdown",
   "metadata": {},
   "source": [
    "A continuación se implementarán dos modelos de ML como son regresión logísitica y SVM para dar solución al problema."
   ]
  },
  {
   "cell_type": "code",
   "execution_count": 341,
   "metadata": {},
   "outputs": [],
   "source": [
    "def transformarY_SignNoSign(y, dicNoSign):\n",
    "    Y = np.ones(y.shape[0]).reshape(-1,1)\n",
    "    \n",
    "    for signal,nombre in dicNoSign.items():\n",
    "        for i in range(Y.size):\n",
    "            if y[i]==nombre:\n",
    "                Y[i] = 0\n",
    "    Yfinal = []\n",
    "    for i in range(Y.size):\n",
    "        if Y[i] == 1:\n",
    "            Yfinal.append('Signal')\n",
    "        else:\n",
    "            Yfinal.append('No Signal')\n",
    "    return Yfinal"
   ]
  },
  {
   "cell_type": "code",
   "execution_count": 342,
   "metadata": {},
   "outputs": [],
   "source": [
    "Ytrain_T = transformarY_SignNoSign(Ytrain, no_signals_types)\n",
    "Ytest_T = transformarY_SignNoSign(Ytest, no_signals_types)"
   ]
  },
  {
   "cell_type": "code",
   "execution_count": 343,
   "metadata": {},
   "outputs": [],
   "source": [
    "Ytrain_T = np.array(Ytrain_T)\n",
    "Ytest_T = np.array(Ytest_T)"
   ]
  },
  {
   "cell_type": "code",
   "execution_count": 344,
   "metadata": {},
   "outputs": [
    {
     "name": "stdout",
     "output_type": "stream",
     "text": [
      "Classification report for - \n",
      "GridSearchCV(estimator=SVC(),\n",
      "             param_grid=[{'C': [1, 10, 100, 1000], 'kernel': ['linear']},\n",
      "                         {'C': [1, 10, 100, 1000], 'gamma': [0.001, 0.0001],\n",
      "                          'kernel': ['rbf']}]):\n",
      "              precision    recall  f1-score   support\n",
      "\n",
      "   No Signal       0.95      0.97      0.96       467\n",
      "      Signal       0.97      0.96      0.97       525\n",
      "\n",
      "    accuracy                           0.96       992\n",
      "   macro avg       0.96      0.96      0.96       992\n",
      "weighted avg       0.96      0.96      0.96       992\n",
      "\n",
      "\n"
     ]
    }
   ],
   "source": [
    "param_grid = [\n",
    "  {'C': [1, 10, 100, 1000], 'kernel': ['linear']},\n",
    "  {'C': [1, 10, 100, 1000], 'gamma': [0.001, 0.0001], 'kernel': ['rbf']},]\n",
    "svc = svm.SVC()\n",
    "clf = GridSearchCV(svc, param_grid)\n",
    "clf.fit(Xtrain,Ytrain_T.ravel())\n",
    "y_pred = clf.predict(Xtest)\n",
    "print(\"Classification report for - \\n{}:\\n{}\\n\".format(clf, metrics.classification_report(Ytest_T.ravel(), y_pred)))"
   ]
  },
  {
   "cell_type": "code",
   "execution_count": 345,
   "metadata": {},
   "outputs": [],
   "source": [
    "def predecirImagenSVM(imagen,carac_type,clf):\n",
    "#     transformar imagen en des\n",
    "    d = creaMatrizCaracteristicas(np.array([imagen]), carac_type)\n",
    "    d = np.array(d).reshape(1,-1)\n",
    "    return clf.predict(d)"
   ]
  },
  {
   "cell_type": "code",
   "execution_count": 346,
   "metadata": {},
   "outputs": [
    {
     "name": "stdout",
     "output_type": "stream",
     "text": [
      "¿Desea probar el clasificador? (si/no)si\n",
      "Introduce un numero de imagen para probar: 500\n",
      "Tu numero de imagen para probar es la numero 500\n"
     ]
    },
    {
     "data": {
      "image/png": "[encoded data removed]",
      "text/plain": [
       "<Figure size 432x288 with 1 Axes>"
      ]
     },
     "metadata": {
      "needs_background": "light"
     },
     "output_type": "display_data"
    },
    {
     "name": "stdout",
     "output_type": "stream",
     "text": [
      "Precision hasta el momento: 100.0%\n",
      "\n",
      "¿Desea seguir probando el clasificador? (si/no)no\n",
      "Hasta la proxima!!\n"
     ]
    }
   ],
   "source": [
    "#pequeña celda para interactuar con el clasificador\n",
    "\n",
    "caracter = input(\"¿Desea probar el clasificador? (si/no)\")\n",
    "nDeAciertos = 0\n",
    "nDeSignalsEjecutadas = 0\n",
    "if caracter == \"no\":\n",
    "    print(\"Hasta la proxima!!\")\n",
    "elif caracter == \"si\":\n",
    "    while(caracter == \"si\"):\n",
    "        nDeSignalsEjecutadas+=1\n",
    "        numeroImagen = (int)(input(\"Introduce un numero de imagen para probar: \"))\n",
    "        print(f\"Tu numero de imagen para probar es la numero {numeroImagen}\")\n",
    "        res = predecirImagenSVM(imagenesTest[numeroImagen],carac_type,clf)\n",
    "        plt.figure()\n",
    "        plt.imshow(imagenesTest[numeroImagen])\n",
    "        lab = 'Precision 95%\\n'+ res[0]\n",
    "        plt.xlabel(lab)\n",
    "        plt.show()\n",
    "        if Ytest_T[numeroImagen]==res:\n",
    "            nDeAciertos+=1\n",
    "        print(f\"Precision hasta el momento: {(nDeAciertos/nDeSignalsEjecutadas)*100}%\\n\")\n",
    "        caracter = input(\"¿Desea seguir probando el clasificador? (si/no)\")\n",
    "        if caracter == \"no\":\n",
    "            print(\"Hasta la proxima!!\")\n",
    "            break"
   ]
  },
  {
   "cell_type": "markdown",
   "metadata": {},
   "source": [
    "Para finalizar, vemos que tenemmos una gran tasa de aciertos, para predecir entre señales y no señales."
   ]
  },
  {
   "cell_type": "markdown",
   "metadata": {},
   "source": [
    "# Objetivo 2.2"
   ]
  },
  {
   "cell_type": "code",
   "execution_count": 347,
   "metadata": {},
   "outputs": [],
   "source": [
    "import argparse\n",
    "import time\n",
    "import cv2\n",
    "\n",
    "from skimage.transform.pyramids import pyramid_gaussian"
   ]
  },
  {
   "cell_type": "code",
   "execution_count": 348,
   "metadata": {},
   "outputs": [],
   "source": [
    "def sliding_window(image, entreVentanas, windowSize):\n",
    "    # slide a window across the image\n",
    "    for j in range(0, image.shape[0], entreVentanas):\n",
    "        for i in range(0, image.shape[1], entreVentanas):\n",
    "            # yield the current window\n",
    "            yield (i, j, image[j:j + windowSize[1], i:i + windowSize[0]])"
   ]
  },
  {
   "cell_type": "code",
   "execution_count": 355,
   "metadata": {},
   "outputs": [
    {
     "data": {
      "text/plain": [
       "(800, 1360)"
      ]
     },
     "execution_count": 355,
     "metadata": {},
     "output_type": "execute_result"
    }
   ],
   "source": [
    "a = cv2.imread('00024.jpg',0)\n",
    "a.shape"
   ]
  },
  {
   "cell_type": "markdown",
   "metadata": {},
   "source": [
    "Con Pyramid"
   ]
  },
  {
   "cell_type": "code",
   "execution_count": 356,
   "metadata": {
    "scrolled": true
   },
   "outputs": [],
   "source": [
    "# winW = 30\n",
    "# winH = 30\n",
    "# res = None\n",
    "# result = []\n",
    "# out = 0\n",
    "# for (i, resized) in enumerate(pyramid_gaussian(a, downscale=2,sigma=1)):\n",
    "    \n",
    "#     # if the image is too small, break from the loop\n",
    "#     if resized.shape[0] < 30 or resized.shape[1] < 30:\n",
    "#         break\n",
    "#     # loop over the sliding window for each layer of the pyramid\n",
    "#     for (x, y, window) in sliding_window(resized, 10, windowSize=(winW, winH)):\n",
    "# #         print(x+winW,y+winH)\n",
    "#         clone = resized.copy()\n",
    "#         if x+winW>resized.shape[1] or y+winH>resized.shape[0]:\n",
    "#             out+=1\n",
    "#         else:\n",
    "#             res = predecirImagenSVM(cv2.resize(window, (100, 100), interpolation = cv2.INTER_NEAREST),carac_type,clf)\n",
    "#             if res=='Signal':\n",
    "#                 cv2.rectangle(clone, (x, y), (x + winW, y + winH), (0, 255, 0), 2)\n",
    "#                 cv2.imshow(\"Window\", clone)\n",
    "#                 cv2.waitKey(0)\n",
    "#                 result.append((x,y,resized))\n",
    "# #             cv2.rectangle(clone, (x, y), (x + winW, y + winH), (0, 255, 0), 2)\n",
    "# #             cv2.imshow(\"Window\", clone)\n",
    "# #             cv2.waitKey(1)\n",
    "# #             time.sleep(0.005)\n",
    "#     cv2.destroyAllWindows()\n",
    "# print(out)"
   ]
  },
  {
   "cell_type": "code",
   "execution_count": 357,
   "metadata": {},
   "outputs": [],
   "source": [
    "# len(result)"
   ]
  },
  {
   "cell_type": "markdown",
   "metadata": {},
   "source": [
    "Modificando el windows size"
   ]
  },
  {
   "cell_type": "code",
   "execution_count": 361,
   "metadata": {},
   "outputs": [
    {
     "name": "stdout",
     "output_type": "stream",
     "text": [
      "800 800 400\n",
      "533 533\n",
      "355 355\n",
      "236 236\n",
      "157 157\n",
      "104 104\n",
      "69 69\n",
      "46 46\n",
      "30 30\n"
     ]
    }
   ],
   "source": [
    "if a.shape[0]<a.shape[1]:\n",
    "    winH = int(a.shape[0])\n",
    "else:\n",
    "    winH = int(a.shape[1])\n",
    "winW = winH\n",
    "step = int(winW/2)\n",
    "print(winW,winH,step)\n",
    "result = []\n",
    "while winW>30 and winH>30:\n",
    "    # loop over the sliding window for each layer of the pyramid\n",
    "    for (x, y, window) in sliding_window(a, step, windowSize=(winW, winH)):\n",
    "        # if the window does not meet our desired window size, ignore it\n",
    "        if x+winW<=a.shape[1] and y+winH<=a.shape[0]:\n",
    "            res = predecirImagenSVM(cv2.resize(window, (100, 100), interpolation = cv2.INTER_NEAREST),carac_type,clf)\n",
    "            clone = a.copy()\n",
    "            cv2.rectangle(clone, (x, y), (x + winW, y + winH), (0, 255, 0), 2)\n",
    "            cv2.imshow(\"Window\", clone)\n",
    "            if res=='Signal':\n",
    "#                 cv2.waitKey(0)\n",
    "                result.append((x,y,winW,winH))\n",
    "            else:\n",
    "                cv2.waitKey(1)\n",
    "                time.sleep(0.001)\n",
    "    cv2.destroyAllWindows()\n",
    "    winW = int(winW/1.5)\n",
    "    winH = winW\n",
    "    step = int(winW/2)\n",
    "    print(winW,winH)"
   ]
  },
  {
   "cell_type": "markdown",
   "metadata": {},
   "source": [
    "Aplicar SVM"
   ]
  },
  {
   "cell_type": "code",
   "execution_count": 362,
   "metadata": {},
   "outputs": [],
   "source": [
    "# winW = 30\n",
    "# winH = 30\n",
    "# for (i, resized) in enumerate(pyramid_gaussian(imagenesTrain[0], downscale=2,sigma=1)):\n",
    "    \n",
    "#     # if the image is too small, break from the loop\n",
    "#     if resized.shape[0] < 30 or resized.shape[1] < 30:\n",
    "#         break\n",
    "    \n",
    "#     # loop over the sliding window for each layer of the pyramid\n",
    "#     for (x, y, window) in sliding_window(resized, 10, windowSize=(winW, winH)):\n",
    "#         # if the window does not meet our desired window size, ignore it\n",
    "#         if window.shape[0] != winH or window.shape[1] != winW:\n",
    "#             continue\n",
    "#         res = predecirImagenSVM(window,carac_type,clf)\n",
    "#         if res=='Signal':\n",
    "#             cv2.waitKey(0)\n",
    "#         clone = resized.copy()\n",
    "#         cv2.rectangle(clone, (x, y), (x + winW, y + winH), (0, 255, 0), 2)\n",
    "#         cv2.imshow(\"Window\", clone)\n",
    "#         cv2.waitKey(1)\n",
    "#         time.sleep(0.025)\n",
    "#     cv2.destroyAllWindows()"
   ]
  },
  {
   "cell_type": "code",
   "execution_count": 363,
   "metadata": {},
   "outputs": [
    {
     "name": "stdout",
     "output_type": "stream",
     "text": [
      "11\n",
      "1\n",
      "2\n",
      "3\n",
      "4\n",
      "5\n",
      "6\n",
      "7\n",
      "8\n",
      "9\n",
      "10\n",
      "11\n"
     ]
    }
   ],
   "source": [
    "clone = a.copy()\n",
    "print(len(result))\n",
    "for i in range(len(result)):\n",
    "    x,y,winW,winH = result[i]\n",
    "    cv2.rectangle(clone, (x, y), (x + winW, y + winH), (0, 255, 0), 2)\n",
    "    cv2.imshow(\"Window\", clone)\n",
    "    cv2.waitKey(0)\n",
    "    print(i+1)\n",
    "cv2.destroyAllWindows()"
   ]
  },
  {
   "cell_type": "code",
   "execution_count": null,
   "metadata": {},
   "outputs": [],
   "source": []
  },
  {
   "cell_type": "code",
   "execution_count": null,
   "metadata": {},
   "outputs": [],
   "source": []
  },
  {
   "cell_type": "code",
   "execution_count": null,
   "metadata": {},
   "outputs": [],
   "source": []
  },
  {
   "cell_type": "code",
   "execution_count": null,
   "metadata": {},
   "outputs": [],
   "source": []
  },
  {
   "cell_type": "code",
   "execution_count": null,
   "metadata": {},
   "outputs": [],
   "source": []
  }
 ],
 "metadata": {
  "kernelspec": {
   "display_name": "Python 3",
   "language": "python",
   "name": "python3"
  },
  "language_info": {
   "codemirror_mode": {
    "name": "ipython",
    "version": 3
   },
   "file_extension": ".py",
   "mimetype": "text/x-python",
   "name": "python",
   "nbconvert_exporter": "python",
   "pygments_lexer": "ipython3",
   "version": "3.7.4"
  }
 },
 "nbformat": 4,
 "nbformat_minor": 2
}
