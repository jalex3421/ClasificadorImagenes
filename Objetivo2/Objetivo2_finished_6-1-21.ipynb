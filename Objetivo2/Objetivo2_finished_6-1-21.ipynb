{
 "cells": [
  {
   "cell_type": "markdown",
   "metadata": {},
   "source": [
    "# Objetivo 2.1"
   ]
  },
  {
   "cell_type": "markdown",
   "metadata": {},
   "source": [
    "# Autores\n",
    "David Rodríguez , Alejandro Meza"
   ]
  },
  {
   "cell_type": "markdown",
   "metadata": {},
   "source": [
    "# Índice de la práctica"
   ]
  },
  {
   "cell_type": "markdown",
   "metadata": {},
   "source": [
    "- [1.Introducción](#1.Introducción)\n",
    "- [2.Creación del dataset](#2.Creación-del-dataset)\n",
    "- [3.Creación del clasificador](#3.Creación-del-clasificador)\n",
    "- [4.Algoritmo de ventana deslizante](#4.Algoritmo-de-ventana-deslizante)\n",
    "- [5.Supresión de no máximos para eliminación de múltiples positivos](#5.Supresión-de-no-máximos-para-eliminación-de-múltiples-positivos)"
   ]
  },
  {
   "cell_type": "code",
   "execution_count": 61,
   "metadata": {},
   "outputs": [],
   "source": [
    "import cv2\n",
    "import glob\n",
    "import skimage\n",
    "\n",
    "\n",
    "#Librerias contornos \n",
    "import numpy as np\n",
    "from skimage.io import imread, imshow\n",
    "import matplotlib.pyplot as plt\n",
    "%matplotlib inline\n",
    "from skimage.feature import hog\n",
    "from skimage import data, exposure\n",
    "\n",
    "#Machine Learning\n",
    "from scipy.optimize import minimize\n",
    "import sklearn.metrics as metrics\n",
    "from sklearn.model_selection import GridSearchCV\n",
    "from sklearn import svm\n",
    "\n",
    "# Ventana Deslizante\n",
    "import time"
   ]
  },
  {
   "cell_type": "markdown",
   "metadata": {},
   "source": [
    "# 1.Introducción"
   ]
  },
  {
   "cell_type": "markdown",
   "metadata": {},
   "source": [
    "El segundo objetivo se ha dividido principalmente en tres tareas:\n",
    "-    Creación del dataset\n",
    "-    Creación del clasificador\n",
    "-    Implementación ventana deslizante con SVM"
   ]
  },
  {
   "cell_type": "markdown",
   "metadata": {},
   "source": [
    "# 2.Creación del dataset"
   ]
  },
  {
   "cell_type": "markdown",
   "metadata": {},
   "source": [
    "Primero creamos diccionarios para guardar los parches de las señales* y otra para los parches de no señales (cada identificador tiene asociado su significado)."
   ]
  },
  {
   "cell_type": "code",
   "execution_count": 31,
   "metadata": {},
   "outputs": [],
   "source": [
    "'''\n",
    "Descripcion: diccionario con los posibles valores de las imagenes, en relacion con el nombre de las carpetas.\n",
    "Entrada: -\n",
    "Salida: diccionario cuyas claves son el nombre de las carpetas, y los valores son el tipo de signals que contiene.\n",
    "'''\n",
    "def devolverDiccionarioEtiquetasSign():\n",
    "    \n",
    "    diccionarioValores = {}\n",
    "    diccionarioValores['00000'] = 'VelocidadMaxima20'\n",
    "    diccionarioValores['00001'] = 'VelocidadMaxima30'\n",
    "    diccionarioValores['00002'] = 'VelocidadMaxima50'\n",
    "    diccionarioValores['00003'] = 'VelocidadMaxima60'\n",
    "    diccionarioValores['00004'] = 'VelocidadMaxima70'\n",
    "    diccionarioValores['00005'] = 'VelocidadMaxima80'\n",
    "    diccionarioValores['00006'] = 'FinVelocidadMaxima80'\n",
    "    diccionarioValores['00007'] = 'VelocidadMaxima100'\n",
    "    diccionarioValores['00008'] = 'VelocidadMaxima120'\n",
    "    diccionarioValores['00009'] = 'AdelantamientoProhibido'\n",
    "    diccionarioValores['00010'] = 'AdelantamientoProhibidoParaCamiones'\n",
    "\n",
    "    diccionarioValores['00011'] = 'InterseccionConPrioridad'\n",
    "    diccionarioValores['00012'] = 'CalzadaConPrioridad'\n",
    "    diccionarioValores['00013'] = 'CedaElPaso'\n",
    "    diccionarioValores['00014'] = 'DetencionObligatoria'\n",
    "    diccionarioValores['00015'] = 'CirculacionProhibida'\n",
    "    diccionarioValores['00016'] = 'EntradaProhibidaAVehiculosMercancias'\n",
    "    diccionarioValores['00017'] = 'EntradaProhibida'\n",
    "    diccionarioValores['00018'] = 'OtrosPeligros'\n",
    "    diccionarioValores['00019'] = 'CurvaPeligrosaHaciaLaIzquierda'\n",
    "    diccionarioValores['00020'] = 'CurvaPeligrosaHaciaLaDerecha'\n",
    "\n",
    "    diccionarioValores['00021'] = 'CurvasPeligrosasHaciaLaIzquierda'\n",
    "    diccionarioValores['00022'] = 'PerfilIrregular'\n",
    "    diccionarioValores['00023'] = 'PavimentoDeslizante'\n",
    "    diccionarioValores['00024'] = 'EstrechamientoCalzadaPorDerecha'\n",
    "    diccionarioValores['00025'] = 'Obras'\n",
    "    diccionarioValores['00026'] = 'Semaforos'\n",
    "    diccionarioValores['00027'] = 'PasoDePeatones'\n",
    "    diccionarioValores['00028'] = 'Kids'\n",
    "    diccionarioValores['00029'] = 'EntradaProhibidasCiclos'\n",
    "    diccionarioValores['00030'] = 'PavimentoDeslizanteNieveHielo'\n",
    "\n",
    "    diccionarioValores['00031'] = 'PasoDeAnimalesEnLibertad'\n",
    "    diccionarioValores['00032'] = 'FinDeProhibiciones'\n",
    "    diccionarioValores['00033'] = 'SentidoObligatorioDerecha'\n",
    "    diccionarioValores['00034'] = 'SentidoObligatorioIzquierda'\n",
    "    diccionarioValores['00035'] = 'SentidoObligatorio'\n",
    "    diccionarioValores['00036'] = 'DirPermitidasRectoYDerecha'\n",
    "    diccionarioValores['00037'] = 'DirPermitidasRectoEIzquierda'\n",
    "    diccionarioValores['00038'] = 'PasoObligatorioDerecha'\n",
    "    diccionarioValores['00039'] = 'PasoObligatorioizquierda'\n",
    "    diccionarioValores['00040'] = 'InterseccionSentidoObligatorioGiratorio'\n",
    "\n",
    "\n",
    "    diccionarioValores['00041'] = 'FinProhibicionAdelantamiento'\n",
    "    diccionarioValores['00042'] = 'FinProhibicionAdelantamientoCamiones'\n",
    "    \n",
    "    return diccionarioValores"
   ]
  },
  {
   "cell_type": "code",
   "execution_count": 32,
   "metadata": {},
   "outputs": [],
   "source": [
    "'''\n",
    "Descripcion: diccionario con los posibles valores de las imagenes, en relacion con el nombre de las carpetas.\n",
    "Entrada: -\n",
    "Salida: diccionario cuyas claves son el nombre de las carpetas, y los valores son el tipo de signals que contiene.\n",
    "'''\n",
    "def devolverDiccionarioEtiquetasNoSign():\n",
    "    \n",
    "    diccionarioValores = {}\n",
    "    diccionarioValores['000'] = 'Animal'\n",
    "    diccionarioValores['001'] = 'Carretera'\n",
    "    diccionarioValores['002'] = 'Cielo'\n",
    "    diccionarioValores['003'] = 'VehiculoCoche'\n",
    "    diccionarioValores['004'] = 'Arbol'\n",
    "    diccionarioValores['005'] = 'Persona'\n",
    "    diccionarioValores['006'] = 'Edificio'\n",
    "    diccionarioValores['007'] = 'VehiculoMoto'\n",
    "    diccionarioValores['008'] = 'Semaforo'\n",
    "    diccionarioValores['009'] = 'Basura'\n",
    "    diccionarioValores['010'] = 'Farola'\n",
    "\n",
    "    diccionarioValores['011'] = 'Estatua'\n",
    "    diccionarioValores['012'] = 'PasoDeZebra'\n",
    "    diccionarioValores['013'] = 'Carteles'\n",
    "    diccionarioValores['014'] = 'Ventana'\n",
    "    diccionarioValores['015'] = 'Paisaje'\n",
    "    diccionarioValores['016'] = 'Mix'\n",
    "    diccionarioValores['017'] = 'Parches creados por programa'\n",
    "    \n",
    "    return diccionarioValores"
   ]
  },
  {
   "cell_type": "markdown",
   "metadata": {},
   "source": [
    "Probemos ahora el código para las no señales...."
   ]
  },
  {
   "cell_type": "code",
   "execution_count": 33,
   "metadata": {},
   "outputs": [
    {
     "name": "stdout",
     "output_type": "stream",
     "text": [
      "Animal\n",
      "Carretera\n",
      "Cielo\n",
      "VehiculoCoche\n",
      "Arbol\n",
      "Persona\n",
      "Edificio\n",
      "VehiculoMoto\n",
      "Semaforo\n",
      "Basura\n",
      "Farola\n",
      "Estatua\n",
      "PasoDeZebra\n",
      "Carteles\n",
      "Ventana\n",
      "Paisaje\n",
      "Mix\n",
      "Parches creados por programa\n"
     ]
    }
   ],
   "source": [
    "d =  devolverDiccionarioEtiquetasNoSign()\n",
    "\n",
    "for k,v in d.items():\n",
    "    print(v)"
   ]
  },
  {
   "cell_type": "markdown",
   "metadata": {},
   "source": [
    "Creamos otros dos diccionarios para almacenar todas las fotos señales y no señales por separado, relaciondolas con su etiqueta correspondiente."
   ]
  },
  {
   "cell_type": "code",
   "execution_count": 34,
   "metadata": {},
   "outputs": [],
   "source": [
    "'''\n",
    "Descripcion: diccionario con los posibles valores de las imagenes, en relacion con el nombre de las carpetas.\n",
    "Entrada: -\n",
    "Salida: diccionario cuyas claves son el nombre de las carpetas, y los valores son las imagenes de las signals\n",
    "'''\n",
    "def crearDiccionarioDatosSign():\n",
    "    trafic_signals = {}\n",
    "    #para cada tipo de señal creamos una lista con sus ejemplos, y se la asignamos a su etiqueta de nombre de carpeta\n",
    "    for i in range(0,43):\n",
    "        if i<10:\n",
    "            folder = 'Dataset_traffic_sign/0000'+str(i)+'/*.png'\n",
    "            tipo = '0000'+str(i)\n",
    "        else:\n",
    "            folder = 'Dataset_traffic_sign/000'+str(i)+'/*.png'\n",
    "            tipo = '000'+str(i)\n",
    "        \n",
    "        images = [cv2.imread(file,0) for file in glob.glob(folder)]\n",
    "        images_mod = [] \n",
    "        for im in images:\n",
    "            #se aplica el resize\n",
    "            images_mod.append(cv2.resize(im, (100, 100), interpolation = cv2.INTER_NEAREST))\n",
    "\n",
    "        trafic_signals[tipo] = images_mod\n",
    "    return trafic_signals"
   ]
  },
  {
   "cell_type": "code",
   "execution_count": 35,
   "metadata": {},
   "outputs": [],
   "source": [
    "'''\n",
    "Descripcion: diccionario con los posibles valores de las imagenes, en relacion con el nombre de las carpetas.\n",
    "Entrada: -\n",
    "Salida: diccionario cuyas claves son el nombre de las carpetas, y los valores los elementos que no son signals\n",
    "'''\n",
    "def crearDiccionarioDatosNoSign():\n",
    "    noSignals = {} #diccionario para almacenar todo lo que no es sinal\n",
    "    #para cada tipo de elemento que no es señal creamos una lista con sus ejemplos\n",
    "    # y se la asignamos a su etiqueta de nombre de carpeta\n",
    "    for i in range(0,18): #iteramos sobre el numero de carptas\n",
    "        if i<10:\n",
    "            folder = 'Dataset_no_traffic_sign/00'+str(i)+'/*.jpg'\n",
    "            tipo = '00'+str(i)\n",
    "        else:\n",
    "            folder = 'Dataset_no_traffic_sign/0'+str(i)+'/*.jpg'\n",
    "            tipo = '0'+str(i)\n",
    "\n",
    "        images = [cv2.imread(file,0) for file in glob.glob(folder)]\n",
    "        images_mod = [] \n",
    "        for im in images:\n",
    "            #se aplica el resize\n",
    "            images_mod.append(cv2.resize(im, (100, 100), interpolation = cv2.INTER_NEAREST))\n",
    "\n",
    "        noSignals[tipo] = images_mod\n",
    "    return noSignals"
   ]
  },
  {
   "cell_type": "markdown",
   "metadata": {},
   "source": [
    "Creamos la función para transformar imagenes en descriptores con HOG.*"
   ]
  },
  {
   "cell_type": "code",
   "execution_count": 36,
   "metadata": {},
   "outputs": [],
   "source": [
    "# HOG\n",
    "def hogMaker(images00000_mod):\n",
    "    fd, hog_image = hog(images00000_mod, orientations=8, pixels_per_cell=(16, 16),cells_per_block=(1, 1), visualize=True)\n",
    "    return fd"
   ]
  },
  {
   "cell_type": "markdown",
   "metadata": {},
   "source": [
    "Cogemos las imagenes y las separamos en train y test, y decimos a que clase pertenecen*. Para eso creamos estas funciones"
   ]
  },
  {
   "cell_type": "code",
   "execution_count": 37,
   "metadata": {},
   "outputs": [],
   "source": [
    "'''\n",
    "Descripcion: Obtencion de train y test a partir de un conjunto de imágenes\n",
    "Entrada: trafic_signals, signals_types\n",
    "Salida: imagenesTrain,imagenesTest,ytrain,ytest\n",
    "'''\n",
    "def separaTrainTest(trafic_signals,signals_types):\n",
    "    imagenesTrain = None\n",
    "    imagenesTest = None\n",
    "    ytrain = None\n",
    "    ytest = None\n",
    "    \n",
    "    for signal,images in trafic_signals.items():\n",
    "        \n",
    "        aux_y_train = []\n",
    "        aux_y_test = []\n",
    "        \n",
    "        np_im = np.array(images)\n",
    "        n_train = int(0.6*np_im.shape[0])\n",
    "        n_test = np_im.shape[0]-n_train\n",
    "        \n",
    "        aux_train = np_im[:n_train]\n",
    "        aux_test = np_im[n_train:]\n",
    "        \n",
    "        for i in range(n_train):\n",
    "            aux_y_train.append(signals_types[signal])\n",
    "        for i in range(n_test):\n",
    "            aux_y_test.append(signals_types[signal])\n",
    "        \n",
    "        aux_y_train = np.array(aux_y_train).reshape(-1,1)\n",
    "        aux_y_test = np.array(aux_y_test).reshape(-1,1)\n",
    "        \n",
    "        if imagenesTrain is None:\n",
    "            imagenesTrain = aux_train\n",
    "            ytrain = aux_y_train\n",
    "            imagenesTest = aux_test\n",
    "            ytest = aux_y_test\n",
    "        else:\n",
    "            imagenesTrain = np.concatenate((imagenesTrain,aux_train),axis=0)\n",
    "            ytrain =  np.vstack((ytrain,aux_y_train))\n",
    "            imagenesTest = np.concatenate((imagenesTest,aux_test),axis=0)\n",
    "            ytest = np.vstack((ytest,aux_y_test))\n",
    "        \n",
    "    return imagenesTrain,imagenesTest,ytrain,ytest"
   ]
  },
  {
   "cell_type": "markdown",
   "metadata": {},
   "source": [
    "Creamos las caracteristicas con los datos que nos den y sus tipos*"
   ]
  },
  {
   "cell_type": "code",
   "execution_count": 38,
   "metadata": {},
   "outputs": [],
   "source": [
    "def creaMatrizCaracteristicas(imagenes,carac_type):\n",
    "    X = None\n",
    "        \n",
    "    for i in range(imagenes.shape[0]):\n",
    "        if carac_type=='hog':\n",
    "            d = hogMaker(imagenes[i])\n",
    "        else: #en caso de recibir un valor que no es valido\n",
    "            try:\n",
    "                raise ValueError\n",
    "            except ValueError:\n",
    "                print(\"valor incorrecto\")\n",
    "        \n",
    "        if d is not None:\n",
    "            if X is None:\n",
    "                X = d\n",
    "            else:\n",
    "                X = np.vstack((X,d))\n",
    "    return X"
   ]
  },
  {
   "cell_type": "markdown",
   "metadata": {},
   "source": [
    "Creamos con las funciones anteriores los diccionarios asociados a señales y no señales."
   ]
  },
  {
   "cell_type": "code",
   "execution_count": 39,
   "metadata": {},
   "outputs": [],
   "source": [
    "elem_signals = crearDiccionarioDatosSign() #creacion del diccionario de datos\n",
    "signals_types = devolverDiccionarioEtiquetasSign() #creacion de diccionario que contiene nombre de carpetas y tipos de signals\n",
    "\n",
    "elem_no_signals = crearDiccionarioDatosNoSign() #creacion del diccionario de datos\n",
    "no_signals_types = devolverDiccionarioEtiquetasNoSign() #creacion de diccionario que contiene nombre de carpetas y tipos de signalcarac_type = 'hog' #el tipo elegido para los descriptores va a ser Hog\n",
    "carac_type = 'hog'"
   ]
  },
  {
   "cell_type": "markdown",
   "metadata": {},
   "source": [
    "Creamos conjuntos para TRAIN y TEST con las caracteristicas etraidas con HOG sobre señales y no señales, aplicandoles unos filtros gaussianos anteriormente a las imagenes."
   ]
  },
  {
   "cell_type": "code",
   "execution_count": 40,
   "metadata": {},
   "outputs": [],
   "source": [
    "signal_Train,signal_Test,signal_ytrain,signal_ytest = separaTrainTest(elem_signals,signals_types)"
   ]
  },
  {
   "cell_type": "code",
   "execution_count": 41,
   "metadata": {},
   "outputs": [],
   "source": [
    "no_signal_Train,no_signal_Test,no_signal_ytrain,no_signal_ytest = separaTrainTest(elem_no_signals,no_signals_types)"
   ]
  },
  {
   "cell_type": "code",
   "execution_count": 42,
   "metadata": {},
   "outputs": [],
   "source": [
    "imagenesTrain = np.concatenate((signal_Train, no_signal_Train))\n",
    "imagenesTest = np.concatenate((signal_Test, no_signal_Test))\n",
    "\n",
    "Ytrain = np.vstack((signal_ytrain,no_signal_ytrain))\n",
    "Ytest = np.vstack((signal_ytest,no_signal_ytest))"
   ]
  },
  {
   "cell_type": "code",
   "execution_count": 43,
   "metadata": {},
   "outputs": [],
   "source": [
    "def filtro_suavizado(imagen, mascara):\n",
    "    a,b = mascara.shape\n",
    "    a = (a//2)\n",
    "    b = (b//2)\n",
    "    aux = np.zeros_like(imagen)\n",
    "\n",
    "    #Se crea la imagen ampliada \n",
    "    imagen_ampliada = cv2.copyMakeBorder(imagen,a,a,b,b,cv2.BORDER_REPLICATE)\n",
    "\n",
    "    #Dimensiones de la imagen ampliada\n",
    "    r,c = imagen_ampliada.shape\n",
    "\n",
    "    for i in range(a,r-a): #en el bucle no iteras sobre las filas que has ampliado\n",
    "        for j in range(b,c-b): #en el bucle no iteras sobre las columnas que has ampliado\n",
    "            vecindad= imagen_ampliada[i-a:i+a+1, j-b: j+b+1]\n",
    "            aux[i-a,j-b] = np.sum(vecindad * mascara)\n",
    "\n",
    "    return np.uint8(aux)\n",
    "\n",
    "n = 3 #tamaño del filtro\n",
    "sigma = 3 #desviación de la gaussiana\n",
    "mask = cv2.getGaussianKernel(n, sigma)*cv2.getGaussianKernel(n, sigma).T\n",
    "\n",
    "imagenesTrain_GK = np.zeros(imagenesTrain.shape)\n",
    "for i in range(imagenesTrain.shape[0]):\n",
    "    imagenesTrain_GK[i] = filtro_suavizado(imagenesTrain[i], mask)\n",
    "\n",
    "imagenesTest_GK = np.zeros(imagenesTest.shape)\n",
    "for i in range(imagenesTest.shape[0]):\n",
    "    imagenesTest_GK[i] = filtro_suavizado(imagenesTest[i], mask)\n",
    "    \n",
    "Xtrain = creaMatrizCaracteristicas(imagenesTrain_GK,carac_type)\n",
    "Xtest = creaMatrizCaracteristicas(imagenesTest_GK,carac_type)"
   ]
  },
  {
   "cell_type": "markdown",
   "metadata": {},
   "source": [
    "Vemos si hay concordancia en los datos."
   ]
  },
  {
   "cell_type": "code",
   "execution_count": 44,
   "metadata": {},
   "outputs": [
    {
     "data": {
      "text/plain": [
       "((739, 100, 100), (525, 100, 100), (739, 1), (525, 1))"
      ]
     },
     "execution_count": 44,
     "metadata": {},
     "output_type": "execute_result"
    }
   ],
   "source": [
    "signal_Train.shape, signal_Test.shape, signal_ytrain.shape, signal_ytest.shape"
   ]
  },
  {
   "cell_type": "code",
   "execution_count": 45,
   "metadata": {},
   "outputs": [
    {
     "data": {
      "text/plain": [
       "((7962, 100, 100), (5320, 100, 100), (7962, 1), (5320, 1))"
      ]
     },
     "execution_count": 45,
     "metadata": {},
     "output_type": "execute_result"
    }
   ],
   "source": [
    "no_signal_Train.shape, no_signal_Test.shape, no_signal_ytrain.shape, no_signal_ytest.shape"
   ]
  },
  {
   "cell_type": "code",
   "execution_count": 46,
   "metadata": {},
   "outputs": [
    {
     "data": {
      "text/plain": [
       "((8701, 288), (8701, 1), (5845, 288), (5845, 1))"
      ]
     },
     "execution_count": 46,
     "metadata": {},
     "output_type": "execute_result"
    }
   ],
   "source": [
    "Xtrain.shape, Ytrain.shape, Xtest.shape, Ytest.shape"
   ]
  },
  {
   "cell_type": "markdown",
   "metadata": {},
   "source": [
    "[Indice](#Índice-de-la-práctica)"
   ]
  },
  {
   "cell_type": "markdown",
   "metadata": {},
   "source": [
    "# 3.Creación del clasificador"
   ]
  },
  {
   "cell_type": "markdown",
   "metadata": {},
   "source": [
    "A continuación se implementará la SVM para dar solución al problema."
   ]
  },
  {
   "cell_type": "markdown",
   "metadata": {},
   "source": [
    "La siguiente funcion nos convertirá cada etiqueta asociada a los distintos objetos en señales y no señales."
   ]
  },
  {
   "cell_type": "code",
   "execution_count": 47,
   "metadata": {},
   "outputs": [],
   "source": [
    "def transformarY_SignNoSign(y, dicNoSign):\n",
    "    Y = np.ones(y.shape[0]).reshape(-1,1)\n",
    "    \n",
    "    for signal,nombre in dicNoSign.items():\n",
    "        for i in range(Y.size):\n",
    "            if y[i]==nombre:\n",
    "                Y[i] = 0\n",
    "    Yfinal = []\n",
    "    for i in range(Y.size):\n",
    "        if Y[i] == 1:\n",
    "            Yfinal.append('Signal')\n",
    "        else:\n",
    "            Yfinal.append('No Signal')\n",
    "    return Yfinal"
   ]
  },
  {
   "cell_type": "code",
   "execution_count": 48,
   "metadata": {},
   "outputs": [],
   "source": [
    "Ytrain_T = transformarY_SignNoSign(Ytrain, no_signals_types)\n",
    "Ytest_T = transformarY_SignNoSign(Ytest, no_signals_types)"
   ]
  },
  {
   "cell_type": "code",
   "execution_count": 49,
   "metadata": {},
   "outputs": [],
   "source": [
    "Ytrain_T = np.array(Ytrain_T)\n",
    "Ytest_T = np.array(Ytest_T)"
   ]
  },
  {
   "cell_type": "markdown",
   "metadata": {},
   "source": [
    "Entrenamos la SVM con los datos obtenidos."
   ]
  },
  {
   "cell_type": "code",
   "execution_count": 98,
   "metadata": {},
   "outputs": [
    {
     "name": "stdout",
     "output_type": "stream",
     "text": [
      "Classification report for - \n",
      "GridSearchCV(estimator=SVC(),\n",
      "             param_grid=[{'C': [1, 10, 100, 1000], 'kernel': ['linear']},\n",
      "                         {'C': [1, 10, 100, 1000], 'gamma': [0.001, 0.0001],\n",
      "                          'kernel': ['rbf']}]):\n",
      "              precision    recall  f1-score   support\n",
      "\n",
      "   No Signal       1.00      1.00      1.00      5320\n",
      "      Signal       0.99      0.95      0.97       525\n",
      "\n",
      "    accuracy                           1.00      5845\n",
      "   macro avg       0.99      0.98      0.99      5845\n",
      "weighted avg       1.00      1.00      1.00      5845\n",
      "\n",
      "\n"
     ]
    }
   ],
   "source": [
    "param_grid = [\n",
    "  {'C': [1, 10, 100, 1000], 'kernel': ['linear']},\n",
    "  {'C': [1, 10, 100, 1000], 'gamma': [0.001, 0.0001], 'kernel': ['rbf']},]\n",
    "svc = svm.SVC()\n",
    "clf = GridSearchCV(svc, param_grid)\n",
    "clf.fit(Xtrain,Ytrain_T.ravel())\n",
    "y_pred = clf.predict(Xtest)\n",
    "print(\"Classification report for - \\n{}:\\n{}\\n\".format(clf, metrics.classification_report(Ytest_T.ravel(), y_pred)))"
   ]
  },
  {
   "cell_type": "markdown",
   "metadata": {},
   "source": [
    "Despúes de crear el clasificador, creamos esta funcion la cual le damos una imagen y predice si es o no una señal"
   ]
  },
  {
   "cell_type": "code",
   "execution_count": 99,
   "metadata": {},
   "outputs": [],
   "source": [
    "def predecirImagenSVM(imagen,carac_type,clf):\n",
    "#     transformar imagen en des\n",
    "    d = creaMatrizCaracteristicas(np.array([imagen]), carac_type)\n",
    "    d = np.array(d).reshape(1,-1)\n",
    "    return clf.predict(d)"
   ]
  },
  {
   "cell_type": "markdown",
   "metadata": {},
   "source": [
    "Creamos un pequeño programa (demo) para que se pueda probar de una manera un poco más directa y visual, con los datos de TEST."
   ]
  },
  {
   "cell_type": "code",
   "execution_count": 90,
   "metadata": {},
   "outputs": [
    {
     "name": "stdout",
     "output_type": "stream",
     "text": [
      "¿Desea probar el clasificador? (si/no)si\n",
      "Introduce un numero de imagen para probar: 345\n",
      "Tu numero de imagen para probar es la numero 345\n"
     ]
    },
    {
     "data": {
      "image/png": "[encoded data removed]",
      "text/plain": [
       "<Figure size 432x288 with 1 Axes>"
      ]
     },
     "metadata": {
      "needs_background": "light"
     },
     "output_type": "display_data"
    },
    {
     "name": "stdout",
     "output_type": "stream",
     "text": [
      "Precision hasta el momento: 100.0%\n",
      "\n",
      "¿Desea seguir probando el clasificador? (si/no)450\n"
     ]
    }
   ],
   "source": [
    "#pequeña celda para interactuar con el clasificador\n",
    "\n",
    "caracter = input(\"¿Desea probar el clasificador? (si/no)\")\n",
    "nDeAciertos = 0\n",
    "nDeSignalsEjecutadas = 0\n",
    "if caracter == \"no\":\n",
    "    print(\"Hasta la proxima!!\")\n",
    "elif caracter == \"si\":\n",
    "    while(caracter == \"si\"):\n",
    "        nDeSignalsEjecutadas+=1\n",
    "        numeroImagen = (int)(input(\"Introduce un numero de imagen para probar: \"))\n",
    "        print(f\"Tu numero de imagen para probar es la numero {numeroImagen}\")\n",
    "        res = predecirImagenSVM(imagenesTest[numeroImagen],carac_type,clf)\n",
    "        plt.figure()\n",
    "        plt.imshow(imagenesTest[numeroImagen])\n",
    "        lab = 'Precision 100%\\n'+ res[0]\n",
    "        plt.xlabel(lab)\n",
    "        plt.show()\n",
    "        if Ytest_T[numeroImagen]==res:\n",
    "            nDeAciertos+=1\n",
    "        print(f\"Precision hasta el momento: {(nDeAciertos/nDeSignalsEjecutadas)*100}%\\n\")\n",
    "        caracter = input(\"¿Desea seguir probando el clasificador? (si/no)\")\n",
    "        if caracter == \"no\":\n",
    "            print(\"Hasta la proxima!!\")\n",
    "            break"
   ]
  },
  {
   "cell_type": "markdown",
   "metadata": {},
   "source": [
    "Como resumen de la primera parte, podemos obserbar que los resultados son muy buenos, casi rozando la perfección. Por el contrario el tiempo que tarda en aprender es bastante debido al gran numero de parches-ejemplos entrenados, y especialmente al suavizado de cada imagen, ya que tiene que ir pixel a pixel para cada imagen aplicando el filtro. Si pusiesemos menos datos o si no le aplicasemos el filtro tardaría menos, pero hay una alta probabilidad de que perdamos precisión en el modelo (lo hemos comprobado anteriormente)."
   ]
  },
  {
   "cell_type": "markdown",
   "metadata": {},
   "source": [
    "[Indice](#Índice-de-la-práctica)"
   ]
  },
  {
   "cell_type": "markdown",
   "metadata": {},
   "source": [
    "# 4.Algoritmo de ventana deslizante"
   ]
  },
  {
   "cell_type": "markdown",
   "metadata": {},
   "source": [
    "Para buscar en la imagen una señal, vamos a recorrer la imagen con una ventana la cual va a variar el tamaño en busca de las señales"
   ]
  },
  {
   "cell_type": "code",
   "execution_count": 100,
   "metadata": {},
   "outputs": [],
   "source": [
    "def sliding_window(image, entreVentanas, windowSize):\n",
    "    # slide a window across the image\n",
    "    for j in range(0, image.shape[0], entreVentanas):\n",
    "        for i in range(0, image.shape[1], entreVentanas):\n",
    "            # yield the current window\n",
    "            yield (i, j, image[j:j + windowSize[1], i:i + windowSize[0]])"
   ]
  },
  {
   "cell_type": "markdown",
   "metadata": {},
   "source": [
    "Paso a paso vamos a ver como recorre la imagen:"
   ]
  },
  {
   "cell_type": "markdown",
   "metadata": {},
   "source": [
    "Cogemos una imagen:"
   ]
  },
  {
   "cell_type": "code",
   "execution_count": 92,
   "metadata": {},
   "outputs": [],
   "source": [
    "imagen_sin_color = cv2.imread('Dataset_images/00012.jpg',0)\n",
    "imagen_a_color = cv2.imread('Dataset_images/00012.jpg')"
   ]
  },
  {
   "cell_type": "markdown",
   "metadata": {},
   "source": [
    "Se recorrerá la imagen, con un tamaño de ventana cuadrada igual al menor lado de la imagen, la cual ira disminuyendo (entre 1.5) hasta ser de lado 30 o menor, el cual es un tamaño tan pequeño que creemos que es conveniente parar. Aparecerán los diferentes tamaños de la ventana al ejecutarse.\n",
    "También mencionar que la separacion entre ventana y ventana será de la mitad del lado de la ventana-parche que se esté estudiando.\n",
    "(este codigo lo hace de manera visual)"
   ]
  },
  {
   "cell_type": "code",
   "execution_count": 101,
   "metadata": {},
   "outputs": [
    {
     "name": "stdout",
     "output_type": "stream",
     "text": [
      "Tamaño de la ventana: 800x800\n",
      "Tamaño de la ventana: 533x533\n",
      "Tamaño de la ventana: 355x355\n",
      "Tamaño de la ventana: 236x236\n",
      "Tamaño de la ventana: 157x157\n",
      "Tamaño de la ventana: 104x104\n",
      "Tamaño de la ventana: 69x69\n",
      "Tamaño de la ventana: 46x46\n"
     ]
    }
   ],
   "source": [
    "if imagen_sin_color.shape[0]<imagen_sin_color.shape[1]:\n",
    "    winH = int(imagen_sin_color.shape[0])\n",
    "else:\n",
    "    winH = int(imagen_sin_color.shape[1])\n",
    "winW = winH\n",
    "step = int(winW/2)\n",
    "# print(winW,winH,step)\n",
    "result = []\n",
    "while winW>30 and winH>30:\n",
    "    print(f'Tamaño de la ventana: {winW}x{winH}')\n",
    "    # loop over the sliding window for each layer of the pyramid\n",
    "    for (x, y, window) in sliding_window(imagen_sin_color, step, windowSize=(winW, winH)):\n",
    "        # if the window does not meet our desired window size, ignore it\n",
    "        if x+winW<=imagen_sin_color.shape[1] and y+winH<=imagen_sin_color.shape[0]:\n",
    "            res = predecirImagenSVM(cv2.resize(window, (100, 100), interpolation = cv2.INTER_NEAREST),carac_type,clf)\n",
    "            clone = imagen_sin_color.copy()\n",
    "            cv2.rectangle(clone, (x, y), (x + winW, y + winH), (0, 255, 0), 2)\n",
    "            cv2.imshow(\"Window\", clone)\n",
    "            if res=='Signal':\n",
    "                result.append(np.array([x,y,winW,winH]))\n",
    "            else:\n",
    "                cv2.waitKey(1)\n",
    "                time.sleep(0.001)\n",
    "    cv2.destroyAllWindows()\n",
    "    winW = int(winW/1.5)\n",
    "    winH = winW\n",
    "    step = int(winW/2)"
   ]
  },
  {
   "cell_type": "markdown",
   "metadata": {},
   "source": [
    "# 5.Supresión de no máximos para eliminación de múltiples positivos"
   ]
  },
  {
   "cell_type": "markdown",
   "metadata": {},
   "source": [
    "Puede que prediga con diferentes tamaños de ventada la señal, con este codigo eliminamos estos casos (vemos si los centros de cada parche predicho estan dentro de otro. En ese caso los suprimimos."
   ]
  },
  {
   "cell_type": "code",
   "execution_count": 102,
   "metadata": {},
   "outputs": [],
   "source": [
    "n_result = []\n",
    "repetidos = []\n",
    "for i in range(len(result)):\n",
    "    x,y,winW,winH = result[i]\n",
    "    for j in range(len(result)):\n",
    "        centroX = int(result[j][0]+result[j][2]/2)\n",
    "        centroY = int(result[j][1]+result[j][3]/2)\n",
    "        if i!=j and centroX>=x and centroY>=y and centroX<=x+winW and centroY<=y+winH:\n",
    "            repetidos.append(j)\n",
    "            \n",
    "for i in range(len(result)):\n",
    "    if i not in repetidos:\n",
    "        n_result.append(result[i])"
   ]
  },
  {
   "cell_type": "code",
   "execution_count": 103,
   "metadata": {},
   "outputs": [
    {
     "data": {
      "text/plain": [
       "[array([156, 364, 104, 104]),\n",
       " array([104, 624, 104, 104]),\n",
       " array([136, 544,  69,  69])]"
      ]
     },
     "execution_count": 103,
     "metadata": {},
     "output_type": "execute_result"
    }
   ],
   "source": [
    "result"
   ]
  },
  {
   "cell_type": "code",
   "execution_count": 104,
   "metadata": {},
   "outputs": [
    {
     "data": {
      "text/plain": [
       "[array([156, 364, 104, 104]),\n",
       " array([104, 624, 104, 104]),\n",
       " array([136, 544,  69,  69])]"
      ]
     },
     "execution_count": 104,
     "metadata": {},
     "output_type": "execute_result"
    }
   ],
   "source": [
    "n_result"
   ]
  },
  {
   "cell_type": "code",
   "execution_count": 105,
   "metadata": {},
   "outputs": [
    {
     "name": "stdout",
     "output_type": "stream",
     "text": [
      "3\n"
     ]
    }
   ],
   "source": [
    "clone = imagen_a_color.copy()\n",
    "print(str(len(n_result)))\n",
    "for i in range(len(n_result)):\n",
    "    x,y,winW,winH = n_result[i]\n",
    "    cv2.rectangle(clone, (x, y), (x + winW, y + winH), (0, 255, 0), 2)\n",
    "    cv2.putText(clone,'Signal', (x,y-10), cv2.FONT_HERSHEY_PLAIN,.7,(0, 255, 0))\n",
    "    cv2.imshow(\"Window\", clone)\n",
    "cv2.waitKey(0)\n",
    "cv2.destroyAllWindows()"
   ]
  },
  {
   "cell_type": "markdown",
   "metadata": {},
   "source": [
    "*(como en el Objetivo1)"
   ]
  },
  {
   "cell_type": "markdown",
   "metadata": {},
   "source": [
    "[Indice](#Índice-de-la-práctica)"
   ]
  },
  {
   "cell_type": "markdown",
   "metadata": {},
   "source": [
    "Como podemos apreciar, el resultado en este ejemplo es algo favorable, pero este es uno de los pocos que interpreta más o menos bien apesar de la alta precision que muestra en el test."
   ]
  }
 ],
 "metadata": {
  "kernelspec": {
   "display_name": "Python 3",
   "language": "python",
   "name": "python3"
  },
  "language_info": {
   "codemirror_mode": {
    "name": "ipython",
    "version": 3
   },
   "file_extension": ".py",
   "mimetype": "text/x-python",
   "name": "python",
   "nbconvert_exporter": "python",
   "pygments_lexer": "ipython3",
   "version": "3.7.4"
  }
 },
 "nbformat": 4,
 "nbformat_minor": 2
}
