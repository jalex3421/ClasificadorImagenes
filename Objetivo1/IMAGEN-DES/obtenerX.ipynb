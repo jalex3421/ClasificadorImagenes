{
 "cells": [
  {
   "cell_type": "markdown",
   "metadata": {},
   "source": [
    "# Obtención X"
   ]
  },
  {
   "cell_type": "markdown",
   "metadata": {},
   "source": [
    "En este notebook se va a crear la matriz X, que es la que contiene las imágenes (se crea un dataset)."
   ]
  },
  {
   "cell_type": "code",
   "execution_count": 2,
   "metadata": {},
   "outputs": [],
   "source": [
    "import cv2\n",
    "import glob\n",
    "import skimage\n",
    "\n",
    "\n",
    "#Librerias contornos \n",
    "import numpy as np\n",
    "from skimage.io import imread, imshow\n",
    "from skimage.filters import prewitt_h,prewitt_v\n",
    "from skimage import data, io\n",
    "import matplotlib.pyplot as plt\n",
    "%matplotlib inline\n",
    "from skimage.filters import threshold_otsu \n",
    "from skimage.feature import hog\n",
    "from skimage import data, exposure"
   ]
  },
  {
   "cell_type": "markdown",
   "metadata": {},
   "source": [
    "$devolverDiccionarioEtiquetas$"
   ]
  },
  {
   "cell_type": "code",
   "execution_count": 3,
   "metadata": {},
   "outputs": [],
   "source": [
    "'''\n",
    "Descripcion: diccionario con los posibles valores de las imagenes, en relacion con el nombre de las carpetas.\n",
    "Entrada: -\n",
    "Salida: diccionario cuyas claves son el nombre de las carpetas, y los valores son el tipo de signals que contiene.\n",
    "'''\n",
    "\n",
    "\n",
    "def devolverDiccionarioEtiquetas():\n",
    "    \n",
    "    diccionarioValores = {}\n",
    "    diccionarioValores['00000'] = 'VelocidadMaxima20'\n",
    "    diccionarioValores['00001'] = 'VelocidadMaxima30'\n",
    "    diccionarioValores['00002'] = 'VelocidadMaxima50'\n",
    "    diccionarioValores['00003'] = 'VelocidadMaxima60'\n",
    "    diccionarioValores['00004'] = 'VelocidadMaxima70'\n",
    "    diccionarioValores['00005'] = 'VelocidadMaxima80'\n",
    "    diccionarioValores['00006'] = 'FinVelocidadMaxima80'\n",
    "    diccionarioValores['00007'] = 'VelocidadMaxima100'\n",
    "    diccionarioValores['00008'] = 'VelocidadMaxima120'\n",
    "    diccionarioValores['00009'] = 'AdelantamientoProhibido'\n",
    "    diccionarioValores['00010'] = 'AdelantamientoProhibidoParaCamiones'\n",
    "\n",
    "    diccionarioValores['00011'] = 'InterseccionConPrioridad'\n",
    "    diccionarioValores['00012'] = 'CalzadaConPrioridad'\n",
    "    diccionarioValores['00013'] = 'CedaElPaso'\n",
    "    diccionarioValores['00014'] = 'DetencionObligatoria'\n",
    "    diccionarioValores['00015'] = 'CirculacionProhibida'\n",
    "    diccionarioValores['00016'] = 'EntradaProhibidaAVehiculosMercancias'\n",
    "    diccionarioValores['00017'] = 'EntradaProhibida'\n",
    "    diccionarioValores['00018'] = 'OtrosPeligros'\n",
    "    diccionarioValores['00019'] = 'CurvaPeligrosaHaciaLaIzquierda'\n",
    "    diccionarioValores['00020'] = 'CurvaPeligrosaHaciaLaDerecha'\n",
    "\n",
    "    diccionarioValores['00021'] = 'CurvasPeligrosasHaciaLaIzquierda'\n",
    "    diccionarioValores['00022'] = 'PerfilIrregular'\n",
    "    diccionarioValores['00023'] = 'PavimentoDeslizante'\n",
    "    diccionarioValores['00024'] = 'EstrechamientoCalzadaPorDerecha'\n",
    "    diccionarioValores['00025'] = 'Obras'\n",
    "    diccionarioValores['00026'] = 'Semaforos'\n",
    "    diccionarioValores['00027'] = 'PasoDePeatones'\n",
    "    diccionarioValores['00028'] = 'Kids'\n",
    "    diccionarioValores['00029'] = 'EntradaProhibidasCiclos'\n",
    "    diccionarioValores['00030'] = 'PavimentoDeslizanteNieveHielo'\n",
    "\n",
    "    diccionarioValores['00031'] = 'PasoDeAnimalesEnLibertad'\n",
    "    diccionarioValores['00032'] = 'FinDeProhibiciones'\n",
    "    diccionarioValores['00033'] = 'SentidoObligatorioDerecha'\n",
    "    diccionarioValores['00034'] = 'SentidoObligatorioIzquierda'\n",
    "    diccionarioValores['00035'] = 'SentidoObligatorioArriba'\n",
    "    diccionarioValores['00036'] = 'DirPermitidasArribaDerecha'\n",
    "    diccionarioValores['00037'] = 'DirPermitidasArribaIzquierda'\n",
    "    diccionarioValores['00038'] = 'PasoObligatorioDerecha'\n",
    "    diccionarioValores['00039'] = 'PasoObligatorioizquierda'\n",
    "    diccionarioValores['00040'] = 'InterseccionSentidoObligatorioGiratorio'\n",
    "\n",
    "\n",
    "    diccionarioValores['00041'] = 'FinProhibicionAdelantamiento'\n",
    "    diccionarioValores['00042'] = 'FinProhibicionAdelantamientoCamiones'\n",
    "    \n",
    "    return diccionarioValores"
   ]
  },
  {
   "cell_type": "markdown",
   "metadata": {},
   "source": [
    "Probemos ahora el código...."
   ]
  },
  {
   "cell_type": "code",
   "execution_count": 4,
   "metadata": {},
   "outputs": [
    {
     "name": "stdout",
     "output_type": "stream",
     "text": [
      "VelocidadMaxima20\n",
      "VelocidadMaxima30\n",
      "VelocidadMaxima50\n",
      "VelocidadMaxima60\n",
      "VelocidadMaxima70\n",
      "VelocidadMaxima80\n",
      "FinVelocidadMaxima80\n",
      "VelocidadMaxima100\n",
      "VelocidadMaxima120\n",
      "AdelantamientoProhibido\n",
      "AdelantamientoProhibidoParaCamiones\n",
      "InterseccionConPrioridad\n",
      "CalzadaConPrioridad\n",
      "CedaElPaso\n",
      "DetencionObligatoria\n",
      "CirculacionProhibida\n",
      "EntradaProhibidaAVehiculosMercancias\n",
      "EntradaProhibida\n",
      "OtrosPeligros\n",
      "CurvaPeligrosaHaciaLaIzquierda\n",
      "CurvaPeligrosaHaciaLaIzquierda\n",
      "CurvasPeligrosasHaciaLaIzquierda\n",
      "PerfilIrregular\n",
      "PavimentoDeslizante\n",
      "EstrechamientoCalzadaPorDerecha\n",
      "Obras\n",
      "Semaforos\n",
      "PasoDePeatones\n",
      "Kids\n",
      "EntradaProhibidasCiclos\n",
      "PavimentoDeslizanteNieveHielo\n",
      "PasoDeAnimalesEnLibertad\n",
      "FinDeProhibiciones\n",
      "SentidoObligatorioDerecha\n",
      "SentidoObligatorioIzquierda\n",
      "SentidoObligatorioArriba\n",
      "DirPermitidasArribaDerecha\n",
      "DirPermitidasArribaIzquierda\n",
      "PasoObligatorioDerecha\n",
      "PasoObligatorioizquierda\n",
      "InterseccionSentidoObligatorioGiratorio\n",
      "FinProhibicionAdelantamiento\n",
      "FinProhibicionAdelantamientoCamiones\n"
     ]
    }
   ],
   "source": [
    "d =  devolverDiccionarioEtiquetas()\n",
    "\n",
    "for k,v in d.items():\n",
    "    print(v)"
   ]
  },
  {
   "cell_type": "code",
   "execution_count": 6,
   "metadata": {},
   "outputs": [
    {
     "ename": "SyntaxError",
     "evalue": "invalid syntax (<ipython-input-6-b37aee121bf0>, line 47)",
     "output_type": "error",
     "traceback": [
      "\u001b[1;36m  File \u001b[1;32m\"<ipython-input-6-b37aee121bf0>\"\u001b[1;36m, line \u001b[1;32m47\u001b[0m\n\u001b[1;33m    d = #funcion correspondiente\u001b[0m\n\u001b[1;37m                                ^\u001b[0m\n\u001b[1;31mSyntaxError\u001b[0m\u001b[1;31m:\u001b[0m invalid syntax\n"
     ]
    }
   ],
   "source": [
    "def crearDiccionarioDatos():\n",
    "    trafic_signals = {}\n",
    "    #para cada tipo de señal creamos una lista con sus ejemplos, y se la asignamos a su etiqueta de nombre de carpeta\n",
    "    for i in range(0,43):\n",
    "        if i<10:\n",
    "            folder = 'Dataset_traffic_sign/0000'+i+'/*.png'\n",
    "            tipo = '0000'+i\n",
    "        else:\n",
    "            folder = 'Dataset_traffic_sign/000'+i+'/*.png'\n",
    "            tipo = '000'+i\n",
    "        \n",
    "        images = [cv2.imread(file,0) for file in glob.glob(folder)]\n",
    "        images_mod = [] \n",
    "        for im in images:\n",
    "            #se aplica el resize\n",
    "            images_mod.append(cv2.resize(im, (100, 100), interpolation = cv2.INTER_NEAREST))\n",
    "\n",
    "        trafic_signals[tipo] = images_mod\n",
    "    return trafic_signals\n",
    "\n",
    "def creaMatrizCaracteristicas(trafic_signals, signals_types, carac_type):\n",
    "    X = 0\n",
    "    Y = 0\n",
    "    \n",
    "    for signal,images in trafic_signals.items():\n",
    "        y = []\n",
    "        x = obtenerDesCaracteristicas(images, carac_type)\n",
    "\n",
    "        for i in range(len(images)):\n",
    "            y.append(signals_types[signal])\n",
    "            \n",
    "        y = np.array(y)\n",
    "    \n",
    "        if signal=='00000':\n",
    "            X = x\n",
    "            Y = y\n",
    "        else:\n",
    "            X = np.vstack((X,x))\n",
    "            Y = np.vstack((Y,y))\n",
    "    \n",
    "    return X,Y\n",
    "\n",
    "def obtenerDesCaracteristicas(images, carac_type):\n",
    "    des = 0\n",
    "    for i in range(len(images)):\n",
    "        if carac_type=='sift':\n",
    "            d = #funcion correspondiente\n",
    "        elif carac_type=='surf':\n",
    "            d = #funcion correspondiente\n",
    "        elif carac_type=='fast_brief':\n",
    "            d = #funcion correspondiente\n",
    "        elif carac_type=='orb':\n",
    "            d = #funcion correspondiente\n",
    "        else:\n",
    "            try:\n",
    "                raise ValueError\n",
    "            except ValueError:\n",
    "                print(\"valor incorrecto\")\n",
    "\n",
    "        if i==0:\n",
    "            des = d\n",
    "        else:\n",
    "            des = np.vstack((des,d))\n",
    "    return des"
   ]
  },
  {
   "cell_type": "code",
   "execution_count": null,
   "metadata": {},
   "outputs": [],
   "source": []
  }
 ],
 "metadata": {
  "kernelspec": {
   "display_name": "Python 3",
   "language": "python",
   "name": "python3"
  },
  "language_info": {
   "codemirror_mode": {
    "name": "ipython",
    "version": 3
   },
   "file_extension": ".py",
   "mimetype": "text/x-python",
   "name": "python",
   "nbconvert_exporter": "python",
   "pygments_lexer": "ipython3",
   "version": "3.7.4"
  }
 },
 "nbformat": 4,
 "nbformat_minor": 2
}
