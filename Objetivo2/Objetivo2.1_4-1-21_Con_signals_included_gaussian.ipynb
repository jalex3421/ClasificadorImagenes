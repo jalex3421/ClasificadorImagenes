{
 "cells": [
  {
   "cell_type": "markdown",
   "metadata": {},
   "source": [
    "# Objetivo 2.1"
   ]
  },
  {
   "cell_type": "markdown",
   "metadata": {},
   "source": [
    "# Autores\n",
    "David Rodríguez , Alejandro Meza"
   ]
  },
  {
   "cell_type": "markdown",
   "metadata": {},
   "source": [
    "# Índice de la práctica\n",
    "\n",
    "- [1.Introducción](#1.Introducción)\n",
    "- [2.Creación de datos](#2.Creación-de-datos)\n",
    "- [3.Creación de Modelo de Predicción](#3.Creación-de-Modelo-de-Predicción)"
   ]
  },
  {
   "cell_type": "code",
   "execution_count": 47,
   "metadata": {},
   "outputs": [],
   "source": [
    "import cv2\n",
    "import glob\n",
    "import skimage\n",
    "\n",
    "\n",
    "#Librerias contornos \n",
    "import numpy as np\n",
    "from skimage.io import imread, imshow\n",
    "import matplotlib.pyplot as plt\n",
    "%matplotlib inline\n",
    "from skimage.feature import hog\n",
    "from skimage import data, exposure\n",
    "\n",
    "#Machine Learning\n",
    "from scipy.optimize import minimize\n",
    "import sklearn.metrics as metrics\n",
    "from sklearn.model_selection import GridSearchCV\n",
    "from sklearn import svm"
   ]
  },
  {
   "cell_type": "code",
   "execution_count": 48,
   "metadata": {},
   "outputs": [],
   "source": [
    "import cv2\n",
    "import glob\n",
    "import skimage\n",
    "\n",
    "\n",
    "#Librerias contornos \n",
    "import numpy as np\n",
    "from skimage.io import imread, imshow\n",
    "from skimage.filters import prewitt_h,prewitt_v\n",
    "from skimage import data, io\n",
    "import matplotlib.pyplot as plt\n",
    "%matplotlib inline\n",
    "from skimage.filters import threshold_otsu \n",
    "from skimage.feature import hog\n",
    "from skimage import data, exposure\n",
    "\n",
    "#Machine Learning\n",
    "from sklearn.linear_model import LogisticRegression\n",
    "from sklearn.datasets import load_iris #dataset de prueba\n",
    "from sklearn.preprocessing import OneHotEncoder\n",
    "from scipy.optimize import minimize\n",
    "import sklearn.metrics as metrics\n",
    "from sklearn.model_selection import GridSearchCV\n",
    "from sklearn import svm\n",
    "\n",
    "#Librerias para preparación de datos\n",
    "from sklearn.model_selection import train_test_split\n",
    "from sklearn.preprocessing import StandardScaler"
   ]
  },
  {
   "cell_type": "markdown",
   "metadata": {},
   "source": [
    "# 1.Introducción"
   ]
  },
  {
   "cell_type": "markdown",
   "metadata": {},
   "source": [
    "Para cumplir el objetivo 1, lo hemos dividido en tareas:\n",
    "\n",
    "||||||||||||||||||||||||||||||||||||||||||||||||||||||||||||||||||||||"
   ]
  },
  {
   "cell_type": "markdown",
   "metadata": {},
   "source": [
    "# 2.Creación de datos"
   ]
  },
  {
   "cell_type": "markdown",
   "metadata": {},
   "source": [
    "Se va a crear la matriz X, que es la que contiene las imágenes (se crea un dataset). Creamos metodos que nos ayudaran a conseguir nuestro objetivo."
   ]
  },
  {
   "cell_type": "code",
   "execution_count": 49,
   "metadata": {},
   "outputs": [],
   "source": [
    "'''\n",
    "Descripcion: diccionario con los posibles valores de las imagenes, en relacion con el nombre de las carpetas.\n",
    "Entrada: -\n",
    "Salida: diccionario cuyas claves son el nombre de las carpetas, y los valores son el tipo de signals que contiene.\n",
    "'''\n",
    "def devolverDiccionarioEtiquetasSign():\n",
    "    \n",
    "    diccionarioValores = {}\n",
    "    diccionarioValores['00000'] = 'VelocidadMaxima20'\n",
    "    diccionarioValores['00001'] = 'VelocidadMaxima30'\n",
    "    diccionarioValores['00002'] = 'VelocidadMaxima50'\n",
    "    diccionarioValores['00003'] = 'VelocidadMaxima60'\n",
    "    diccionarioValores['00004'] = 'VelocidadMaxima70'\n",
    "    diccionarioValores['00005'] = 'VelocidadMaxima80'\n",
    "    diccionarioValores['00006'] = 'FinVelocidadMaxima80'\n",
    "    diccionarioValores['00007'] = 'VelocidadMaxima100'\n",
    "    diccionarioValores['00008'] = 'VelocidadMaxima120'\n",
    "    diccionarioValores['00009'] = 'AdelantamientoProhibido'\n",
    "    diccionarioValores['00010'] = 'AdelantamientoProhibidoParaCamiones'\n",
    "\n",
    "    diccionarioValores['00011'] = 'InterseccionConPrioridad'\n",
    "    diccionarioValores['00012'] = 'CalzadaConPrioridad'\n",
    "    diccionarioValores['00013'] = 'CedaElPaso'\n",
    "    diccionarioValores['00014'] = 'DetencionObligatoria'\n",
    "    diccionarioValores['00015'] = 'CirculacionProhibida'\n",
    "    diccionarioValores['00016'] = 'EntradaProhibidaAVehiculosMercancias'\n",
    "    diccionarioValores['00017'] = 'EntradaProhibida'\n",
    "    diccionarioValores['00018'] = 'OtrosPeligros'\n",
    "    diccionarioValores['00019'] = 'CurvaPeligrosaHaciaLaIzquierda'\n",
    "    diccionarioValores['00020'] = 'CurvaPeligrosaHaciaLaDerecha'\n",
    "\n",
    "    diccionarioValores['00021'] = 'CurvasPeligrosasHaciaLaIzquierda'\n",
    "    diccionarioValores['00022'] = 'PerfilIrregular'\n",
    "    diccionarioValores['00023'] = 'PavimentoDeslizante'\n",
    "    diccionarioValores['00024'] = 'EstrechamientoCalzadaPorDerecha'\n",
    "    diccionarioValores['00025'] = 'Obras'\n",
    "    diccionarioValores['00026'] = 'Semaforos'\n",
    "    diccionarioValores['00027'] = 'PasoDePeatones'\n",
    "    diccionarioValores['00028'] = 'Kids'\n",
    "    diccionarioValores['00029'] = 'EntradaProhibidasCiclos'\n",
    "    diccionarioValores['00030'] = 'PavimentoDeslizanteNieveHielo'\n",
    "\n",
    "    diccionarioValores['00031'] = 'PasoDeAnimalesEnLibertad'\n",
    "    diccionarioValores['00032'] = 'FinDeProhibiciones'\n",
    "    diccionarioValores['00033'] = 'SentidoObligatorioDerecha'\n",
    "    diccionarioValores['00034'] = 'SentidoObligatorioIzquierda'\n",
    "    diccionarioValores['00035'] = 'SentidoObligatorio'\n",
    "    diccionarioValores['00036'] = 'DirPermitidasRectoYDerecha'\n",
    "    diccionarioValores['00037'] = 'DirPermitidasRectoEIzquierda'\n",
    "    diccionarioValores['00038'] = 'PasoObligatorioDerecha'\n",
    "    diccionarioValores['00039'] = 'PasoObligatorioizquierda'\n",
    "    diccionarioValores['00040'] = 'InterseccionSentidoObligatorioGiratorio'\n",
    "\n",
    "\n",
    "    diccionarioValores['00041'] = 'FinProhibicionAdelantamiento'\n",
    "    diccionarioValores['00042'] = 'FinProhibicionAdelantamientoCamiones'\n",
    "    \n",
    "    return diccionarioValores"
   ]
  },
  {
   "cell_type": "code",
   "execution_count": 50,
   "metadata": {},
   "outputs": [],
   "source": [
    "'''\n",
    "Descripcion: diccionario con los posibles valores de las imagenes, en relacion con el nombre de las carpetas.\n",
    "Entrada: -\n",
    "Salida: diccionario cuyas claves son el nombre de las carpetas, y los valores son el tipo de signals que contiene.\n",
    "'''\n",
    "def devolverDiccionarioEtiquetasNoSign():\n",
    "    \n",
    "    diccionarioValores = {}\n",
    "    diccionarioValores['000'] = 'Animal'\n",
    "    diccionarioValores['001'] = 'Carretera'\n",
    "    diccionarioValores['002'] = 'Cielo'\n",
    "    diccionarioValores['003'] = 'VehiculoCoche'\n",
    "    diccionarioValores['004'] = 'Arbol'\n",
    "    diccionarioValores['005'] = 'Persona'\n",
    "    diccionarioValores['006'] = 'Edificio'\n",
    "    diccionarioValores['007'] = 'VehiculoMoto'\n",
    "    diccionarioValores['008'] = 'Semaforo'\n",
    "    diccionarioValores['009'] = 'Basura'\n",
    "    diccionarioValores['010'] = 'Farola'\n",
    "\n",
    "    diccionarioValores['011'] = 'Estatua'\n",
    "    diccionarioValores['012'] = 'PasoDeZebra'\n",
    "    diccionarioValores['013'] = 'Carteles'\n",
    "    diccionarioValores['014'] = 'Ventana'\n",
    "    diccionarioValores['015'] = 'Paisaje'\n",
    "    diccionarioValores['016'] = 'Mix'\n",
    "    diccionarioValores['017'] = 'All'\n",
    "    \n",
    "    return diccionarioValores"
   ]
  },
  {
   "cell_type": "markdown",
   "metadata": {},
   "source": [
    "Probemos ahora el código...."
   ]
  },
  {
   "cell_type": "code",
   "execution_count": 51,
   "metadata": {},
   "outputs": [
    {
     "name": "stdout",
     "output_type": "stream",
     "text": [
      "Animal\n",
      "Carretera\n",
      "Cielo\n",
      "VehiculoCoche\n",
      "Arbol\n",
      "Persona\n",
      "Edificio\n",
      "VehiculoMoto\n",
      "Semaforo\n",
      "Basura\n",
      "Farola\n",
      "Estatua\n",
      "PasoDeZebra\n",
      "Carteles\n",
      "Ventana\n",
      "Paisaje\n",
      "Mix\n",
      "All\n"
     ]
    }
   ],
   "source": [
    "d =  devolverDiccionarioEtiquetasNoSign()\n",
    "\n",
    "for k,v in d.items():\n",
    "    print(v)"
   ]
  },
  {
   "cell_type": "markdown",
   "metadata": {},
   "source": [
    "Creamos un diccionario para almacenar todas las fotos, relacionadas a cada elemento diferente de señal"
   ]
  },
  {
   "cell_type": "code",
   "execution_count": 52,
   "metadata": {},
   "outputs": [],
   "source": [
    "'''\n",
    "Descripcion: diccionario con los posibles valores de las imagenes, en relacion con el nombre de las carpetas.\n",
    "Entrada: -\n",
    "Salida: diccionario cuyas claves son el nombre de las carpetas, y los valores son las imagenes de las signals\n",
    "'''\n",
    "def crearDiccionarioDatosSign():\n",
    "    trafic_signals = {}\n",
    "    #para cada tipo de señal creamos una lista con sus ejemplos, y se la asignamos a su etiqueta de nombre de carpeta\n",
    "    for i in range(0,43):\n",
    "        if i<10:\n",
    "            folder = 'Dataset_traffic_sign/0000'+str(i)+'/*.png'\n",
    "            tipo = '0000'+str(i)\n",
    "        else:\n",
    "            folder = 'Dataset_traffic_sign/000'+str(i)+'/*.png'\n",
    "            tipo = '000'+str(i)\n",
    "        \n",
    "        images = [cv2.imread(file,0) for file in glob.glob(folder)]\n",
    "        images_mod = [] \n",
    "        for im in images:\n",
    "            #se aplica el resize\n",
    "            images_mod.append(cv2.resize(im, (100, 100), interpolation = cv2.INTER_NEAREST))\n",
    "\n",
    "        trafic_signals[tipo] = images_mod\n",
    "    return trafic_signals"
   ]
  },
  {
   "cell_type": "code",
   "execution_count": 53,
   "metadata": {},
   "outputs": [],
   "source": [
    "'''\n",
    "Descripcion: diccionario con los posibles valores de las imagenes, en relacion con el nombre de las carpetas.\n",
    "Entrada: -\n",
    "Salida: diccionario cuyas claves son el nombre de las carpetas, y los valores los elementos que no son signals\n",
    "'''\n",
    "def crearDiccionarioDatosNoSign():\n",
    "    noSignals = {} #diccionario para almacenar todo lo que no es sinal\n",
    "    #para cada tipo de elemento que no es señal creamos una lista con sus ejemplos\n",
    "    # y se la asignamos a su etiqueta de nombre de carpeta\n",
    "    for i in range(0,18): #iteramos sobre el numero de carptas\n",
    "        if i<10:\n",
    "            folder = 'Dataset_no_traffic_sign/00'+str(i)+'/*.jpg'\n",
    "            tipo = '00'+str(i)\n",
    "        else:\n",
    "            folder = 'Dataset_no_traffic_sign/0'+str(i)+'/*.jpg'\n",
    "            tipo = '0'+str(i)\n",
    "\n",
    "        images = [cv2.imread(file,0) for file in glob.glob(folder)]\n",
    "        images_mod = [] \n",
    "        for im in images:\n",
    "            #se aplica el resize\n",
    "            images_mod.append(cv2.resize(im, (100, 100), interpolation = cv2.INTER_NEAREST))\n",
    "\n",
    "        noSignals[tipo] = images_mod\n",
    "    return noSignals"
   ]
  },
  {
   "cell_type": "markdown",
   "metadata": {},
   "source": [
    "Creamos funciones para transformar imagenes en descriptores con HOG."
   ]
  },
  {
   "cell_type": "code",
   "execution_count": 54,
   "metadata": {},
   "outputs": [],
   "source": [
    "# HOG\n",
    "def hogMaker(images00000_mod):\n",
    "    fd, hog_image = hog(images00000_mod, orientations=8, pixels_per_cell=(16, 16),\n",
    "                        cells_per_block=(1, 1), visualize=True)\n",
    "    return fd"
   ]
  },
  {
   "cell_type": "markdown",
   "metadata": {},
   "source": [
    "Cogemos las imagenes y las separamos en train y test, y decimos a que clase pertenecen*"
   ]
  },
  {
   "cell_type": "code",
   "execution_count": 55,
   "metadata": {},
   "outputs": [],
   "source": [
    "'''\n",
    "Descripcion: Obtencion de train y test a partir de un conjunto de imágenes\n",
    "Entrada: trafic_signals, signals_types\n",
    "Salida: imagenesTrain,imagenesTest,ytrain,ytest\n",
    "'''\n",
    "def separaTrainTest(trafic_signals,signals_types):\n",
    "    imagenesTrain = None\n",
    "    imagenesTest = None\n",
    "    ytrain = None\n",
    "    ytest = None\n",
    "    \n",
    "    for signal,images in trafic_signals.items():\n",
    "        \n",
    "        aux_y_train = []\n",
    "        aux_y_test = []\n",
    "        \n",
    "        np_im = np.array(images)\n",
    "        n_train = int(0.6*np_im.shape[0])\n",
    "        n_test = np_im.shape[0]-n_train\n",
    "        \n",
    "        aux_train = np_im[:n_train]\n",
    "        aux_test = np_im[n_train:]\n",
    "        \n",
    "        for i in range(n_train):\n",
    "            aux_y_train.append(signals_types[signal])\n",
    "        for i in range(n_test):\n",
    "            aux_y_test.append(signals_types[signal])\n",
    "        \n",
    "        aux_y_train = np.array(aux_y_train).reshape(-1,1)\n",
    "        aux_y_test = np.array(aux_y_test).reshape(-1,1)\n",
    "        \n",
    "        if imagenesTrain is None:\n",
    "            imagenesTrain = aux_train\n",
    "            ytrain = aux_y_train\n",
    "            imagenesTest = aux_test\n",
    "            ytest = aux_y_test\n",
    "        else:\n",
    "            imagenesTrain = np.concatenate((imagenesTrain,aux_train),axis=0)\n",
    "            ytrain =  np.vstack((ytrain,aux_y_train))\n",
    "            imagenesTest = np.concatenate((imagenesTest,aux_test),axis=0)\n",
    "            ytest = np.vstack((ytest,aux_y_test))\n",
    "        \n",
    "    return imagenesTrain,imagenesTest,ytrain,ytest"
   ]
  },
  {
   "cell_type": "markdown",
   "metadata": {},
   "source": [
    "Creamos las caracteristicas con los datos que nos den y sus tipos*"
   ]
  },
  {
   "cell_type": "code",
   "execution_count": 56,
   "metadata": {},
   "outputs": [],
   "source": [
    "\n",
    "def creaMatrizCaracteristicas(imagenes,carac_type, y=None ):\n",
    "    X = None\n",
    "    if y is not None:\n",
    "        y_nueva = []\n",
    "        \n",
    "    for i in range(imagenes.shape[0]):\n",
    "        if carac_type=='hog':\n",
    "            d = hogMaker(imagenes[i])\n",
    "        else: #en caso de recibir un valor que no es valido\n",
    "            try:\n",
    "                raise ValueError\n",
    "            except ValueError:\n",
    "                print(\"valor incorrecto\")\n",
    "        \n",
    "        if d is not None:\n",
    "            if y is not None:\n",
    "                y_nueva.append(y[i])\n",
    "            if X is None:\n",
    "                X = d\n",
    "            else:\n",
    "                X = np.vstack((X,d))\n",
    "    if y is not None:\n",
    "        return X, np.array(y_nueva)\n",
    "    else:\n",
    "        return X"
   ]
  },
  {
   "cell_type": "code",
   "execution_count": 57,
   "metadata": {},
   "outputs": [],
   "source": [
    "elem_signals = crearDiccionarioDatosSign() #creacion del diccionario de datos\n",
    "signals_types = devolverDiccionarioEtiquetasSign() #creacion de diccionario que contiene nombre de carpetas y tipos de signals\n",
    "\n",
    "elem_no_signals = crearDiccionarioDatosNoSign() #creacion del diccionario de datos\n",
    "no_signals_types = devolverDiccionarioEtiquetasNoSign() #creacion de diccionario que contiene nombre de carpetas y tipos de signalcarac_type = 'hog' #el tipo elegido para los descriptores va a ser Hog\n",
    "carac_type = 'hog'"
   ]
  },
  {
   "cell_type": "code",
   "execution_count": 58,
   "metadata": {},
   "outputs": [
    {
     "data": {
      "text/plain": [
       "4428"
      ]
     },
     "execution_count": 58,
     "metadata": {},
     "output_type": "execute_result"
    }
   ],
   "source": [
    "len(elem_no_signals['017'])\n"
   ]
  },
  {
   "cell_type": "markdown",
   "metadata": {},
   "source": [
    "Separamos las señales y las no señales en conjuntos para TRAIN y TEST"
   ]
  },
  {
   "cell_type": "code",
   "execution_count": 59,
   "metadata": {},
   "outputs": [],
   "source": [
    "signal_Train,signal_Test,signal_ytrain,signal_ytest = separaTrainTest(elem_signals,signals_types)"
   ]
  },
  {
   "cell_type": "code",
   "execution_count": 60,
   "metadata": {},
   "outputs": [],
   "source": [
    "no_signal_Train,no_signal_Test,no_signal_ytrain,no_signal_ytest = separaTrainTest(elem_no_signals,no_signals_types)"
   ]
  },
  {
   "cell_type": "code",
   "execution_count": 61,
   "metadata": {},
   "outputs": [],
   "source": [
    "imagenesTrain = np.concatenate((signal_Train, no_signal_Train))\n",
    "imagenesTest = np.concatenate((signal_Test, no_signal_Test))\n",
    "\n",
    "ytrain = np.vstack((signal_ytrain,no_signal_ytrain))\n",
    "ytest = np.vstack((signal_ytest,no_signal_ytest))\n",
    "\n",
    "Xtrain, Ytrain = creaMatrizCaracteristicas(imagenesTrain,carac_type,ytrain)\n",
    "Xtest, Ytest = creaMatrizCaracteristicas(imagenesTest,carac_type,ytest)"
   ]
  },
  {
   "cell_type": "code",
   "execution_count": 62,
   "metadata": {},
   "outputs": [],
   "source": [
    "def filtro_suavizado(imagen, mascara):\n",
    "    a,b = mascara.shape\n",
    "    a = (a//2)\n",
    "    b = (b//2)\n",
    "    aux = np.zeros_like(imagen)\n",
    "\n",
    "    #Se crea la imagen ampliada \n",
    "    imagen_ampliada = cv2.copyMakeBorder(imagen,a,a,b,b,cv2.BORDER_REPLICATE)\n",
    "\n",
    "    #Dimensiones de la imagen ampliada\n",
    "    r,c = imagen_ampliada.shape\n",
    "\n",
    "    for i in range(a,r-a): #en el bucle no iteras sobre las filas que has ampliado\n",
    "        for j in range(b,c-b): #en el bucle no iteras sobre las columnas que has ampliado\n",
    "            vecindad= imagen_ampliada[i-a:i+a+1, j-b: j+b+1]\n",
    "            aux[i-a,j-b] = np.sum(vecindad * mascara)\n",
    "\n",
    "    return np.uint8(aux)\n",
    "\n",
    "n = 3 #tamaño del filtro\n",
    "sigma = 3 #desviación de la gaussiana\n",
    "mask = cv2.getGaussianKernel(n, sigma)*cv2.getGaussianKernel(n, sigma).T\n",
    "\n",
    "imagenesTrain_GK = np.zeros(imagenesTrain.shape)\n",
    "for i in range(imagenesTrain.shape[0]):\n",
    "    imagenesTrain_GK[i] = filtro_suavizado(imagenesTrain[i], mask)\n",
    "\n",
    "imagenesTest_GK = np.zeros(imagenesTest.shape)\n",
    "for i in range(imagenesTest.shape[0]):\n",
    "    imagenesTest_GK[i] = filtro_suavizado(imagenesTest[i], mask)\n",
    "    \n",
    "Xtrain, Ytrain = creaMatrizCaracteristicas(imagenesTrain_GK,carac_type,ytrain)\n",
    "Xtest, Ytest = creaMatrizCaracteristicas(imagenesTest_GK,carac_type,ytest)"
   ]
  },
  {
   "cell_type": "code",
   "execution_count": 63,
   "metadata": {},
   "outputs": [
    {
     "data": {
      "text/plain": [
       "((739, 100, 100), (525, 100, 100), (739, 1), (525, 1))"
      ]
     },
     "execution_count": 63,
     "metadata": {},
     "output_type": "execute_result"
    }
   ],
   "source": [
    "signal_Train.shape,signal_Test.shape,signal_ytrain.shape,signal_ytest.shape"
   ]
  },
  {
   "cell_type": "code",
   "execution_count": 64,
   "metadata": {},
   "outputs": [
    {
     "data": {
      "text/plain": [
       "((4725, 100, 100), (3162, 100, 100), (4725, 1), (3162, 1))"
      ]
     },
     "execution_count": 64,
     "metadata": {},
     "output_type": "execute_result"
    }
   ],
   "source": [
    "no_signal_Train.shape,no_signal_Test.shape,no_signal_ytrain.shape,no_signal_ytest.shape"
   ]
  },
  {
   "cell_type": "code",
   "execution_count": 65,
   "metadata": {},
   "outputs": [
    {
     "data": {
      "text/plain": [
       "((5464, 288), (5464, 1), (3687, 288), (3687, 1))"
      ]
     },
     "execution_count": 65,
     "metadata": {},
     "output_type": "execute_result"
    }
   ],
   "source": [
    "Xtrain.shape, Ytrain.shape,Xtest.shape, Ytest.shape"
   ]
  },
  {
   "cell_type": "markdown",
   "metadata": {},
   "source": [
    "# 3.Creación de Modelo de Predicción"
   ]
  },
  {
   "cell_type": "markdown",
   "metadata": {},
   "source": [
    "A continuación se implementarán dos modelos de ML como son regresión logísitica y SVM para dar solución al problema."
   ]
  },
  {
   "cell_type": "code",
   "execution_count": 66,
   "metadata": {},
   "outputs": [],
   "source": [
    "def transformarY_SignNoSign(y, dicNoSign):\n",
    "    Y = np.ones(y.shape[0]).reshape(-1,1)\n",
    "    \n",
    "    for signal,nombre in dicNoSign.items():\n",
    "        for i in range(Y.size):\n",
    "            if y[i]==nombre:\n",
    "                Y[i] = 0\n",
    "    Yfinal = []\n",
    "    for i in range(Y.size):\n",
    "        if Y[i] == 1:\n",
    "            Yfinal.append('Signal')\n",
    "        else:\n",
    "            Yfinal.append('No Signal')\n",
    "    return Yfinal"
   ]
  },
  {
   "cell_type": "code",
   "execution_count": 67,
   "metadata": {},
   "outputs": [],
   "source": [
    "Ytrain_T = transformarY_SignNoSign(Ytrain, no_signals_types)\n",
    "Ytest_T = transformarY_SignNoSign(Ytest, no_signals_types)"
   ]
  },
  {
   "cell_type": "code",
   "execution_count": 68,
   "metadata": {},
   "outputs": [],
   "source": [
    "Ytrain_T = np.array(Ytrain_T)\n",
    "Ytest_T = np.array(Ytest_T)"
   ]
  },
  {
   "cell_type": "code",
   "execution_count": 69,
   "metadata": {},
   "outputs": [
    {
     "name": "stdout",
     "output_type": "stream",
     "text": [
      "Classification report for - \n",
      "GridSearchCV(estimator=SVC(),\n",
      "             param_grid=[{'C': [1, 10, 100, 1000], 'kernel': ['linear']},\n",
      "                         {'C': [1, 10, 100, 1000], 'gamma': [0.001, 0.0001],\n",
      "                          'kernel': ['rbf']}]):\n",
      "              precision    recall  f1-score   support\n",
      "\n",
      "   No Signal       0.99      1.00      1.00      3162\n",
      "      Signal       0.99      0.97      0.98       525\n",
      "\n",
      "    accuracy                           0.99      3687\n",
      "   macro avg       0.99      0.98      0.99      3687\n",
      "weighted avg       0.99      0.99      0.99      3687\n",
      "\n",
      "\n"
     ]
    }
   ],
   "source": [
    "param_grid = [\n",
    "  {'C': [1, 10, 100, 1000], 'kernel': ['linear']},\n",
    "  {'C': [1, 10, 100, 1000], 'gamma': [0.001, 0.0001], 'kernel': ['rbf']},]\n",
    "svc = svm.SVC()\n",
    "clf = GridSearchCV(svc, param_grid)\n",
    "clf.fit(Xtrain,Ytrain_T.ravel())\n",
    "y_pred = clf.predict(Xtest)\n",
    "print(\"Classification report for - \\n{}:\\n{}\\n\".format(clf, metrics.classification_report(Ytest_T.ravel(), y_pred)))"
   ]
  },
  {
   "cell_type": "code",
   "execution_count": 70,
   "metadata": {},
   "outputs": [],
   "source": [
    "def predecirImagenSVM(imagen,carac_type,clf):\n",
    "#     transformar imagen en des\n",
    "    d = creaMatrizCaracteristicas(np.array([imagen]), carac_type)\n",
    "    d = np.array(d).reshape(1,-1)\n",
    "    return clf.predict(d)"
   ]
  },
  {
   "cell_type": "code",
   "execution_count": 84,
   "metadata": {},
   "outputs": [
    {
     "name": "stdout",
     "output_type": "stream",
     "text": [
      "¿Desea probar el clasificador? (si/no)si\n",
      "Introduce un numero de imagen para probar: 900\n",
      "Tu numero de imagen para probar es la numero 900\n"
     ]
    },
    {
     "data": {
      "image/png": "[encoded data removed]",
      "text/plain": [
       "<Figure size 432x288 with 1 Axes>"
      ]
     },
     "metadata": {
      "needs_background": "light"
     },
     "output_type": "display_data"
    },
    {
     "name": "stdout",
     "output_type": "stream",
     "text": [
      "Precision hasta el momento: 100.0%\n",
      "\n",
      "¿Desea seguir probando el clasificador? (si/no)no\n",
      "Hasta la proxima!!\n"
     ]
    }
   ],
   "source": [
    "#pequeña celda para interactuar con el clasificador\n",
    "\n",
    "caracter = input(\"¿Desea probar el clasificador? (si/no)\")\n",
    "nDeAciertos = 0\n",
    "nDeSignalsEjecutadas = 0\n",
    "if caracter == \"no\":\n",
    "    print(\"Hasta la proxima!!\")\n",
    "elif caracter == \"si\":\n",
    "    while(caracter == \"si\"):\n",
    "        nDeSignalsEjecutadas+=1\n",
    "        numeroImagen = (int)(input(\"Introduce un numero de imagen para probar: \"))\n",
    "        print(f\"Tu numero de imagen para probar es la numero {numeroImagen}\")\n",
    "        res = predecirImagenSVM(imagenesTest[numeroImagen],carac_type,clf)\n",
    "        plt.figure()\n",
    "        plt.imshow(imagenesTest[numeroImagen])\n",
    "        lab = 'Precision 95%\\n'+ res[0]\n",
    "        plt.xlabel(lab)\n",
    "        plt.show()\n",
    "        if Ytest_T[numeroImagen]==res:\n",
    "            nDeAciertos+=1\n",
    "        print(f\"Precision hasta el momento: {(nDeAciertos/nDeSignalsEjecutadas)*100}%\\n\")\n",
    "        caracter = input(\"¿Desea seguir probando el clasificador? (si/no)\")\n",
    "        if caracter == \"no\":\n",
    "            print(\"Hasta la proxima!!\")\n",
    "            break"
   ]
  },
  {
   "cell_type": "markdown",
   "metadata": {},
   "source": [
    "Para finalizar, vemos que tenemmos una gran tasa de aciertos, para predecir entre señales y no señales."
   ]
  },
  {
   "cell_type": "markdown",
   "metadata": {},
   "source": [
    "# Objetivo 2.2"
   ]
  },
  {
   "cell_type": "code",
   "execution_count": 85,
   "metadata": {},
   "outputs": [],
   "source": [
    "import argparse\n",
    "import time\n",
    "import cv2\n",
    "\n",
    "from skimage.transform.pyramids import pyramid_gaussian"
   ]
  },
  {
   "cell_type": "code",
   "execution_count": 86,
   "metadata": {},
   "outputs": [],
   "source": [
    "def sliding_window(image, entreVentanas, windowSize):\n",
    "    # slide a window across the image\n",
    "    for j in range(0, image.shape[0], entreVentanas):\n",
    "        for i in range(0, image.shape[1], entreVentanas):\n",
    "            # yield the current window\n",
    "            yield (i, j, image[j:j + windowSize[1], i:i + windowSize[0]])"
   ]
  },
  {
   "cell_type": "code",
   "execution_count": 136,
   "metadata": {},
   "outputs": [
    {
     "data": {
      "text/plain": [
       "(800, 1360)"
      ]
     },
     "execution_count": 136,
     "metadata": {},
     "output_type": "execute_result"
    }
   ],
   "source": [
    "a = cv2.imread('00094.jpg',0)\n",
    "b = cv2.imread('00094.jpg')\n",
    "a.shape"
   ]
  },
  {
   "cell_type": "markdown",
   "metadata": {},
   "source": [
    "Modificando el windows size"
   ]
  },
  {
   "cell_type": "code",
   "execution_count": 137,
   "metadata": {},
   "outputs": [],
   "source": [
    "if a.shape[0]<a.shape[1]:\n",
    "    winH = int(a.shape[0])\n",
    "else:\n",
    "    winH = int(a.shape[1])\n",
    "winW = winH\n",
    "step = int(winW/2)\n",
    "# print(winW,winH,step)\n",
    "result = []\n",
    "while winW>30 and winH>30:\n",
    "    # loop over the sliding window for each layer of the pyramid\n",
    "    for (x, y, window) in sliding_window(a, step, windowSize=(winW, winH)):\n",
    "        # if the window does not meet our desired window size, ignore it\n",
    "        if x+winW<=a.shape[1] and y+winH<=a.shape[0]:\n",
    "            res = predecirImagenSVM(cv2.resize(window, (100, 100), interpolation = cv2.INTER_NEAREST),carac_type,clf)\n",
    "#             clone = a.copy()\n",
    "#             cv2.rectangle(clone, (x, y), (x + winW, y + winH), (0, 255, 0), 2)\n",
    "#             cv2.imshow(\"Window\", clone)\n",
    "            if res=='Signal':\n",
    "#                 cv2.waitKey(0)\n",
    "                result.append(np.array([x,y,winW,winH]))\n",
    "#             else:\n",
    "#                 cv2.waitKey(1)\n",
    "#                 time.sleep(0.001)\n",
    "#     cv2.destroyAllWindows()\n",
    "    winW = int(winW/1.5)\n",
    "    winH = winW\n",
    "    step = int(winW/2)\n",
    "#     print(winW,winH)"
   ]
  },
  {
   "cell_type": "markdown",
   "metadata": {},
   "source": [
    "Aplicar SVM"
   ]
  },
  {
   "cell_type": "code",
   "execution_count": 138,
   "metadata": {},
   "outputs": [],
   "source": [
    "n_result = []\n",
    "repetidos = []\n",
    "for i in range(len(result)):\n",
    "    for j in range(len(result)):\n",
    "        if result[j][0]>=result[i][0] and result[j][1]>=result[i][1] and result[j][0]+result[j][2]<=result[i][0]+result[i][2] and result[j][1]+result[j][3]<=result[i][1]+result[i][3] and i!=j:\n",
    "            repetidos.append(j)\n",
    "            \n",
    "for i in range(len(result)):\n",
    "    if i not in repetidos:\n",
    "        n_result.append(result[i])"
   ]
  },
  {
   "cell_type": "code",
   "execution_count": 139,
   "metadata": {},
   "outputs": [
    {
     "data": {
      "text/plain": [
       "[array([986, 306,  69,  69]), array([391, 529,  46,  46])]"
      ]
     },
     "execution_count": 139,
     "metadata": {},
     "output_type": "execute_result"
    }
   ],
   "source": [
    "result"
   ]
  },
  {
   "cell_type": "code",
   "execution_count": 140,
   "metadata": {},
   "outputs": [
    {
     "data": {
      "text/plain": [
       "[array([986, 306,  69,  69]), array([391, 529,  46,  46])]"
      ]
     },
     "execution_count": 140,
     "metadata": {},
     "output_type": "execute_result"
    }
   ],
   "source": [
    "n_result"
   ]
  },
  {
   "cell_type": "code",
   "execution_count": 141,
   "metadata": {},
   "outputs": [
    {
     "name": "stdout",
     "output_type": "stream",
     "text": [
      "2\n",
      "0\n",
      "986 306 69 69\n",
      "1\n",
      "391 529 46 46\n"
     ]
    }
   ],
   "source": [
    "clone = b.copy()\n",
    "print(len(n_result))\n",
    "for i in range(len(n_result)):\n",
    "    print(i)\n",
    "    x,y,winW,winH = n_result[i]\n",
    "    print(x,y,winW,winH)\n",
    "    cv2.rectangle(clone, (x, y), (x + winW, y + winH), (0, 255, 0), 2)\n",
    "    cv2.imshow(\"Window\", clone)\n",
    "    cv2.waitKey(0)\n",
    "    \n",
    "cv2.destroyAllWindows()"
   ]
  },
  {
   "cell_type": "markdown",
   "metadata": {},
   "source": [
    "# Prediccion de las señales"
   ]
  },
  {
   "cell_type": "markdown",
   "metadata": {},
   "source": [
    "Primero separamos las imagenes de señales en conjuntos de Train y Test como en el objetivo anterior para entrenar la SVM y para probarla."
   ]
  },
  {
   "cell_type": "code",
   "execution_count": 80,
   "metadata": {},
   "outputs": [],
   "source": [
    "imagenesTrainForSignalRecog,imagenesTestForSignalRecog,ytrainForSignalRecog,ytestForSignalRecog = separaTrainTest(elem_signals,signals_types)"
   ]
  },
  {
   "cell_type": "code",
   "execution_count": 81,
   "metadata": {},
   "outputs": [],
   "source": [
    "imagenesTrainForSignalRecog_GK = np.zeros(imagenesTrainForSignalRecog.shape)\n",
    "for i in range(imagenesTrainForSignalRecog.shape[0]):\n",
    "    imagenesTrainForSignalRecog_GK[i] = filtro_suavizado(imagenesTrainForSignalRecog[i], mask)\n",
    "\n",
    "imagenesTestForSignalRecog_GK = np.zeros(imagenesTestForSignalRecog.shape)\n",
    "for i in range(imagenesTestForSignalRecog_GK.shape[0]):\n",
    "    imagenesTestForSignalRecog_GK[i] = filtro_suavizado(imagenesTestForSignalRecog[i], mask)\n",
    "    \n",
    "Xtrain_Sign, Ytrain_Sign = creaMatrizCaracteristicas(imagenesTrainForSignalRecog_GK,carac_type,ytrainForSignalRecog)\n",
    "Xtest_Sign, Ytest_Sign = creaMatrizCaracteristicas(imagenesTestForSignalRecog_GK,carac_type,ytestForSignalRecog)"
   ]
  },
  {
   "cell_type": "code",
   "execution_count": 82,
   "metadata": {},
   "outputs": [
    {
     "name": "stderr",
     "output_type": "stream",
     "text": [
      "C:\\Users\\daviz\\anaconda3\\envs\\py37vision\\lib\\site-packages\\sklearn\\model_selection\\_split.py:672: UserWarning: The least populated class in y has only 3 members, which is less than n_splits=5.\n",
      "  % (min_groups, self.n_splits)), UserWarning)\n"
     ]
    },
    {
     "name": "stdout",
     "output_type": "stream",
     "text": [
      "Classification report for - \n",
      "GridSearchCV(estimator=SVC(),\n",
      "             param_grid=[{'C': [1, 10, 100, 1000], 'kernel': ['linear']},\n",
      "                         {'C': [1, 10, 100, 1000], 'gamma': [0.001, 0.0001],\n",
      "                          'kernel': ['rbf']}]):\n",
      "                                         precision    recall  f1-score   support\n",
      "\n",
      "                AdelantamientoProhibido       1.00      1.00      1.00        20\n",
      "    AdelantamientoProhibidoParaCamiones       1.00      1.00      1.00        27\n",
      "                    CalzadaConPrioridad       0.97      1.00      0.98        28\n",
      "                             CedaElPaso       1.00      1.00      1.00        29\n",
      "                   CirculacionProhibida       1.00      0.88      0.93         8\n",
      "           CurvaPeligrosaHaciaLaDerecha       0.50      0.60      0.55         5\n",
      "         CurvaPeligrosaHaciaLaIzquierda       0.00      0.00      0.00         3\n",
      "       CurvasPeligrosasHaciaLaIzquierda       0.80      1.00      0.89         4\n",
      "                   DetencionObligatoria       1.00      1.00      1.00        10\n",
      "           DirPermitidasRectoEIzquierda       1.00      0.67      0.80         3\n",
      "             DirPermitidasRectoYDerecha       1.00      0.80      0.89         5\n",
      "                       EntradaProhibida       0.94      1.00      0.97        15\n",
      "   EntradaProhibidaAVehiculosMercancias       1.00      1.00      1.00         6\n",
      "                EntradaProhibidasCiclos       1.00      0.25      0.40         4\n",
      "        EstrechamientoCalzadaPorDerecha       1.00      0.25      0.40         4\n",
      "                     FinDeProhibiciones       1.00      0.67      0.80         3\n",
      "           FinProhibicionAdelantamiento       1.00      0.67      0.80         3\n",
      "   FinProhibicionAdelantamientoCamiones       0.75      1.00      0.86         3\n",
      "                   FinVelocidadMaxima80       1.00      0.83      0.91         6\n",
      "               InterseccionConPrioridad       0.87      0.72      0.79        18\n",
      "InterseccionSentidoObligatorioGiratorio       0.71      1.00      0.83         5\n",
      "                                   Kids       0.50      0.43      0.46         7\n",
      "                                  Obras       0.59      1.00      0.74        20\n",
      "                          OtrosPeligros       0.83      0.94      0.88        16\n",
      "               PasoDeAnimalesEnLibertad       0.91      1.00      0.95        10\n",
      "                         PasoDePeatones       0.50      0.33      0.40         3\n",
      "                 PasoObligatorioDerecha       1.00      1.00      1.00        28\n",
      "               PasoObligatorioizquierda       1.00      1.00      1.00         4\n",
      "                    PavimentoDeslizante       0.75      0.43      0.55         7\n",
      "          PavimentoDeslizanteNieveHielo       1.00      0.33      0.50         6\n",
      "                        PerfilIrregular       0.83      1.00      0.91         5\n",
      "                              Semaforos       0.75      0.75      0.75         8\n",
      "                     SentidoObligatorio       1.00      0.94      0.97        16\n",
      "              SentidoObligatorioDerecha       1.00      0.89      0.94         9\n",
      "            SentidoObligatorioIzquierda       0.86      1.00      0.92         6\n",
      "                     VelocidadMaxima100       0.86      1.00      0.93        19\n",
      "                     VelocidadMaxima120       0.94      0.79      0.86        19\n",
      "                      VelocidadMaxima20       1.00      0.33      0.50         3\n",
      "                      VelocidadMaxima30       0.79      0.73      0.76        30\n",
      "                      VelocidadMaxima50       0.83      0.83      0.83        30\n",
      "                      VelocidadMaxima60       0.94      0.84      0.89        19\n",
      "                      VelocidadMaxima70       0.87      1.00      0.93        26\n",
      "                      VelocidadMaxima80       0.72      0.84      0.78        25\n",
      "\n",
      "                               accuracy                           0.87       525\n",
      "                              macro avg       0.86      0.78      0.80       525\n",
      "                           weighted avg       0.88      0.87      0.87       525\n",
      "\n",
      "\n"
     ]
    }
   ],
   "source": [
    "param_grid = [\n",
    "  {'C': [1, 10, 100, 1000], 'kernel': ['linear']},\n",
    "  {'C': [1, 10, 100, 1000], 'gamma': [0.001, 0.0001], 'kernel': ['rbf']},]\n",
    "svc = svm.SVC()\n",
    "clf_signaltype = GridSearchCV(svc, param_grid)\n",
    "clf_signaltype.fit(Xtrain_Sign, Ytrain_Sign.ravel())\n",
    "y_pred = clf_signaltype.predict(Xtest_Sign)\n",
    "print(\"Classification report for - \\n{}:\\n{}\\n\".format(clf_signaltype, metrics.classification_report(Ytest_Sign.ravel(), y_pred)))"
   ]
  },
  {
   "cell_type": "code",
   "execution_count": 142,
   "metadata": {},
   "outputs": [
    {
     "data": {
      "image/png": "[encoded data removed]",
      "text/plain": [
       "<Figure size 432x288 with 1 Axes>"
      ]
     },
     "metadata": {
      "needs_background": "light"
     },
     "output_type": "display_data"
    },
    {
     "data": {
      "image/png": "[encoded data removed]",
      "text/plain": [
       "<Figure size 432x288 with 1 Axes>"
      ]
     },
     "metadata": {
      "needs_background": "light"
     },
     "output_type": "display_data"
    }
   ],
   "source": [
    "#pequeña celda para interactuar con el clasificador\n",
    "\n",
    "for i in range(len(n_result)):\n",
    "    imagen_sin_color = a[n_result[i][1]:n_result[i][1] + n_result[i][3], n_result[i][0]:n_result[i][0] + n_result[i][2]]\n",
    "    imagen_a_color = b[n_result[i][1]:n_result[i][1] + n_result[i][3], n_result[i][0]:n_result[i][0] + n_result[i][2]]\n",
    "    res = predecirImagenSVM(cv2.resize(imagen_sin_color, (100, 100), interpolation = cv2.INTER_NEAREST),carac_type,clf_signaltype)\n",
    "    plt.figure()\n",
    "    plt.imshow(imagen_a_color)\n",
    "    plt.text(imagen_sin_color.shape[1]-int(imagen_sin_color.shape[1]/2), imagen_sin_color.shape[0]+int(imagen_sin_color.shape[0]/7), res[0])\n",
    "    plt.show()"
   ]
  },
  {
   "cell_type": "code",
   "execution_count": null,
   "metadata": {},
   "outputs": [],
   "source": []
  },
  {
   "cell_type": "code",
   "execution_count": null,
   "metadata": {},
   "outputs": [],
   "source": []
  },
  {
   "cell_type": "code",
   "execution_count": null,
   "metadata": {},
   "outputs": [],
   "source": []
  },
  {
   "cell_type": "code",
   "execution_count": null,
   "metadata": {},
   "outputs": [],
   "source": []
  },
  {
   "cell_type": "code",
   "execution_count": null,
   "metadata": {},
   "outputs": [],
   "source": []
  }
 ],
 "metadata": {
  "kernelspec": {
   "display_name": "Python 3",
   "language": "python",
   "name": "python3"
  },
  "language_info": {
   "codemirror_mode": {
    "name": "ipython",
    "version": 3
   },
   "file_extension": ".py",
   "mimetype": "text/x-python",
   "name": "python",
   "nbconvert_exporter": "python",
   "pygments_lexer": "ipython3",
   "version": "3.7.4"
  }
 },
 "nbformat": 4,
 "nbformat_minor": 2
}
