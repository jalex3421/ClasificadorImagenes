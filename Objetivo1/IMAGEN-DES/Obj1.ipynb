{
 "cells": [
  {
   "cell_type": "markdown",
   "metadata": {},
   "source": [
    "# Objetivo1 \n"
   ]
  },
  {
   "cell_type": "markdown",
   "metadata": {},
   "source": [
    "$resize$ $imagenes$"
   ]
  },
  {
   "cell_type": "code",
   "execution_count": 80,
   "metadata": {},
   "outputs": [],
   "source": [
    "import cv2\n",
    "import glob\n",
    "import skimage\n",
    "\n",
    "\n",
    "#Librerias contornos \n",
    "import numpy as np\n",
    "from skimage.io import imread, imshow\n",
    "from skimage.filters import prewitt_h,prewitt_v\n",
    "from skimage import data, io\n",
    "import matplotlib.pyplot as plt\n",
    "%matplotlib inline\n",
    "from skimage.filters import threshold_otsu \n"
   ]
  },
  {
   "cell_type": "code",
   "execution_count": 61,
   "metadata": {},
   "outputs": [
    {
     "name": "stdout",
     "output_type": "stream",
     "text": [
      "(100, 100)\n",
      "(100, 100)\n",
      "(100, 100)\n",
      "(100, 100)\n",
      "(100, 100)\n",
      "(100, 100)\n"
     ]
    }
   ],
   "source": [
    "#se obtiene lista de imagenes\n",
    "images00000 = [cv2.imread(file,0) for file in glob.glob(\"Dataset_traffic_sign/00000/*.png\")]\n",
    "images00000_mod = [] \n",
    "for im in images00000:\n",
    "    #se aplica el resize\n",
    "    images00000_mod.append(cv2.resize(im, (100, 100), interpolation = cv2.INTER_NEAREST))\n",
    "\n",
    "#se muestran las imagenes\n",
    "for im in images00000_mod:\n",
    "    cv2.imshow('Resized Image', im)\n",
    "    print(im.shape)\n",
    "    cv2.waitKey(0)\n",
    "    cv2.destroyAllWindows()"
   ]
  },
  {
   "cell_type": "code",
   "execution_count": 5,
   "metadata": {},
   "outputs": [
    {
     "name": "stdout",
     "output_type": "stream",
     "text": [
      "(148, 144, 3)\n",
      "(61, 59, 3)\n",
      "(124, 122, 3)\n",
      "(104, 109, 3)\n",
      "(110, 107, 3)\n",
      "(108, 109, 3)\n"
     ]
    }
   ],
   "source": [
    "for im in images00000:\n",
    "    print(im.shape)"
   ]
  },
  {
   "cell_type": "markdown",
   "metadata": {},
   "source": [
    "Bordes "
   ]
  },
  {
   "cell_type": "code",
   "execution_count": 23,
   "metadata": {},
   "outputs": [],
   "source": [
    "rango = len(images00000)"
   ]
  },
  {
   "cell_type": "code",
   "execution_count": 33,
   "metadata": {},
   "outputs": [
    {
     "name": "stdout",
     "output_type": "stream",
     "text": [
      "[[ 0.          0.          0.         ...  0.          0.\n",
      "   0.        ]\n",
      " [ 0.          0.00392157  0.00130719 ...  0.01045752 -0.00261438\n",
      "   0.        ]\n",
      " [ 0.          0.00130719 -0.00130719 ...  0.02222222  0.\n",
      "   0.        ]\n",
      " ...\n",
      " [ 0.         -0.00130719 -0.00261438 ...  0.00915033 -0.00130719\n",
      "   0.        ]\n",
      " [ 0.          0.00653595 -0.00653595 ...  0.00915033 -0.00522876\n",
      "   0.        ]\n",
      " [ 0.          0.          0.         ...  0.          0.\n",
      "   0.        ]]\n",
      "(148, 144)\n",
      "<class 'numpy.ndarray'>\n",
      "---------------------\n",
      "[[ 0.          0.          0.         ...  0.          0.\n",
      "   0.        ]\n",
      " [ 0.         -0.00261438 -0.00261438 ... -0.00915033  0.00784314\n",
      "   0.        ]\n",
      " [ 0.         -0.00522876 -0.00130719 ... -0.01699346  0.02352941\n",
      "   0.        ]\n",
      " ...\n",
      " [ 0.          0.8130719   0.60522876 ... -0.10588235 -0.09411765\n",
      "   0.        ]\n",
      " [ 0.          0.84052288  0.55424837 ...  0.11372549 -0.05882353\n",
      "   0.        ]\n",
      " [ 0.          0.          0.         ...  0.          0.\n",
      "   0.        ]]\n",
      "(61, 59)\n",
      "<class 'numpy.ndarray'>\n",
      "---------------------\n",
      "[[ 0.          0.          0.         ...  0.          0.\n",
      "   0.        ]\n",
      " [ 0.          0.04575163 -0.0130719  ...  0.10196078  0.11503268\n",
      "   0.        ]\n",
      " [ 0.         -0.12679739 -0.14901961 ...  0.09673203  0.23921569\n",
      "   0.        ]\n",
      " ...\n",
      " [ 0.          0.18169935 -0.03529412 ...  0.26535948  0.2\n",
      "   0.        ]\n",
      " [ 0.          0.14248366  0.03137255 ...  0.23267974  0.03267974\n",
      "   0.        ]\n",
      " [ 0.          0.          0.         ...  0.          0.\n",
      "   0.        ]]\n",
      "(124, 122)\n",
      "<class 'numpy.ndarray'>\n",
      "---------------------\n",
      "[[ 0.00000000e+00  0.00000000e+00  0.00000000e+00 ...  0.00000000e+00\n",
      "   0.00000000e+00  0.00000000e+00]\n",
      " [ 0.00000000e+00 -2.77555756e-17 -5.22875817e-03 ...  2.61437908e-03\n",
      "  -3.92156863e-03  0.00000000e+00]\n",
      " [ 0.00000000e+00  5.22875817e-03  1.30718954e-03 ...  2.61437908e-03\n",
      "  -2.61437908e-03  0.00000000e+00]\n",
      " ...\n",
      " [ 0.00000000e+00  7.84313725e-03  2.61437908e-03 ...  1.30718954e-03\n",
      "   7.84313725e-03  0.00000000e+00]\n",
      " [ 0.00000000e+00  1.30718954e-03  6.53594771e-03 ...  1.43790850e-02\n",
      "   9.15032680e-03  0.00000000e+00]\n",
      " [ 0.00000000e+00  0.00000000e+00  0.00000000e+00 ...  0.00000000e+00\n",
      "   0.00000000e+00  0.00000000e+00]]\n",
      "(104, 109)\n",
      "<class 'numpy.ndarray'>\n",
      "---------------------\n",
      "[[ 0.          0.          0.         ...  0.          0.\n",
      "   0.        ]\n",
      " [ 0.          0.         -0.00261438 ... -0.00915033  0.\n",
      "   0.        ]\n",
      " [ 0.          0.         -0.00130719 ... -0.00784314  0.00392157\n",
      "   0.        ]\n",
      " ...\n",
      " [ 0.         -0.00392157 -0.00261438 ... -0.00130719 -0.00130719\n",
      "   0.        ]\n",
      " [ 0.         -0.00261438 -0.00130719 ... -0.00522876 -0.00130719\n",
      "   0.        ]\n",
      " [ 0.          0.          0.         ...  0.          0.\n",
      "   0.        ]]\n",
      "(110, 107)\n",
      "<class 'numpy.ndarray'>\n",
      "---------------------\n",
      "[[ 0.          0.          0.         ...  0.          0.\n",
      "   0.        ]\n",
      " [ 0.         -0.10196078 -0.04052288 ...  0.01437908  0.00915033\n",
      "   0.        ]\n",
      " [ 0.         -0.06535948 -0.00653595 ...  0.00653595  0.00261438\n",
      "   0.        ]\n",
      " ...\n",
      " [ 0.          0.          0.         ... -0.00522876  0.04444444\n",
      "   0.        ]\n",
      " [ 0.          0.          0.         ...  0.01437908  0.08104575\n",
      "   0.        ]\n",
      " [ 0.          0.          0.         ...  0.          0.\n",
      "   0.        ]]\n",
      "(108, 109)\n",
      "<class 'numpy.ndarray'>\n",
      "---------------------\n"
     ]
    }
   ],
   "source": [
    "\n",
    "for i in range(rango):\n",
    "    #calculating horizontal edges using prewitt kernel\n",
    "    edges_prewitt_horizontal = prewitt_h(images00000[i])\n",
    "    #calculating vertical edges using prewitt kernel\n",
    "    edges_prewitt_vertical = prewitt_v(images00000[i])\n",
    "    print(edges_prewitt_vertical)\n",
    "    print(edges_prewitt_vertical.shape)\n",
    "    print(type(edges_prewitt_vertical))\n",
    "    print(\"---------------------\")\n",
    "    cv2.imshow('ventana',edges_prewitt_vertical)\n",
    "    cv2.waitKey(0)\n",
    "    cv2.destroyAllWindows()"
   ]
  },
  {
   "cell_type": "code",
   "execution_count": 81,
   "metadata": {},
   "outputs": [],
   "source": [
    "def convertirArray(imagen):\n",
    "    return imagen.reshape(1,-1)"
   ]
  },
  {
   "cell_type": "code",
   "execution_count": 87,
   "metadata": {},
   "outputs": [],
   "source": [
    "def mostrarImagenes(lista):\n",
    "    for i in range(len(lista)):\n",
    "        print(lista[i])"
   ]
  },
  {
   "cell_type": "markdown",
   "metadata": {},
   "source": [
    "Distinto a metodo Otsu"
   ]
  },
  {
   "cell_type": "code",
   "execution_count": 100,
   "metadata": {},
   "outputs": [
    {
     "name": "stdout",
     "output_type": "stream",
     "text": [
      "[[255 255 255 ... 255 255 255]]\n",
      "[[255 255 255 ... 255 255 255]]\n",
      "[[  0   0 255 ...   0   0   0]]\n",
      "[[0 0 0 ... 0 0 0]]\n",
      "[[  0   0   0 ... 255 255 255]]\n",
      "[[255 255   0 ...   0   0   0]]\n"
     ]
    }
   ],
   "source": [
    "feauturesList1  = []\n",
    "\n",
    "for i in range(rango):\n",
    "    gray = cv2.medianBlur(images00000_mod[i], 5)\n",
    "    dst2 = cv2.adaptiveThreshold(gray, 255, cv2.ADAPTIVE_THRESH_GAUSSIAN_C, cv2.THRESH_BINARY, 11, 2)\n",
    "    feauturesList1.append(convertirArray(dst2))\n",
    "    cv2.imshow('umbral adaptable', dst2)\n",
    "    cv2.waitKey(0)\n",
    "    cv2.destroyAllWindows()\n",
    "    \n",
    "mostrarImagenes(feauturesList1)"
   ]
  },
  {
   "cell_type": "markdown",
   "metadata": {},
   "source": [
    "Otsu"
   ]
  },
  {
   "cell_type": "code",
   "execution_count": 62,
   "metadata": {},
   "outputs": [],
   "source": [
    "import skimage\n",
    "from skimage import data, io\n",
    "import numpy as np\n",
    "from matplotlib import pyplot as plt\n",
    "%matplotlib inline"
   ]
  },
  {
   "cell_type": "code",
   "execution_count": 93,
   "metadata": {},
   "outputs": [
    {
     "data": {
      "image/png": "[encoded data removed]",
      "text/plain": [
       "<Figure size 432x288 with 1 Axes>"
      ]
     },
     "metadata": {
      "needs_background": "light"
     },
     "output_type": "display_data"
    },
    {
     "name": "stdout",
     "output_type": "stream",
     "text": [
      "----------------------------------------------\n"
     ]
    },
    {
     "data": {
      "image/png": "[encoded data removed]",
      "text/plain": [
       "<Figure size 432x288 with 1 Axes>"
      ]
     },
     "metadata": {
      "needs_background": "light"
     },
     "output_type": "display_data"
    },
    {
     "name": "stdout",
     "output_type": "stream",
     "text": [
      "----------------------------------------------\n"
     ]
    },
    {
     "data": {
      "image/png": "[encoded data removed]",
      "text/plain": [
       "<Figure size 432x288 with 1 Axes>"
      ]
     },
     "metadata": {
      "needs_background": "light"
     },
     "output_type": "display_data"
    },
    {
     "name": "stdout",
     "output_type": "stream",
     "text": [
      "----------------------------------------------\n"
     ]
    },
    {
     "data": {
      "image/png": "[encoded data removed]",
      "text/plain": [
       "<Figure size 432x288 with 1 Axes>"
      ]
     },
     "metadata": {
      "needs_background": "light"
     },
     "output_type": "display_data"
    },
    {
     "name": "stdout",
     "output_type": "stream",
     "text": [
      "----------------------------------------------\n"
     ]
    },
    {
     "data": {
      "image/png": "[encoded data removed]",
      "text/plain": [
       "<Figure size 432x288 with 1 Axes>"
      ]
     },
     "metadata": {
      "needs_background": "light"
     },
     "output_type": "display_data"
    },
    {
     "name": "stdout",
     "output_type": "stream",
     "text": [
      "----------------------------------------------\n"
     ]
    },
    {
     "data": {
      "image/png": "[encoded data removed]",
      "text/plain": [
       "<Figure size 432x288 with 1 Axes>"
      ]
     },
     "metadata": {
      "needs_background": "light"
     },
     "output_type": "display_data"
    },
    {
     "name": "stdout",
     "output_type": "stream",
     "text": [
      "----------------------------------------------\n"
     ]
    }
   ],
   "source": [
    "feauturesList2  = []\n",
    "\n",
    "\n",
    "for i in range(rango):    \n",
    "    threshold_value = threshold_otsu(images00000_mod[i])  \n",
    "\n",
    "    camera_threholded = images00000_mod[i] > threshold_value  \n",
    "\n",
    "    # Show the original image\n",
    "    #io.imshow(images00000_mod[i])\n",
    "    #plt.show()\n",
    "\n",
    "    # Show the thresholded image\n",
    "    io.imshow(camera_threholded)\n",
    "    plt.show()\n",
    "    \n",
    "    feauturesList2.append(convertirArray(camera_threholded*255))\n",
    "    \n",
    "    print(\"----------------------------------------------\")"
   ]
  },
  {
   "cell_type": "code",
   "execution_count": 94,
   "metadata": {},
   "outputs": [
    {
     "name": "stdout",
     "output_type": "stream",
     "text": [
      "[[0 0 0 ... 0 0 0]]\n",
      "[[  0   0   0 ... 255 255 255]]\n",
      "[[  0   0   0 ...   0 255 255]]\n",
      "[[  0   0   0 ... 255 255 255]]\n",
      "[[255 255 255 ... 255 255 255]]\n",
      "[[  0   0   0 ... 255 255 255]]\n"
     ]
    }
   ],
   "source": [
    "mostrarImagenes(feauturesList2)"
   ]
  },
  {
   "cell_type": "code",
   "execution_count": 99,
   "metadata": {},
   "outputs": [
    {
     "data": {
      "image/png": "[encoded data removed]",
      "text/plain": [
       "<Figure size 576x288 with 2 Axes>"
      ]
     },
     "metadata": {
      "needs_background": "light"
     },
     "output_type": "display_data"
    }
   ],
   "source": [
    "from skimage.feature import hog\n",
    "from skimage import data, exposure\n",
    "\n",
    "\n",
    "fd, hog_image = hog(images00000_mod[0], orientations=8, pixels_per_cell=(16, 16),\n",
    "                    cells_per_block=(1, 1), visualize=True)\n",
    "\n",
    "fig, (ax1, ax2) = plt.subplots(1, 2, figsize=(8, 4), sharex=True, sharey=True)\n",
    "\n",
    "ax1.axis('off')\n",
    "ax1.imshow(images00000_mod[0], cmap=plt.cm.gray)\n",
    "ax1.set_title('Input image')\n",
    "\n",
    "# Rescale histogram for better display\n",
    "hog_image_rescaled = exposure.rescale_intensity(hog_image, in_range=(0, 10))\n",
    "\n",
    "ax2.axis('off')\n",
    "ax2.imshow(hog_image_rescaled, cmap=plt.cm.gray)\n",
    "ax2.set_title('Histogram of Oriented Gradients')\n",
    "plt.show()"
   ]
  },
  {
   "cell_type": "code",
   "execution_count": null,
   "metadata": {},
   "outputs": [],
   "source": [
    "from cv2 import "
   ]
  },
  {
   "cell_type": "code",
   "execution_count": 121,
   "metadata": {},
   "outputs": [
    {
     "ename": "AttributeError",
     "evalue": "module 'cv2' has no attribute 'FeatureDetector_create'",
     "output_type": "error",
     "traceback": [
      "\u001b[1;31m---------------------------------------------------------------------------\u001b[0m",
      "\u001b[1;31mAttributeError\u001b[0m                            Traceback (most recent call last)",
      "\u001b[1;32m<ipython-input-121-0584f44805b5>\u001b[0m in \u001b[0;36m<module>\u001b[1;34m\u001b[0m\n\u001b[0;32m      1\u001b[0m \u001b[1;32mfrom\u001b[0m \u001b[0msklearn\u001b[0m \u001b[1;32mimport\u001b[0m \u001b[0msvm\u001b[0m\u001b[1;33m\u001b[0m\u001b[1;33m\u001b[0m\u001b[0m\n\u001b[0;32m      2\u001b[0m \u001b[1;33m\u001b[0m\u001b[0m\n\u001b[1;32m----> 3\u001b[1;33m \u001b[0msd\u001b[0m \u001b[1;33m=\u001b[0m \u001b[0mcv2\u001b[0m\u001b[1;33m.\u001b[0m\u001b[0mFeatureDetector_create\u001b[0m\u001b[1;33m(\u001b[0m\u001b[1;34m\"SURF\"\u001b[0m\u001b[1;33m)\u001b[0m\u001b[1;33m\u001b[0m\u001b[1;33m\u001b[0m\u001b[0m\n\u001b[0m\u001b[0;32m      4\u001b[0m \u001b[0mkeypoints\u001b[0m \u001b[1;33m=\u001b[0m \u001b[0msd\u001b[0m\u001b[1;33m.\u001b[0m\u001b[0mdetect\u001b[0m\u001b[1;33m(\u001b[0m\u001b[0mhog_image_rescaled\u001b[0m\u001b[1;33m.\u001b[0m\u001b[0mflatten\u001b[0m\u001b[1;33m(\u001b[0m\u001b[1;33m)\u001b[0m\u001b[1;33m)\u001b[0m\u001b[1;33m\u001b[0m\u001b[1;33m\u001b[0m\u001b[0m\n\u001b[0;32m      5\u001b[0m \u001b[0mkp\u001b[0m\u001b[1;33m,\u001b[0m\u001b[0mdes\u001b[0m \u001b[1;33m=\u001b[0m \u001b[0msurf\u001b[0m\u001b[1;33m.\u001b[0m\u001b[0mcompute\u001b[0m\u001b[1;33m(\u001b[0m\u001b[0mhog_image_rescaled\u001b[0m\u001b[1;33m.\u001b[0m\u001b[0mflatten\u001b[0m\u001b[1;33m(\u001b[0m\u001b[1;33m)\u001b[0m\u001b[1;33m,\u001b[0m \u001b[0mkeypoints\u001b[0m\u001b[1;33m)\u001b[0m\u001b[1;33m\u001b[0m\u001b[1;33m\u001b[0m\u001b[0m\n",
      "\u001b[1;31mAttributeError\u001b[0m: module 'cv2' has no attribute 'FeatureDetector_create'"
     ]
    }
   ],
   "source": [
    "from sklearn import svm\n",
    "\n",
    "sd = cv2.FeatureDetector_create(\"SURF\")\n",
    "keypoints = sd.detect(hog_image_rescaled.flatten())\n",
    "kp,des = surf.compute(hog_image_rescaled.flatten(), keypoints)\n",
    "model = svm.SVC()\n",
    "model.fit(des,['type1'])"
   ]
  }
 ],
 "metadata": {
  "kernelspec": {
   "display_name": "Python [conda env:py37vision] *",
   "language": "python",
   "name": "conda-env-py37vision-py"
  },
  "language_info": {
   "codemirror_mode": {
    "name": "ipython",
    "version": 3
   },
   "file_extension": ".py",
   "mimetype": "text/x-python",
   "name": "python",
   "nbconvert_exporter": "python",
   "pygments_lexer": "ipython3",
   "version": "3.7.4"
  }
 },
 "nbformat": 4,
 "nbformat_minor": 2
}
