{
 "cells": [
  {
   "cell_type": "markdown",
   "metadata": {},
   "source": [
    "# Objetivo1 \n"
   ]
  },
  {
   "cell_type": "markdown",
   "metadata": {},
   "source": [
    "### coger imagen y obtener descriptores"
   ]
  },
  {
   "cell_type": "markdown",
   "metadata": {},
   "source": [
    "$resize$ $imagenes$"
   ]
  },
  {
   "cell_type": "code",
   "execution_count": 1,
   "metadata": {},
   "outputs": [],
   "source": [
    "import cv2\n",
    "import glob\n",
    "import skimage\n",
    "\n",
    "\n",
    "#Librerias contornos \n",
    "import numpy as np\n",
    "from skimage.io import imread, imshow\n",
    "from skimage.filters import prewitt_h,prewitt_v\n",
    "from skimage import data, io\n",
    "import matplotlib.pyplot as plt\n",
    "%matplotlib inline\n",
    "from skimage.filters import threshold_otsu \n",
    "from skimage.feature import hog\n",
    "from skimage import data, exposure"
   ]
  },
  {
   "cell_type": "code",
   "execution_count": 2,
   "metadata": {},
   "outputs": [
    {
     "name": "stdout",
     "output_type": "stream",
     "text": [
      "(100, 100)\n",
      "(100, 100)\n",
      "(100, 100)\n",
      "(100, 100)\n",
      "(100, 100)\n",
      "(100, 100)\n"
     ]
    }
   ],
   "source": [
    "#se obtiene lista de imagenes\n",
    "images00000 = [cv2.imread(file,0) for file in glob.glob(\"Dataset_traffic_sign/00000/*.png\")]\n",
    "images00000_mod = [] \n",
    "for im in images00000:\n",
    "    #se aplica el resize\n",
    "    images00000_mod.append(cv2.resize(im, (100, 100), interpolation = cv2.INTER_NEAREST))\n",
    "\n",
    "#se muestran las imagenes\n",
    "for im in images00000_mod:\n",
    "    cv2.imshow('Resized Image', im)\n",
    "    print(im.shape)\n",
    "    cv2.waitKey(0)\n",
    "    cv2.destroyAllWindows()"
   ]
  },
  {
   "cell_type": "code",
   "execution_count": 3,
   "metadata": {},
   "outputs": [
    {
     "name": "stdout",
     "output_type": "stream",
     "text": [
      "(148, 144)\n",
      "(61, 59)\n",
      "(124, 122)\n",
      "(104, 109)\n",
      "(110, 107)\n",
      "(108, 109)\n"
     ]
    }
   ],
   "source": [
    "for im in images00000:\n",
    "    print(im.shape)"
   ]
  },
  {
   "cell_type": "markdown",
   "metadata": {},
   "source": [
    "Bordes "
   ]
  },
  {
   "cell_type": "code",
   "execution_count": 4,
   "metadata": {},
   "outputs": [],
   "source": [
    "rango = len(images00000)"
   ]
  },
  {
   "cell_type": "code",
   "execution_count": 5,
   "metadata": {},
   "outputs": [
    {
     "name": "stdout",
     "output_type": "stream",
     "text": [
      "[[ 0.          0.          0.         ...  0.          0.\n",
      "   0.        ]\n",
      " [ 0.          0.00392157  0.00130719 ...  0.01045752 -0.00261438\n",
      "   0.        ]\n",
      " [ 0.          0.00130719 -0.00130719 ...  0.02222222  0.\n",
      "   0.        ]\n",
      " ...\n",
      " [ 0.         -0.00130719 -0.00261438 ...  0.00915033 -0.00130719\n",
      "   0.        ]\n",
      " [ 0.          0.00653595 -0.00653595 ...  0.00915033 -0.00522876\n",
      "   0.        ]\n",
      " [ 0.          0.          0.         ...  0.          0.\n",
      "   0.        ]]\n",
      "(148, 144)\n",
      "<class 'numpy.ndarray'>\n",
      "---------------------\n",
      "[[ 0.          0.          0.         ...  0.          0.\n",
      "   0.        ]\n",
      " [ 0.         -0.00261438 -0.00261438 ... -0.00915033  0.00784314\n",
      "   0.        ]\n",
      " [ 0.         -0.00522876 -0.00130719 ... -0.01699346  0.02352941\n",
      "   0.        ]\n",
      " ...\n",
      " [ 0.          0.8130719   0.60522876 ... -0.10588235 -0.09411765\n",
      "   0.        ]\n",
      " [ 0.          0.84052288  0.55424837 ...  0.11372549 -0.05882353\n",
      "   0.        ]\n",
      " [ 0.          0.          0.         ...  0.          0.\n",
      "   0.        ]]\n",
      "(61, 59)\n",
      "<class 'numpy.ndarray'>\n",
      "---------------------\n",
      "[[ 0.          0.          0.         ...  0.          0.\n",
      "   0.        ]\n",
      " [ 0.          0.04575163 -0.0130719  ...  0.10196078  0.11503268\n",
      "   0.        ]\n",
      " [ 0.         -0.12679739 -0.14901961 ...  0.09673203  0.23921569\n",
      "   0.        ]\n",
      " ...\n",
      " [ 0.          0.18169935 -0.03529412 ...  0.26535948  0.2\n",
      "   0.        ]\n",
      " [ 0.          0.14248366  0.03137255 ...  0.23267974  0.03267974\n",
      "   0.        ]\n",
      " [ 0.          0.          0.         ...  0.          0.\n",
      "   0.        ]]\n",
      "(124, 122)\n",
      "<class 'numpy.ndarray'>\n",
      "---------------------\n",
      "[[ 0.00000000e+00  0.00000000e+00  0.00000000e+00 ...  0.00000000e+00\n",
      "   0.00000000e+00  0.00000000e+00]\n",
      " [ 0.00000000e+00 -2.77555756e-17 -5.22875817e-03 ...  2.61437908e-03\n",
      "  -3.92156863e-03  0.00000000e+00]\n",
      " [ 0.00000000e+00  5.22875817e-03  1.30718954e-03 ...  2.61437908e-03\n",
      "  -2.61437908e-03  0.00000000e+00]\n",
      " ...\n",
      " [ 0.00000000e+00  7.84313725e-03  2.61437908e-03 ...  1.30718954e-03\n",
      "   7.84313725e-03  0.00000000e+00]\n",
      " [ 0.00000000e+00  1.30718954e-03  6.53594771e-03 ...  1.43790850e-02\n",
      "   9.15032680e-03  0.00000000e+00]\n",
      " [ 0.00000000e+00  0.00000000e+00  0.00000000e+00 ...  0.00000000e+00\n",
      "   0.00000000e+00  0.00000000e+00]]\n",
      "(104, 109)\n",
      "<class 'numpy.ndarray'>\n",
      "---------------------\n",
      "[[ 0.          0.          0.         ...  0.          0.\n",
      "   0.        ]\n",
      " [ 0.          0.         -0.00261438 ... -0.00915033  0.\n",
      "   0.        ]\n",
      " [ 0.          0.         -0.00130719 ... -0.00784314  0.00392157\n",
      "   0.        ]\n",
      " ...\n",
      " [ 0.         -0.00392157 -0.00261438 ... -0.00130719 -0.00130719\n",
      "   0.        ]\n",
      " [ 0.         -0.00261438 -0.00130719 ... -0.00522876 -0.00130719\n",
      "   0.        ]\n",
      " [ 0.          0.          0.         ...  0.          0.\n",
      "   0.        ]]\n",
      "(110, 107)\n",
      "<class 'numpy.ndarray'>\n",
      "---------------------\n",
      "[[ 0.          0.          0.         ...  0.          0.\n",
      "   0.        ]\n",
      " [ 0.         -0.10196078 -0.04052288 ...  0.01437908  0.00915033\n",
      "   0.        ]\n",
      " [ 0.         -0.06535948 -0.00653595 ...  0.00653595  0.00261438\n",
      "   0.        ]\n",
      " ...\n",
      " [ 0.          0.          0.         ... -0.00522876  0.04444444\n",
      "   0.        ]\n",
      " [ 0.          0.          0.         ...  0.01437908  0.08104575\n",
      "   0.        ]\n",
      " [ 0.          0.          0.         ...  0.          0.\n",
      "   0.        ]]\n",
      "(108, 109)\n",
      "<class 'numpy.ndarray'>\n",
      "---------------------\n"
     ]
    }
   ],
   "source": [
    "\n",
    "for i in range(rango):\n",
    "    #calculating horizontal edges using prewitt kernel\n",
    "    edges_prewitt_horizontal = prewitt_h(images00000[i])\n",
    "    #calculating vertical edges using prewitt kernel\n",
    "    edges_prewitt_vertical = prewitt_v(images00000[i])\n",
    "    print(edges_prewitt_vertical)\n",
    "    print(edges_prewitt_vertical.shape)\n",
    "    print(type(edges_prewitt_vertical))\n",
    "    print(\"---------------------\")\n",
    "    cv2.imshow('ventana',edges_prewitt_vertical)\n",
    "    cv2.waitKey(0)\n",
    "    cv2.destroyAllWindows()"
   ]
  },
  {
   "cell_type": "code",
   "execution_count": 6,
   "metadata": {},
   "outputs": [],
   "source": [
    "def convertirArray(imagen):\n",
    "    return imagen.reshape(1,-1)"
   ]
  },
  {
   "cell_type": "code",
   "execution_count": 7,
   "metadata": {},
   "outputs": [],
   "source": [
    "def mostrarImagenes(lista):\n",
    "    for i in range(len(lista)):\n",
    "        print(lista[i])"
   ]
  },
  {
   "cell_type": "markdown",
   "metadata": {},
   "source": [
    "Distinto a metodo Otsu"
   ]
  },
  {
   "cell_type": "code",
   "execution_count": 8,
   "metadata": {},
   "outputs": [
    {
     "name": "stdout",
     "output_type": "stream",
     "text": [
      "[[255 255 255 ... 255 255 255]]\n",
      "[[255 255 255 ... 255 255 255]]\n",
      "[[  0   0 255 ...   0   0   0]]\n",
      "[[0 0 0 ... 0 0 0]]\n",
      "[[  0   0   0 ... 255 255 255]]\n",
      "[[255 255   0 ...   0   0   0]]\n"
     ]
    }
   ],
   "source": [
    "feauturesList1  = []\n",
    "\n",
    "for i in range(rango):\n",
    "    gray = cv2.medianBlur(images00000_mod[i], 5)\n",
    "    dst2 = cv2.adaptiveThreshold(gray, 255, cv2.ADAPTIVE_THRESH_GAUSSIAN_C, cv2.THRESH_BINARY, 11, 2)\n",
    "    feauturesList1.append(convertirArray(dst2))\n",
    "    cv2.imshow('umbral adaptable', dst2)\n",
    "    cv2.waitKey(0)\n",
    "    cv2.destroyAllWindows()\n",
    "    \n",
    "mostrarImagenes(feauturesList1)"
   ]
  },
  {
   "cell_type": "markdown",
   "metadata": {},
   "source": [
    "Otsu"
   ]
  },
  {
   "cell_type": "code",
   "execution_count": 9,
   "metadata": {},
   "outputs": [],
   "source": [
    "import skimage\n",
    "from skimage import data, io\n",
    "import numpy as np\n",
    "from matplotlib import pyplot as plt\n",
    "%matplotlib inline"
   ]
  },
  {
   "cell_type": "code",
   "execution_count": 10,
   "metadata": {},
   "outputs": [
    {
     "data": {
      "image/png": "[encoded data removed]",
      "text/plain": [
       "<Figure size 432x288 with 1 Axes>"
      ]
     },
     "metadata": {
      "needs_background": "light"
     },
     "output_type": "display_data"
    },
    {
     "name": "stdout",
     "output_type": "stream",
     "text": [
      "----------------------------------------------\n"
     ]
    },
    {
     "data": {
      "image/png": "[encoded data removed]",
      "text/plain": [
       "<Figure size 432x288 with 1 Axes>"
      ]
     },
     "metadata": {
      "needs_background": "light"
     },
     "output_type": "display_data"
    },
    {
     "name": "stdout",
     "output_type": "stream",
     "text": [
      "----------------------------------------------\n"
     ]
    },
    {
     "data": {
      "image/png": "[encoded data removed]",
      "text/plain": [
       "<Figure size 432x288 with 1 Axes>"
      ]
     },
     "metadata": {
      "needs_background": "light"
     },
     "output_type": "display_data"
    },
    {
     "name": "stdout",
     "output_type": "stream",
     "text": [
      "----------------------------------------------\n"
     ]
    },
    {
     "data": {
      "image/png": "[encoded data removed]",
      "text/plain": [
       "<Figure size 432x288 with 1 Axes>"
      ]
     },
     "metadata": {
      "needs_background": "light"
     },
     "output_type": "display_data"
    },
    {
     "name": "stdout",
     "output_type": "stream",
     "text": [
      "----------------------------------------------\n"
     ]
    },
    {
     "data": {
      "image/png": "[encoded data removed]",
      "text/plain": [
       "<Figure size 432x288 with 1 Axes>"
      ]
     },
     "metadata": {
      "needs_background": "light"
     },
     "output_type": "display_data"
    },
    {
     "name": "stdout",
     "output_type": "stream",
     "text": [
      "----------------------------------------------\n"
     ]
    },
    {
     "data": {
      "image/png": "[encoded data removed]",
      "text/plain": [
       "<Figure size 432x288 with 1 Axes>"
      ]
     },
     "metadata": {
      "needs_background": "light"
     },
     "output_type": "display_data"
    },
    {
     "name": "stdout",
     "output_type": "stream",
     "text": [
      "----------------------------------------------\n"
     ]
    }
   ],
   "source": [
    "feauturesList2  = []\n",
    "\n",
    "\n",
    "for i in range(rango):    \n",
    "    threshold_value = threshold_otsu(images00000_mod[i])  \n",
    "\n",
    "    camera_threholded = images00000_mod[i] > threshold_value  \n",
    "\n",
    "    # Show the original image\n",
    "    #io.imshow(images00000_mod[i])\n",
    "    #plt.show()\n",
    "\n",
    "    # Show the thresholded image\n",
    "    io.imshow(camera_threholded)\n",
    "    plt.show()\n",
    "    \n",
    "    feauturesList2.append(convertirArray(camera_threholded*255))\n",
    "    \n",
    "    print(\"----------------------------------------------\")"
   ]
  },
  {
   "cell_type": "code",
   "execution_count": 11,
   "metadata": {},
   "outputs": [
    {
     "name": "stdout",
     "output_type": "stream",
     "text": [
      "[[0 0 0 ... 0 0 0]]\n",
      "[[  0   0   0 ... 255 255 255]]\n",
      "[[  0   0   0 ...   0 255 255]]\n",
      "[[  0   0   0 ... 255 255 255]]\n",
      "[[255 255 255 ... 255 255 255]]\n",
      "[[  0   0   0 ... 255 255 255]]\n"
     ]
    }
   ],
   "source": [
    "mostrarImagenes(feauturesList2)"
   ]
  },
  {
   "cell_type": "code",
   "execution_count": 34,
   "metadata": {},
   "outputs": [],
   "source": [
    "#Devuelve descriptor de imagen aplicando hog\n",
    "def hogMaker(images00000_mod):\n",
    "    fd, hog_image = hog(images00000_mod[0], orientations=8, pixels_per_cell=(16, 16),\n",
    "                        cells_per_block=(1, 1), visualize=True)\n",
    "\n",
    "    fig, (ax1, ax2) = plt.subplots(1, 2, figsize=(8, 4), sharex=True, sharey=True)\n",
    "\n",
    "    ax1.axis('off')\n",
    "    ax1.imshow(images00000_mod[0], cmap=plt.cm.gray)\n",
    "    ax1.set_title('Input image')\n",
    "\n",
    "    # Rescale histogram for better display\n",
    "    hog_image_rescaled = exposure.rescale_intensity(hog_image, in_range=(0, 10))\n",
    "\n",
    "    ax2.axis('off')\n",
    "    #ax2.imshow(hog_image_rescaled, cmap=plt.cm.gray)\n",
    "    #ax2.set_title('Histogram of Oriented Gradients')\n",
    "    #plt.show()\n",
    "    return fd"
   ]
  },
  {
   "cell_type": "markdown",
   "metadata": {},
   "source": [
    "# $Sift$"
   ]
  },
  {
   "cell_type": "code",
   "execution_count": 13,
   "metadata": {},
   "outputs": [
    {
     "data": {
      "text/plain": [
       "array([[59, 59, 63, ..., 55, 50, 51],\n",
       "       [61, 61, 60, ..., 53, 51, 52],\n",
       "       [61, 61, 61, ..., 46, 53, 58],\n",
       "       ...,\n",
       "       [38, 38, 42, ..., 15, 17, 19],\n",
       "       [39, 42, 45, ..., 15, 15, 17],\n",
       "       [35, 33, 31, ..., 15, 19, 21]], dtype=uint8)"
      ]
     },
     "execution_count": 13,
     "metadata": {},
     "output_type": "execute_result"
    }
   ],
   "source": [
    "images00000_mod[0]"
   ]
  },
  {
   "cell_type": "code",
   "execution_count": 6,
   "metadata": {},
   "outputs": [],
   "source": [
    "#devuelve descriptor de Sift\n",
    "def siftMaker(images00000_mod):\n",
    "    sift = cv2.xfeatures2d.SIFT_create()\n",
    "    kp, des = sift.detectAndCompute(images00000_mod[0],None)    \n",
    "    #quizas falta un tercer parametro:  imagen original\n",
    "    img=cv2.drawKeypoints(images00000_mod[0],kp, images00000_mod[0], flags=cv2.DRAW_MATCHES_FLAGS_DRAW_RICH_KEYPOINTS)\n",
    "    #cv2.imwrite('sift_keypoints.jpg',img)\n",
    "    return des"
   ]
  },
  {
   "cell_type": "code",
   "execution_count": 15,
   "metadata": {},
   "outputs": [
    {
     "data": {
      "text/plain": [
       "(56, 128)"
      ]
     },
     "execution_count": 15,
     "metadata": {},
     "output_type": "execute_result"
    }
   ],
   "source": [
    "des.shape"
   ]
  },
  {
   "cell_type": "code",
   "execution_count": 16,
   "metadata": {},
   "outputs": [],
   "source": [
    "cv2.imshow('ventana', img)\n",
    "cv2.waitKey(0)\n",
    "cv2.destroyAllWindows()"
   ]
  },
  {
   "cell_type": "markdown",
   "metadata": {},
   "source": [
    "# $Surf$"
   ]
  },
  {
   "cell_type": "markdown",
   "metadata": {},
   "source": [
    "In short, SURF adds a lot of features to improve the speed in every step. Analysis shows it is 3 times faster than SIFT while performance is comparable to SIFT. SURF is good at handling images with blurring and rotation, but not good at handling viewpoint change and illumination change."
   ]
  },
  {
   "cell_type": "code",
   "execution_count": 7,
   "metadata": {},
   "outputs": [],
   "source": [
    "# Create SURF object. You can specify params here or later.\n",
    "# Here I set Hessian Threshold to 400\n",
    "\n",
    "#Devuelve descriptor a partir de surfmaker\n",
    "def surfmaker(images00000_mod):\n",
    "    surf = cv2.xfeatures2d.SURF_create(400)\n",
    "    kp, des = surf.detectAndCompute(images00000_mod[0],None)\n",
    "    return des\n"
   ]
  },
  {
   "cell_type": "code",
   "execution_count": 18,
   "metadata": {},
   "outputs": [
    {
     "data": {
      "text/plain": [
       "(53, 64)"
      ]
     },
     "execution_count": 18,
     "metadata": {},
     "output_type": "execute_result"
    }
   ],
   "source": [
    "des.shape"
   ]
  },
  {
   "cell_type": "code",
   "execution_count": 19,
   "metadata": {},
   "outputs": [
    {
     "data": {
      "image/png": "[encoded data removed]",
      "text/plain": [
       "<Figure size 432x288 with 1 Axes>"
      ]
     },
     "metadata": {
      "needs_background": "light"
     },
     "output_type": "display_data"
    },
    {
     "data": {
      "text/plain": [
       "(<matplotlib.image.AxesImage at 0x2b6134c5d08>, None)"
      ]
     },
     "execution_count": 19,
     "metadata": {},
     "output_type": "execute_result"
    }
   ],
   "source": [
    "img2 = cv2.drawKeypoints(images00000_mod[0],kp,None,(255,0,0),4)\n",
    "plt.imshow(img2),plt.show()"
   ]
  },
  {
   "cell_type": "markdown",
   "metadata": {},
   "source": [
    "# $Fast$ + $Brief$"
   ]
  },
  {
   "cell_type": "markdown",
   "metadata": {},
   "source": [
    "it is several times faster than other existing corner detectors.\n",
    "\n",
    "But it is not robust to high levels of noise. It is dependent on a threshold."
   ]
  },
  {
   "cell_type": "code",
   "execution_count": 11,
   "metadata": {},
   "outputs": [],
   "source": [
    "# Initiate FAST object with default values\n",
    "                                              #COMO OBTENER DES??????????\n",
    "def fastbrief_Maker(images00000_mod):\n",
    "    fast = cv2.FastFeatureDetector_create()\n",
    "\n",
    "    # find and draw the keypoints\n",
    "    kp2 = fast.detect(images00000_mod[0],None)\n",
    "    img2 = cv2.drawKeypoints(images00000_mod[0], kp2, None, color=(255,0,0))\n",
    "\n",
    "    # Print all default params\n",
    "    print( \"Threshold: {}\".format(fast.getThreshold()) )\n",
    "    print( \"nonmaxSuppression:{}\".format(fast.getNonmaxSuppression()) )\n",
    "    print( \"neighborhood: {}\".format(fast.getType()) )\n",
    "    print( \"Total Keypoints with nonmaxSuppression: {}\".format(len(kp2)) )\n",
    "\n",
    "    # cv2.imwrite('fast_true.png',img2)\n",
    "    cv2.imshow(\"test1\", img2)\n",
    "\n",
    "    # Disable nonmaxSuppression\n",
    "    fast.setNonmaxSuppression(0)\n",
    "    kp3 = fast.detect(img2,None)\n",
    "\n",
    "    print( \"Total Keypoints without nonmaxSuppression: {}\".format(len(kp3)) )\n",
    "\n",
    "    img3 = cv2.drawKeypoints(img2, kp3, None, color=(255,0,0))\n",
    "    #cv2.imshow(\"test\", img3)\n",
    "    #cv2.waitKey(0)\n",
    "    #cv2.destroyAllWindows()\n",
    "    # cv2.imwrite('fast_false.png',img3)\n",
    "    brief = cv2.xfeatures2d.BriefDescriptorExtractor_create()\n",
    "\n",
    "    # Compute descriptors\n",
    "    kp, des = brief.compute(img3, kp3) #fast nonsup\n",
    "    return des\n"
   ]
  },
  {
   "cell_type": "code",
   "execution_count": 37,
   "metadata": {},
   "outputs": [
    {
     "data": {
      "text/plain": [
       "\"\\ncv2.imshow('ventana1', img2) #no realiza supresion de maximos\\ncv2.imshow('ventana2', img3)\\n\\ncv2.waitKey(0)\\ncv2.destroyAllWindows()\\n\""
      ]
     },
     "execution_count": 37,
     "metadata": {},
     "output_type": "execute_result"
    }
   ],
   "source": [
    "'''\n",
    "cv2.imshow('ventana1', img2) #no realiza supresion de maximos\n",
    "cv2.imshow('ventana2', img3)\n",
    "\n",
    "cv2.waitKey(0)\n",
    "cv2.destroyAllWindows()\n",
    "'''"
   ]
  },
  {
   "cell_type": "markdown",
   "metadata": {},
   "source": [
    "# $ORB$"
   ]
  },
  {
   "cell_type": "code",
   "execution_count": 9,
   "metadata": {},
   "outputs": [],
   "source": [
    "#Devuelve descriptor de imagen orbMaker\n",
    "def orbMaker(images00000_mod):\n",
    "    # Initiate ORB detector\n",
    "    orb = cv2.ORB_create()\n",
    "\n",
    "    # find the keypoints with ORB\n",
    "    kp = orb.detect(images00000_mod[0],None)\n",
    "\n",
    "    # compute the descriptors with ORB\n",
    "    kp, des = orb.compute(images00000_mod[0], kp)\n",
    "\n",
    "    # draw only keypoints location,not size and orientation\n",
    "    img2 = cv2.drawKeypoints(images00000_mod[0], kp, None, color=(0,255,0), flags=0)\n",
    "    #plt.imshow(img2), plt.show()\n",
    "    return des"
   ]
  },
  {
   "cell_type": "markdown",
   "metadata": {},
   "source": [
    "# Probamos los métodos para crear los datasets"
   ]
  },
  {
   "cell_type": "markdown",
   "metadata": {},
   "source": [
    "Para las imágenes que contienen el  número 20"
   ]
  },
  {
   "cell_type": "code",
   "execution_count": 12,
   "metadata": {},
   "outputs": [
    {
     "name": "stdout",
     "output_type": "stream",
     "text": [
      "Threshold: 10\n",
      "nonmaxSuppression:True\n",
      "neighborhood: 2\n",
      "Total Keypoints with nonmaxSuppression: 195\n"
     ]
    },
    {
     "ename": "NameError",
     "evalue": "name 'img' is not defined",
     "output_type": "error",
     "traceback": [
      "\u001b[1;31m---------------------------------------------------------------------------\u001b[0m",
      "\u001b[1;31mNameError\u001b[0m                                 Traceback (most recent call last)",
      "\u001b[1;32m<ipython-input-12-691eda1d1698>\u001b[0m in \u001b[0;36m<module>\u001b[1;34m\u001b[0m\n\u001b[0;32m      1\u001b[0m \u001b[0mdesSift\u001b[0m \u001b[1;33m=\u001b[0m \u001b[0msiftMaker\u001b[0m\u001b[1;33m(\u001b[0m\u001b[0mimages00000_mod\u001b[0m\u001b[1;33m)\u001b[0m\u001b[1;33m\u001b[0m\u001b[1;33m\u001b[0m\u001b[0m\n\u001b[0;32m      2\u001b[0m \u001b[0mdesSurf\u001b[0m \u001b[1;33m=\u001b[0m  \u001b[0msurfmaker\u001b[0m\u001b[1;33m(\u001b[0m\u001b[0mimages00000_mod\u001b[0m\u001b[1;33m)\u001b[0m\u001b[1;33m\u001b[0m\u001b[1;33m\u001b[0m\u001b[0m\n\u001b[1;32m----> 3\u001b[1;33m \u001b[0mdesBriefMaker\u001b[0m \u001b[1;33m=\u001b[0m  \u001b[0mfastbrief_Maker\u001b[0m\u001b[1;33m(\u001b[0m\u001b[0mimages00000_mod\u001b[0m\u001b[1;33m)\u001b[0m\u001b[1;33m\u001b[0m\u001b[1;33m\u001b[0m\u001b[0m\n\u001b[0m\u001b[0;32m      4\u001b[0m \u001b[0mdesOrbMaker\u001b[0m \u001b[1;33m=\u001b[0m  \u001b[0morbMaker\u001b[0m\u001b[1;33m(\u001b[0m\u001b[0mimages00000_mod\u001b[0m\u001b[1;33m)\u001b[0m\u001b[1;33m\u001b[0m\u001b[1;33m\u001b[0m\u001b[0m\n\u001b[0;32m      5\u001b[0m \u001b[0mprint\u001b[0m\u001b[1;33m(\u001b[0m\u001b[0mdesSift\u001b[0m\u001b[1;33m.\u001b[0m\u001b[0mflatten\u001b[0m\u001b[1;33m(\u001b[0m\u001b[1;33m)\u001b[0m\u001b[1;33m)\u001b[0m\u001b[1;33m\u001b[0m\u001b[1;33m\u001b[0m\u001b[0m\n",
      "\u001b[1;32m<ipython-input-11-54b47b0ccc69>\u001b[0m in \u001b[0;36mfastbrief_Maker\u001b[1;34m(images00000_mod)\u001b[0m\n\u001b[0;32m     19\u001b[0m     \u001b[1;31m# Disable nonmaxSuppression\u001b[0m\u001b[1;33m\u001b[0m\u001b[1;33m\u001b[0m\u001b[1;33m\u001b[0m\u001b[0m\n\u001b[0;32m     20\u001b[0m     \u001b[0mfast\u001b[0m\u001b[1;33m.\u001b[0m\u001b[0msetNonmaxSuppression\u001b[0m\u001b[1;33m(\u001b[0m\u001b[1;36m0\u001b[0m\u001b[1;33m)\u001b[0m\u001b[1;33m\u001b[0m\u001b[1;33m\u001b[0m\u001b[0m\n\u001b[1;32m---> 21\u001b[1;33m     \u001b[0mkp3\u001b[0m \u001b[1;33m=\u001b[0m \u001b[0mfast\u001b[0m\u001b[1;33m.\u001b[0m\u001b[0mdetect\u001b[0m\u001b[1;33m(\u001b[0m\u001b[0mimg\u001b[0m\u001b[1;33m,\u001b[0m\u001b[1;32mNone\u001b[0m\u001b[1;33m)\u001b[0m\u001b[1;33m\u001b[0m\u001b[1;33m\u001b[0m\u001b[0m\n\u001b[0m\u001b[0;32m     22\u001b[0m \u001b[1;33m\u001b[0m\u001b[0m\n\u001b[0;32m     23\u001b[0m     \u001b[0mprint\u001b[0m\u001b[1;33m(\u001b[0m \u001b[1;34m\"Total Keypoints without nonmaxSuppression: {}\"\u001b[0m\u001b[1;33m.\u001b[0m\u001b[0mformat\u001b[0m\u001b[1;33m(\u001b[0m\u001b[0mlen\u001b[0m\u001b[1;33m(\u001b[0m\u001b[0mkp3\u001b[0m\u001b[1;33m)\u001b[0m\u001b[1;33m)\u001b[0m \u001b[1;33m)\u001b[0m\u001b[1;33m\u001b[0m\u001b[1;33m\u001b[0m\u001b[0m\n",
      "\u001b[1;31mNameError\u001b[0m: name 'img' is not defined"
     ]
    }
   ],
   "source": [
    "desSift = siftMaker(images00000_mod)\n",
    "desSurf =  surfmaker(images00000_mod)\n",
    "desBriefMaker =  fastbrief_Maker(images00000_mod)\n",
    "desOrbMaker =  orbMaker(images00000_mod)\n",
    "print(desSift.flatten())\n",
    "print(desSurf.flatten())\n",
    "print(desBriefMaker.flatten())\n",
    "print(desOrbMaker.flatten())"
   ]
  }
 ],
 "metadata": {
  "kernelspec": {
   "display_name": "Python [conda env:py37vision] *",
   "language": "python",
   "name": "conda-env-py37vision-py"
  },
  "language_info": {
   "codemirror_mode": {
    "name": "ipython",
    "version": 3
   },
   "file_extension": ".py",
   "mimetype": "text/x-python",
   "name": "python",
   "nbconvert_exporter": "python",
   "pygments_lexer": "ipython3",
   "version": "3.7.4"
  }
 },
 "nbformat": 4,
 "nbformat_minor": 2
}
