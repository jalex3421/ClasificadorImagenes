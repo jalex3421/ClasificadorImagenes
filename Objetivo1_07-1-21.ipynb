{
 "cells": [
  {
   "cell_type": "markdown",
   "metadata": {},
   "source": [
    "# Objetivo 1"
   ]
  },
  {
   "cell_type": "markdown",
   "metadata": {},
   "source": [
    "# Autores\n",
    "David Rodríguez\n",
    ",    Alejandro Meza"
   ]
  },
  {
   "cell_type": "markdown",
   "metadata": {},
   "source": [
    "## Índice de la práctica\n",
    "\n",
    "- [1.Introducción](#1.Introducción)\n",
    "- [2.Creación de datos](#2.Creación-de-datos)\n",
    "- [3.Creación de Modelo de Predicción](#3.Creación-de-Modelo-de-Predicción)\n",
    "- [4.Regresión logística](#4.Regresión-logística)\n",
    "- [5.SVM](#5.SVM)"
   ]
  },
  {
   "cell_type": "code",
   "execution_count": 1,
   "metadata": {},
   "outputs": [],
   "source": [
    "import cv2\n",
    "import glob\n",
    "import skimage\n",
    "\n",
    "\n",
    "#Librerias contornos \n",
    "import numpy as np\n",
    "from skimage.io import imread, imshow\n",
    "from skimage.filters import prewitt_h,prewitt_v\n",
    "from skimage import data, io\n",
    "import matplotlib.pyplot as plt\n",
    "%matplotlib inline\n",
    "from skimage.filters import threshold_otsu \n",
    "from skimage.feature import hog\n",
    "from skimage import data, exposure\n",
    "\n",
    "#Machine Learning\n",
    "from sklearn.linear_model import LogisticRegression\n",
    "from sklearn.datasets import load_iris #dataset de prueba\n",
    "from sklearn.preprocessing import OneHotEncoder\n",
    "from scipy.optimize import minimize\n",
    "import sklearn.metrics as metrics\n",
    "from sklearn.model_selection import GridSearchCV\n",
    "from sklearn import svm\n",
    "\n",
    "#Librerias para preparación de datos\n",
    "from sklearn.model_selection import train_test_split\n",
    "from sklearn.preprocessing import StandardScaler\n"
   ]
  },
  {
   "cell_type": "markdown",
   "metadata": {},
   "source": [
    "# 1.Introducción"
   ]
  },
  {
   "cell_type": "markdown",
   "metadata": {},
   "source": [
    "Para cumplir el objetivo 1, lo hemos dividido en tareas: \n",
    "\n",
    "·Creacion de Datos: A partir de las imagenes obtenemos sus caracteristicas\n",
    "\n",
    "·Creación de Modelo de Predicción: A partir de los datos obtenidos anteriormente, creamos un modelo de predicción."
   ]
  },
  {
   "cell_type": "markdown",
   "metadata": {},
   "source": [
    "# 2.Creación de datos"
   ]
  },
  {
   "cell_type": "markdown",
   "metadata": {},
   "source": [
    "Se va a crear la matriz X, que es la que contiene las imágenes (se crea un dataset).\n",
    "Creamos metodos que nos ayudaran a conseguir nuestro objetivo."
   ]
  },
  {
   "cell_type": "code",
   "execution_count": 2,
   "metadata": {},
   "outputs": [],
   "source": [
    "'''\n",
    "Descripcion: diccionario con los posibles valores de las imagenes, en relacion con el nombre de las carpetas.\n",
    "Entrada: -\n",
    "Salida: diccionario cuyas claves son el nombre de las carpetas, y los valores son el tipo de signals que contiene.\n",
    "'''\n",
    "def devolverDiccionarioEtiquetas():\n",
    "    \n",
    "    diccionarioValores = {}\n",
    "    diccionarioValores['00000'] = 'VelocidadMaxima20'\n",
    "    diccionarioValores['00001'] = 'VelocidadMaxima30'\n",
    "    diccionarioValores['00002'] = 'VelocidadMaxima50'\n",
    "    diccionarioValores['00003'] = 'VelocidadMaxima60'\n",
    "    diccionarioValores['00004'] = 'VelocidadMaxima70'\n",
    "    diccionarioValores['00005'] = 'VelocidadMaxima80'\n",
    "    diccionarioValores['00006'] = 'FinVelocidadMaxima80'\n",
    "    diccionarioValores['00007'] = 'VelocidadMaxima100'\n",
    "    diccionarioValores['00008'] = 'VelocidadMaxima120'\n",
    "    diccionarioValores['00009'] = 'AdelantamientoProhibido'\n",
    "    diccionarioValores['00010'] = 'AdelantamientoProhibidoParaCamiones'\n",
    "\n",
    "    diccionarioValores['00011'] = 'InterseccionConPrioridad'\n",
    "    diccionarioValores['00012'] = 'CalzadaConPrioridad'\n",
    "    diccionarioValores['00013'] = 'CedaElPaso'\n",
    "    diccionarioValores['00014'] = 'DetencionObligatoria'\n",
    "    diccionarioValores['00015'] = 'CirculacionProhibida'\n",
    "    diccionarioValores['00016'] = 'EntradaProhibidaAVehiculosMercancias'\n",
    "    diccionarioValores['00017'] = 'EntradaProhibida'\n",
    "    diccionarioValores['00018'] = 'OtrosPeligros'\n",
    "    diccionarioValores['00019'] = 'CurvaPeligrosaHaciaLaIzquierda'\n",
    "    diccionarioValores['00020'] = 'CurvaPeligrosaHaciaLaDerecha'\n",
    "\n",
    "    diccionarioValores['00021'] = 'CurvasPeligrosasHaciaLaIzquierda'\n",
    "    diccionarioValores['00022'] = 'PerfilIrregular'\n",
    "    diccionarioValores['00023'] = 'PavimentoDeslizante'\n",
    "    diccionarioValores['00024'] = 'EstrechamientoCalzadaPorDerecha'\n",
    "    diccionarioValores['00025'] = 'Obras'\n",
    "    diccionarioValores['00026'] = 'Semaforos'\n",
    "    diccionarioValores['00027'] = 'PasoDePeatones'\n",
    "    diccionarioValores['00028'] = 'Kids'\n",
    "    diccionarioValores['00029'] = 'EntradaProhibidasCiclos'\n",
    "    diccionarioValores['00030'] = 'PavimentoDeslizanteNieveHielo'\n",
    "\n",
    "    diccionarioValores['00031'] = 'PasoDeAnimalesEnLibertad'\n",
    "    diccionarioValores['00032'] = 'FinDeProhibiciones'\n",
    "    diccionarioValores['00033'] = 'SentidoObligatorioDerecha'\n",
    "    diccionarioValores['00034'] = 'SentidoObligatorioIzquierda'\n",
    "    diccionarioValores['00035'] = 'SentidoObligatorio'\n",
    "    diccionarioValores['00036'] = 'DirPermitidasRectoYDerecha'\n",
    "    diccionarioValores['00037'] = 'DirPermitidasRectoEIzquierda'\n",
    "    diccionarioValores['00038'] = 'PasoObligatorioDerecha'\n",
    "    diccionarioValores['00039'] = 'PasoObligatorioizquierda'\n",
    "    diccionarioValores['00040'] = 'InterseccionSentidoObligatorioGiratorio'\n",
    "\n",
    "\n",
    "    diccionarioValores['00041'] = 'FinProhibicionAdelantamiento'\n",
    "    diccionarioValores['00042'] = 'FinProhibicionAdelantamientoCamiones'\n",
    "    \n",
    "    return diccionarioValores"
   ]
  },
  {
   "cell_type": "markdown",
   "metadata": {},
   "source": [
    "Probemos ahora el código...."
   ]
  },
  {
   "cell_type": "code",
   "execution_count": 3,
   "metadata": {},
   "outputs": [
    {
     "name": "stdout",
     "output_type": "stream",
     "text": [
      "VelocidadMaxima20\n",
      "VelocidadMaxima30\n",
      "VelocidadMaxima50\n",
      "VelocidadMaxima60\n",
      "VelocidadMaxima70\n",
      "VelocidadMaxima80\n",
      "FinVelocidadMaxima80\n",
      "VelocidadMaxima100\n",
      "VelocidadMaxima120\n",
      "AdelantamientoProhibido\n",
      "AdelantamientoProhibidoParaCamiones\n",
      "InterseccionConPrioridad\n",
      "CalzadaConPrioridad\n",
      "CedaElPaso\n",
      "DetencionObligatoria\n",
      "CirculacionProhibida\n",
      "EntradaProhibidaAVehiculosMercancias\n",
      "EntradaProhibida\n",
      "OtrosPeligros\n",
      "CurvaPeligrosaHaciaLaIzquierda\n",
      "CurvaPeligrosaHaciaLaDerecha\n",
      "CurvasPeligrosasHaciaLaIzquierda\n",
      "PerfilIrregular\n",
      "PavimentoDeslizante\n",
      "EstrechamientoCalzadaPorDerecha\n",
      "Obras\n",
      "Semaforos\n",
      "PasoDePeatones\n",
      "Kids\n",
      "EntradaProhibidasCiclos\n",
      "PavimentoDeslizanteNieveHielo\n",
      "PasoDeAnimalesEnLibertad\n",
      "FinDeProhibiciones\n",
      "SentidoObligatorioDerecha\n",
      "SentidoObligatorioIzquierda\n",
      "SentidoObligatorio\n",
      "DirPermitidasRectoYDerecha\n",
      "DirPermitidasRectoEIzquierda\n",
      "PasoObligatorioDerecha\n",
      "PasoObligatorioizquierda\n",
      "InterseccionSentidoObligatorioGiratorio\n",
      "FinProhibicionAdelantamiento\n",
      "FinProhibicionAdelantamientoCamiones\n"
     ]
    }
   ],
   "source": [
    "d =  devolverDiccionarioEtiquetas()\n",
    "\n",
    "for k,v in d.items():\n",
    "    print(v)"
   ]
  },
  {
   "cell_type": "markdown",
   "metadata": {},
   "source": [
    "Creamos un diccionario para almacenar todas las fotos, relacionadas a cada señal"
   ]
  },
  {
   "cell_type": "code",
   "execution_count": 4,
   "metadata": {},
   "outputs": [],
   "source": [
    "'''\n",
    "Descripcion: diccionario con los posibles valores de las imagenes, en relacion con el nombre de las carpetas.\n",
    "Entrada: -\n",
    "Salida: diccionario cuyas claves son el nombre de las carpetas, y los valores son las imagenes de las signals\n",
    "'''\n",
    "def crearDiccionarioDatos():\n",
    "    trafic_signals = {}\n",
    "    #para cada tipo de señal creamos una lista con sus ejemplos, y se la asignamos a su etiqueta de nombre de carpeta\n",
    "    for i in range(0,43):\n",
    "        if i<10:\n",
    "            folder = 'Dataset_traffic_sign/0000'+str(i)+'/*.png'\n",
    "            tipo = '0000'+str(i)\n",
    "        else:\n",
    "            folder = 'Dataset_traffic_sign/000'+str(i)+'/*.png'\n",
    "            tipo = '000'+str(i)\n",
    "        \n",
    "        images = [cv2.imread(file,0) for file in glob.glob(folder)]\n",
    "        images_mod = [] \n",
    "        for im in images:\n",
    "            #se aplica el resize\n",
    "            images_mod.append(cv2.resize(im, (100, 100), interpolation = cv2.INTER_NEAREST))\n",
    "\n",
    "        trafic_signals[tipo] = images_mod\n",
    "    return trafic_signals"
   ]
  },
  {
   "cell_type": "markdown",
   "metadata": {},
   "source": [
    "Creamos funciones para transformar imagenes en descriptores dependiendo del tipo que queramos.\n",
    "Hay de: HOG, Sift, Surf, Fast_Brief, ORB"
   ]
  },
  {
   "cell_type": "code",
   "execution_count": 5,
   "metadata": {},
   "outputs": [],
   "source": [
    "# HOG\n",
    "def hogMaker(images00000_mod):\n",
    "    fd, hog_image = hog(images00000_mod, orientations=8, pixels_per_cell=(16, 16),\n",
    "                        cells_per_block=(1, 1), visualize=True)\n",
    "    return fd\n",
    "\n",
    "\n",
    "# $Sift$\n",
    "#devuelve descriptor de Sift\n",
    "def siftMaker(images00000_mod):\n",
    "    sift = cv2.xfeatures2d.SIFT_create()\n",
    "    kp, des = sift.detectAndCompute(images00000_mod,None)\n",
    "    return des\n",
    "\n",
    "\n",
    "# $Surf$\n",
    "def surfmaker(images00000_mod):\n",
    "    surf = cv2.xfeatures2d.SURF_create(400)\n",
    "    kp, des = surf.detectAndCompute(images00000_mod,None)\n",
    "    return des\n",
    "\n",
    "# $Fast$ + $Brief$\n",
    "def fastbrief_Maker(images00000_mod):\n",
    "    fast = cv2.FastFeatureDetector_create()\n",
    "\n",
    "    # find and draw the keypoints\n",
    "    kp2 = fast.detect(images00000_mod,None)\n",
    "    img2 = cv2.drawKeypoints(images00000_mod, kp2, None, color=(255,0,0))\n",
    "\n",
    "    # Disable nonmaxSuppression\n",
    "    fast.setNonmaxSuppression(0)\n",
    "    kp3 = fast.detect(img2,None)\n",
    "\n",
    "    img3 = cv2.drawKeypoints(img2, kp3, None, color=(255,0,0))\n",
    "    brief = cv2.xfeatures2d.BriefDescriptorExtractor_create()\n",
    "\n",
    "    # Compute descriptors\n",
    "    kp, des = brief.compute(img3, kp3) #fast nonsup\n",
    "    return des\n",
    "\n",
    "\n",
    "# $ORB$\n",
    "def orbMaker(images00000_mod):\n",
    "    # Initiate ORB detector\n",
    "    orb = cv2.ORB_create()\n",
    "\n",
    "    # find the keypoints with ORB\n",
    "    kp = orb.detect(images00000_mod,None)\n",
    "\n",
    "    # compute the descriptors with ORB\n",
    "    kp, des = orb.compute(images00000_mod, kp)\n",
    "    return des"
   ]
  },
  {
   "cell_type": "markdown",
   "metadata": {},
   "source": [
    "Cogemos las imagenes y las separamos  en train y test, y decimos a que clase pertenecen"
   ]
  },
  {
   "cell_type": "code",
   "execution_count": 6,
   "metadata": {},
   "outputs": [],
   "source": [
    "'''\n",
    "Descripcion: Obtencion de train y test a partir de un conjunto de imágenes\n",
    "Entrada: trafic_signals, signals_types\n",
    "Salida: imagenesTrain,imagenesTest,ytrain,ytest\n",
    "'''\n",
    "def separaTrainTest(trafic_signals,signals_types):\n",
    "    imagenesTrain = None\n",
    "    imagenesTest = None\n",
    "    ytrain = None\n",
    "    ytest = None\n",
    "    \n",
    "    for signal,images in trafic_signals.items():\n",
    "        \n",
    "        aux_y_train = []\n",
    "        aux_y_test = []\n",
    "        \n",
    "        np_im = np.array(images)\n",
    "        n_train = int(0.6*np_im.shape[0])\n",
    "        n_test = np_im.shape[0]-n_train\n",
    "        \n",
    "        aux_train = np_im[:n_train]\n",
    "        aux_test = np_im[n_train:]\n",
    "        \n",
    "        for i in range(n_train):\n",
    "            aux_y_train.append(signals_types[signal])\n",
    "        for i in range(n_test):\n",
    "            aux_y_test.append(signals_types[signal])\n",
    "        \n",
    "        aux_y_train = np.array(aux_y_train).reshape(-1,1)\n",
    "        aux_y_test = np.array(aux_y_test).reshape(-1,1)\n",
    "        \n",
    "        if imagenesTrain is None:\n",
    "            imagenesTrain = aux_train\n",
    "            ytrain = aux_y_train\n",
    "            imagenesTest = aux_test\n",
    "            ytest = aux_y_test\n",
    "        else:\n",
    "            imagenesTrain = np.concatenate((imagenesTrain,aux_train),axis=0)\n",
    "            ytrain =  np.vstack((ytrain,aux_y_train))\n",
    "            imagenesTest = np.concatenate((imagenesTest,aux_test),axis=0)\n",
    "            ytest = np.vstack((ytest,aux_y_test))\n",
    "        \n",
    "    return imagenesTrain,imagenesTest,ytrain,ytest"
   ]
  },
  {
   "cell_type": "markdown",
   "metadata": {},
   "source": [
    "Creamos las caracteristicas con los datos que nos den y sus tipos"
   ]
  },
  {
   "cell_type": "code",
   "execution_count": 7,
   "metadata": {},
   "outputs": [],
   "source": [
    "def creaMatrizCaracteristicas(imagenes,carac_type):\n",
    "    X = None\n",
    "        \n",
    "    for i in range(imagenes.shape[0]):\n",
    "        if carac_type=='sift':\n",
    "            d = siftMaker(imagenes[i])\n",
    "        elif carac_type=='surf':\n",
    "            d = surfmaker(imagenes[i])\n",
    "        elif carac_type=='fast_brief':\n",
    "            d = fastbrief_Maker(imagenes[i])\n",
    "        elif carac_type=='orb':\n",
    "            d = orbMaker(imagenes[i])\n",
    "        elif carac_type=='hog':\n",
    "            d = hogMaker(imagenes[i])\n",
    "        else: #en caso de recibir un valor que no es valido\n",
    "            try:\n",
    "                raise ValueError\n",
    "            except ValueError:\n",
    "                print(\"valor incorrecto\")\n",
    "        \n",
    "        if d is not None:\n",
    "            if X is None:\n",
    "                X = d\n",
    "            else:\n",
    "                X = np.vstack((X,d))\n",
    "    return X"
   ]
  },
  {
   "cell_type": "code",
   "execution_count": 8,
   "metadata": {},
   "outputs": [],
   "source": [
    "trafic_signals = crearDiccionarioDatos() #creacion del diccionario de datos\n",
    "signals_types = devolverDiccionarioEtiquetas() #creacion de diccionario que contiene nombre de carpetas y tipos de signals\n",
    "carac_type = 'hog' #el tipo elegido para los descriptores va a ser Hog"
   ]
  },
  {
   "cell_type": "code",
   "execution_count": 9,
   "metadata": {},
   "outputs": [],
   "source": [
    "imagenesTrain,imagenesTest,Ytrain,Ytest = separaTrainTest(trafic_signals,signals_types)\n",
    "Xtrain = creaMatrizCaracteristicas(imagenesTrain,carac_type)\n",
    "Xtest = creaMatrizCaracteristicas(imagenesTest,carac_type)"
   ]
  },
  {
   "cell_type": "code",
   "execution_count": 11,
   "metadata": {},
   "outputs": [
    {
     "data": {
      "text/plain": [
       "((739, 100, 100), (525, 100, 100), (739, 1), (525, 1))"
      ]
     },
     "execution_count": 11,
     "metadata": {},
     "output_type": "execute_result"
    }
   ],
   "source": [
    "imagenesTrain.shape,imagenesTest.shape,Ytrain.shape,Ytest.shape"
   ]
  },
  {
   "cell_type": "code",
   "execution_count": 12,
   "metadata": {},
   "outputs": [
    {
     "data": {
      "text/plain": [
       "((739, 288), (739, 1), (525, 288), (525, 1))"
      ]
     },
     "execution_count": 12,
     "metadata": {},
     "output_type": "execute_result"
    }
   ],
   "source": [
    "Xtrain.shape, Ytrain.shape,Xtest.shape, Ytest.shape"
   ]
  },
  {
   "cell_type": "markdown",
   "metadata": {},
   "source": [
    "# 3.Creación de Modelo de Predicción"
   ]
  },
  {
   "cell_type": "markdown",
   "metadata": {},
   "source": [
    "A continuación se implementarán dos modelos de ML como son regresión logísitica y SVM para dar solución al problema."
   ]
  },
  {
   "cell_type": "markdown",
   "metadata": {},
   "source": [
    "# 4.Regresión logística"
   ]
  },
  {
   "cell_type": "markdown",
   "metadata": {},
   "source": [
    "Si 𝑛 es grande (relativo a m), siendo n el número de características y m el número de ejemplos se recomienda usar regresión logística. Como este no es el caso, el resultado que se obtendrá no será el óptimo. Tal como se mostrará a continuación..."
   ]
  },
  {
   "cell_type": "code",
   "execution_count": 14,
   "metadata": {},
   "outputs": [],
   "source": [
    "# esta funcion nos ayudará a cambiar los valores de Y para la regresion logistica\n",
    "def transformarY(y, signal):\n",
    "    aux = np.copy(y)\n",
    "    Y = np.zeros(y.shape[0]).reshape(-1,1)\n",
    "    \n",
    "    Y[aux != np.array([signal])] = 0\n",
    "    Y[aux == np.array([signal])] = 1\n",
    "    \n",
    "    return Y.reshape(-1)"
   ]
  },
  {
   "cell_type": "markdown",
   "metadata": {},
   "source": [
    "Sacamos para el ejemplo de descriptor los porcentajes de aciertos."
   ]
  },
  {
   "cell_type": "code",
   "execution_count": 15,
   "metadata": {},
   "outputs": [],
   "source": [
    "predicctionsTest = []\n",
    "final_signals = []\n",
    "\n",
    "for k,s in signals_types.items():\n",
    "    Ytrain_T = transformarY(Ytrain,s)\n",
    "    Ytest_T = transformarY(Ytest,s)\n",
    "    clf = LogisticRegression(random_state=0,solver='lbfgs',max_iter=10000).fit(Xtrain, Ytrain_T)\n",
    "    #prediccionTrain = clf.predict(Xtrain)\n",
    "    prediccionTest = clf.predict(Xtest)\n",
    "    #scoreTrain = clf.score(Xtrain, Ytrain_T)\n",
    "    scoreTest = clf.score(Xtest, Ytest_T)\n",
    "    \n",
    "#   print(f\"La precision del clasificador en TRAIN: {np.round(scoreTrain,2)} en TEST: {scoreTest} para {s}\")\n",
    "    \n",
    "#    predicctionsTrain.append(np.round(scoreTrain,2))\n",
    "    predicctionsTest.append(np.round(scoreTest,2))\n",
    "    final_signals.append(s)"
   ]
  },
  {
   "cell_type": "code",
   "execution_count": 16,
   "metadata": {},
   "outputs": [
    {
     "data": {
      "image/png": "[encoded data removed]",
      "text/plain": [
       "<Figure size 1440x720 with 1 Axes>"
      ]
     },
     "metadata": {
      "needs_background": "light"
     },
     "output_type": "display_data"
    }
   ],
   "source": [
    "sig = np.arange(len(final_signals))\n",
    "plt.figure(figsize=(20,10))\n",
    "#plt.plot(sig,predicctionsTrain,label='Resultados para Train')\n",
    "plt.plot(sig,predicctionsTest,label='Resultados para Test')\n",
    "plt.xlabel('numero signal')\n",
    "plt.ylabel('precision')\n",
    "plt.grid()\n",
    "plt.legend(loc=4)\n",
    "plt.show()"
   ]
  },
  {
   "cell_type": "code",
   "execution_count": 17,
   "metadata": {},
   "outputs": [],
   "source": [
    "# funcion que no ayudará a cambiar de un numero a el string correspondiente relacionado a la señal\n",
    "def deNumeroASignal(num):\n",
    "    if num<10:\n",
    "        tipo = '0000'+str(num)\n",
    "    else:\n",
    "        tipo = '000'+str(num)\n",
    "    return tipo"
   ]
  },
  {
   "cell_type": "markdown",
   "metadata": {},
   "source": [
    "Probado el ejemplo. Entrenamos para los diferentes tipos de descripciones y escogemos el mejor"
   ]
  },
  {
   "cell_type": "code",
   "execution_count": 18,
   "metadata": {},
   "outputs": [],
   "source": [
    "def getSignalsLogPredicction(Xtrain,Ytrain,signals_types,carac_type):\n",
    "        \n",
    "    predicctionsTrain = []\n",
    "    final_signals = []\n",
    "    modelos = []\n",
    "\n",
    "    for k,s in signals_types.items():\n",
    "        Ytrain_T = transformarY(Ytrain,s)\n",
    "        if not(np.any(Ytrain_T==1)):\n",
    "            predicctionsTrain.append(0)\n",
    "            final_signals.append(s)\n",
    "            modelos.append(None)\n",
    "        else:\n",
    "            clf = LogisticRegression(random_state=0,solver='lbfgs',max_iter=10000).fit(Xtrain, Ytrain_T)\n",
    "            prediccionTrain = clf.predict(Xtrain)\n",
    "            scoreTrain = clf.score(Xtrain, Ytrain_T)\n",
    "            predicctionsTrain.append((scoreTrain))\n",
    "            final_signals.append(s)\n",
    "            modelos.append(clf)\n",
    "    \n",
    "    predMediaTrain = sum(predicctionsTrain)/len(predicctionsTrain)\n",
    "    \n",
    "    print(f'Prediccion media TRAIN: {predMediaTrain} para {carac_type}')\n",
    "    \n",
    "    return modelos,predMediaTrain,np.array(predicctionsTrain)"
   ]
  },
  {
   "cell_type": "code",
   "execution_count": 19,
   "metadata": {},
   "outputs": [
    {
     "name": "stdout",
     "output_type": "stream",
     "text": [
      "Prediccion media TRAIN: 0.9928249992132681 para hog\n"
     ]
    }
   ],
   "source": [
    "typeDescriptors = ['hog']# Se le podria pasar todo esto: ['sift','surf','fast_brief','orb','hog']\n",
    "trafic_signals = crearDiccionarioDatos()\n",
    "signals_types = devolverDiccionarioEtiquetas()\n",
    "bestypeDes = None\n",
    "Modelos = None\n",
    "bestXtest = None\n",
    "bestYtrain = None\n",
    "bestPrediccionTrain = 0\n",
    "prediccionesPorSignal = None\n",
    "\n",
    "for carac_type in typeDescriptors:\n",
    "    \n",
    "    Xtrain,Ytrain = creaMatrizCaracteristicas(imagenesTrain,carac_type,ytrain)\n",
    "    \n",
    "    modelos, prediccionTrain, predicctionsTrain = getSignalsLogPredicction(Xtrain,Ytrain,signals_types,carac_type)\n",
    "    \n",
    "    if bestPrediccionTrain < prediccionTrain:\n",
    "        Modelos = modelos\n",
    "        bestypeDes = carac_type\n",
    "        prediccionesPorSignal = predicctionsTrain"
   ]
  },
  {
   "cell_type": "markdown",
   "metadata": {},
   "source": [
    "Ahora probamos el modelo con las imagenes separadas para el test."
   ]
  },
  {
   "cell_type": "markdown",
   "metadata": {},
   "source": [
    "Probamos primero con una imagen."
   ]
  },
  {
   "cell_type": "code",
   "execution_count": 20,
   "metadata": {},
   "outputs": [],
   "source": [
    "def probarClasificador(n,Modelos, imagenesTrain,bestypeDes,signals_types):\n",
    "    plt.figure()\n",
    "    plt.imshow(imagenesTrain[n])\n",
    "    plt.show()\n",
    "\n",
    "    y_imagen = np.zeros(len(Modelos))\n",
    "\n",
    "    #transformar imagen en des\n",
    "    d = creaMatrizCaracteristicas(np.array([imagenesTrain[n]]), bestypeDes)\n",
    "    d = np.array(d).reshape(1,-1)\n",
    "\n",
    "    # predecir des\n",
    "    ii = 0\n",
    "    for m in Modelos:\n",
    "        if m is not None:\n",
    "            y_imagen[ii] = m.predict(d)\n",
    "            ii+=1\n",
    "\n",
    "    #sacar resultado\n",
    "    pred = np.argwhere(y_imagen==1)\n",
    "    if pred.size>1:\n",
    "        a = deNumeroASignal(pred[np.argmax(prediccionesPorSignal[pred])])\n",
    "        print(signals_types[a])\n",
    "    elif pred.size == 1:\n",
    "        a = deNumeroASignal(pred[0][0])\n",
    "        print(signals_types[a])"
   ]
  },
  {
   "cell_type": "code",
   "execution_count": 21,
   "metadata": {},
   "outputs": [
    {
     "name": "stdout",
     "output_type": "stream",
     "text": [
      "--------------------------------------------------------------------------\n",
      "Introduce el numero de imagen que quieras clasificar: 61\n",
      "Tu imagen a clasificar es la numero 61\n",
      "--------------------------------------------------------------------------\n"
     ]
    },
    {
     "data": {
      "image/png": "[encoded data removed]",
      "text/plain": [
       "<Figure size 432x288 with 1 Axes>"
      ]
     },
     "metadata": {
      "needs_background": "light"
     },
     "output_type": "display_data"
    },
    {
     "name": "stdout",
     "output_type": "stream",
     "text": [
      "VelocidadMaxima50\n"
     ]
    }
   ],
   "source": [
    "print(\"--------------------------------------------------------------------------\")\n",
    "n  = (int)(input(\"Introduce el numero de imagen que quieras clasificar: \"))\n",
    "print(f\"Tu imagen a clasificar es la numero {n}\")\n",
    "print(\"--------------------------------------------------------------------------\")\n",
    "\n",
    "probarClasificador(n,Modelos, imagenesTrain,bestypeDes,signals_types)"
   ]
  },
  {
   "cell_type": "markdown",
   "metadata": {},
   "source": [
    "Veamos pues,  la tasa de acierto de predicciones con las imagenes separadas para TEST con el mejor tipo de descriptor (todo el conjunto)"
   ]
  },
  {
   "cell_type": "code",
   "execution_count": 22,
   "metadata": {},
   "outputs": [
    {
     "name": "stdout",
     "output_type": "stream",
     "text": [
      "La prediccion media de test tiene un acierto del 0.9860465116279066\n"
     ]
    }
   ],
   "source": [
    "\n",
    "prediccionTestmatriz =  np.zeros((Xtest.shape[0], len(modelos)))\n",
    "\n",
    "contador = 0\n",
    "for modelo in Modelos:\n",
    "    prediccionTest = modelo.predict(Xtest)\n",
    "#     print(prediccionTest.shape)\n",
    "    prediccionTestmatriz[:,contador] = prediccionTest\n",
    "    contador += 1\n",
    "    \n",
    "print(f\"La prediccion media de test tiene un acierto del {sum(predicctionsTest)/(len(predicctionsTest))}\")"
   ]
  },
  {
   "cell_type": "code",
   "execution_count": 23,
   "metadata": {},
   "outputs": [
    {
     "data": {
      "text/plain": [
       "(525, 43)"
      ]
     },
     "execution_count": 23,
     "metadata": {},
     "output_type": "execute_result"
    }
   ],
   "source": [
    "prediccionTestmatriz.shape"
   ]
  },
  {
   "cell_type": "code",
   "execution_count": 24,
   "metadata": {},
   "outputs": [
    {
     "data": {
      "text/plain": [
       "array([False,  True,  True,  True,  True,  True, False,  True,  True,\n",
       "        True,  True,  True,  True,  True,  True, False,  True,  True,\n",
       "        True, False, False, False, False, False, False,  True,  True,\n",
       "       False, False, False, False,  True, False, False, False,  True,\n",
       "        True, False,  True,  True, False, False, False])"
      ]
     },
     "execution_count": 24,
     "metadata": {},
     "output_type": "execute_result"
    }
   ],
   "source": [
    "np.any(prediccionTestmatriz==1,axis=0) "
   ]
  },
  {
   "cell_type": "code",
   "execution_count": 25,
   "metadata": {},
   "outputs": [
    {
     "data": {
      "text/plain": [
       "array([0.99594046, 0.98511502, 0.97834912, 0.98105548, 0.9932341 ,\n",
       "       0.96887686, 0.9932341 , 0.9932341 , 0.98511502, 0.99052774,\n",
       "       0.9932341 , 0.9932341 , 1.        , 1.        , 0.99594046,\n",
       "       0.99052774, 0.99458728, 1.        , 0.99458728, 0.99594046,\n",
       "       0.99729364, 0.9932341 , 0.9932341 , 0.98782138, 0.99458728,\n",
       "       0.9864682 , 0.99052774, 0.99458728, 0.99052774, 0.99458728,\n",
       "       0.99052774, 0.99594046, 1.        , 0.99594046, 0.99458728,\n",
       "       0.99864682, 0.99594046, 0.99594046, 1.        , 0.99594046,\n",
       "       0.99188092, 0.99594046, 0.99458728])"
      ]
     },
     "execution_count": 25,
     "metadata": {},
     "output_type": "execute_result"
    }
   ],
   "source": [
    "prediccionesPorSignal"
   ]
  },
  {
   "cell_type": "markdown",
   "metadata": {},
   "source": [
    "Es un resultado bastante optimista, probamos a analizar la tasa de acierto de otra manera"
   ]
  },
  {
   "cell_type": "code",
   "execution_count": 26,
   "metadata": {},
   "outputs": [
    {
     "data": {
      "text/plain": [
       "array([[0., 0., 0., ..., 0., 0., 0.],\n",
       "       [0., 0., 0., ..., 0., 0., 0.],\n",
       "       [0., 0., 0., ..., 0., 0., 0.],\n",
       "       ...,\n",
       "       [0., 0., 0., ..., 0., 0., 0.],\n",
       "       [0., 0., 0., ..., 0., 0., 0.],\n",
       "       [0., 0., 0., ..., 0., 0., 0.]])"
      ]
     },
     "execution_count": 26,
     "metadata": {},
     "output_type": "execute_result"
    }
   ],
   "source": [
    "prediccionTestmatriz"
   ]
  },
  {
   "cell_type": "markdown",
   "metadata": {},
   "source": [
    "$Debido$ $a$ $problemas$ $técnicos$ que desconocemos, nos hemos visto forzados a poner una imagen con el resultado obtenido de la versión anterior, para demostrar que el porcentaje de aciertos en test es realmente bajo"
   ]
  },
  {
   "cell_type": "code",
   "execution_count": 27,
   "metadata": {},
   "outputs": [
    {
     "ename": "error",
     "evalue": "OpenCV(3.4.2) C:\\Miniconda3\\conda-bld\\opencv-suite_1534379934306\\work\\modules\\highgui\\src\\window.cpp:356: error: (-215:Assertion failed) size.width>0 && size.height>0 in function 'cv::imshow'\n",
     "output_type": "error",
     "traceback": [
      "\u001b[1;31m---------------------------------------------------------------------------\u001b[0m",
      "\u001b[1;31merror\u001b[0m                                     Traceback (most recent call last)",
      "\u001b[1;32m<ipython-input-27-4cb92a5dc8bc>\u001b[0m in \u001b[0;36m<module>\u001b[1;34m\u001b[0m\n\u001b[0;32m      1\u001b[0m \u001b[0mproblematecnico\u001b[0m \u001b[1;33m=\u001b[0m \u001b[0mcv2\u001b[0m\u001b[1;33m.\u001b[0m\u001b[0mimread\u001b[0m\u001b[1;33m(\u001b[0m\u001b[1;34m'ResultadoRegresionLogistica.png'\u001b[0m\u001b[1;33m)\u001b[0m\u001b[1;33m\u001b[0m\u001b[1;33m\u001b[0m\u001b[0m\n\u001b[1;32m----> 2\u001b[1;33m \u001b[0mcv2\u001b[0m\u001b[1;33m.\u001b[0m\u001b[0mimshow\u001b[0m\u001b[1;33m(\u001b[0m\u001b[1;34m'resultadoRegLogistica'\u001b[0m\u001b[1;33m,\u001b[0m\u001b[0mproblematecnico\u001b[0m\u001b[1;33m)\u001b[0m\u001b[1;33m\u001b[0m\u001b[1;33m\u001b[0m\u001b[0m\n\u001b[0m\u001b[0;32m      3\u001b[0m \u001b[0mcv2\u001b[0m\u001b[1;33m.\u001b[0m\u001b[0mwaitKey\u001b[0m\u001b[1;33m(\u001b[0m\u001b[1;36m0\u001b[0m\u001b[1;33m)\u001b[0m\u001b[1;33m\u001b[0m\u001b[1;33m\u001b[0m\u001b[0m\n\u001b[0;32m      4\u001b[0m \u001b[0mcv2\u001b[0m\u001b[1;33m.\u001b[0m\u001b[0mdestroyAllWindows\u001b[0m\u001b[1;33m(\u001b[0m\u001b[1;33m)\u001b[0m\u001b[1;33m\u001b[0m\u001b[1;33m\u001b[0m\u001b[0m\n",
      "\u001b[1;31merror\u001b[0m: OpenCV(3.4.2) C:\\Miniconda3\\conda-bld\\opencv-suite_1534379934306\\work\\modules\\highgui\\src\\window.cpp:356: error: (-215:Assertion failed) size.width>0 && size.height>0 in function 'cv::imshow'\n"
     ]
    }
   ],
   "source": [
    "problematecnico = cv2.imread('ResultadoRegresionLogistica.png')\n",
    "cv2.imshow('resultadoRegLogistica',problematecnico)\n",
    "cv2.waitKey(0)\n",
    "cv2.destroyAllWindows()"
   ]
  },
  {
   "cell_type": "code",
   "execution_count": 28,
   "metadata": {},
   "outputs": [
    {
     "data": {
      "text/plain": [
       "'\\nfilas = prediccionTestmatriz.shape[0]\\nsoluciones = [] #lista de soluciones que se han predicho\\n\\nfor i in range(filas):\\n    aux = prediccionTestmatriz[i,:] #se obtiene la fila de la matriz\\n    #ERROR ESTA AQUI!!!\\n    posicionesUnos = (np.where(aux==1)[0]) #se obtienen las posiciones unos\\n    signalPredicha = (np.argmax(prediccionesPorSignal[posicionesUnos]))\\n    nombreSignals= deNumeroASignal(posicionesUnos[signalPredicha])\\n    soluciones.append(signals_types[nombreSignals])\\n    \\n    \\nytestComparar = list(ytest)\\n\\n\\naciertos =  0\\nfor i in range(len(ytestComparar)):\\n    if ytestComparar[i] == soluciones[i]:\\n        aciertos+=1\\n        \\nporcentajeAciertos = ( aciertos/(len(soluciones)) )*100\\nprint(f\"El porcentaje de aciertos es {porcentajeAciertos}\")\\n\\n\\n'"
      ]
     },
     "execution_count": 28,
     "metadata": {},
     "output_type": "execute_result"
    }
   ],
   "source": [
    "'''\n",
    "filas = prediccionTestmatriz.shape[0]\n",
    "soluciones = [] #lista de soluciones que se han predicho\n",
    "\n",
    "for i in range(filas):\n",
    "    aux = prediccionTestmatriz[i,:] #se obtiene la fila de la matriz\n",
    "    #ERROR ESTA AQUI!!!\n",
    "    posicionesUnos = (np.where(aux==1)[0]) #se obtienen las posiciones unos\n",
    "    signalPredicha = (np.argmax(prediccionesPorSignal[posicionesUnos]))\n",
    "    nombreSignals= deNumeroASignal(posicionesUnos[signalPredicha])\n",
    "    soluciones.append(signals_types[nombreSignals])\n",
    "    \n",
    "    \n",
    "ytestComparar = list(ytest)\n",
    "\n",
    "\n",
    "aciertos =  0\n",
    "for i in range(len(ytestComparar)):\n",
    "    if ytestComparar[i] == soluciones[i]:\n",
    "        aciertos+=1\n",
    "        \n",
    "porcentajeAciertos = ( aciertos/(len(soluciones)) )*100\n",
    "print(f\"El porcentaje de aciertos es {porcentajeAciertos}\")\n",
    "\n",
    "\n",
    "'''"
   ]
  },
  {
   "cell_type": "markdown",
   "metadata": {},
   "source": [
    "Vemos que el resultado no es tan bueno como imaginabamos. "
   ]
  },
  {
   "cell_type": "markdown",
   "metadata": {},
   "source": [
    "# 5.SVM"
   ]
  },
  {
   "cell_type": "markdown",
   "metadata": {},
   "source": [
    "Las máquinas de vectores de soporte o máquinas de vector soporte (del inglés Support Vector Machines, SVM) son un conjunto de algoritmos de aprendizaje supervisado desarrollados por Vladimir Vapnik y su equipo en los laboratorios AT&T."
   ]
  },
  {
   "cell_type": "markdown",
   "metadata": {},
   "source": [
    "Estos métodos están propiamente relacionados con problemas de clasificación y regresión. Dado un conjunto de ejemplos de entrenamiento (de muestras) podemos etiquetar las clases y entrenar una SVM para construir un modelo que prediga la clase de una nueva muestra."
   ]
  },
  {
   "cell_type": "markdown",
   "metadata": {},
   "source": [
    "$Idea$:\n",
    "\n",
    "Dado un conjunto de puntos, subconjunto de un conjunto mayor (espacio), en el que cada uno de ellos pertenece a una de dos posibles categorías, un algoritmo basado en SVM construye un modelo capaz de predecir si un punto nuevo (cuya categoría desconocemos) pertenece a una categoría o a la otra.\n",
    "\n",
    "Como en la mayoría de los métodos de clasificación supervisada, los datos de entrada (los puntos) son vistos como un vector p-dimensional (una lista ordenada de p números).\n",
    "\n",
    "La SVM busca un hiperplano que separe de forma óptima a los puntos de una clase de la de otra, que eventualmente han podido ser previamente proyectados a un espacio de dimensionalidad superior."
   ]
  },
  {
   "cell_type": "code",
   "execution_count": 14,
   "metadata": {},
   "outputs": [
    {
     "name": "stderr",
     "output_type": "stream",
     "text": [
      "C:\\Users\\daviz\\anaconda3\\envs\\py37vision\\lib\\site-packages\\sklearn\\model_selection\\_split.py:672: UserWarning: The least populated class in y has only 3 members, which is less than n_splits=5.\n",
      "  % (min_groups, self.n_splits)), UserWarning)\n"
     ]
    },
    {
     "name": "stdout",
     "output_type": "stream",
     "text": [
      "Classification report for - \n",
      "GridSearchCV(estimator=SVC(),\n",
      "             param_grid=[{'C': [1, 10, 100, 1000], 'kernel': ['linear']},\n",
      "                         {'C': [1, 10, 100, 1000], 'gamma': [0.001, 0.0001],\n",
      "                          'kernel': ['rbf']}]):\n",
      "                                         precision    recall  f1-score   support\n",
      "\n",
      "                AdelantamientoProhibido       0.80      1.00      0.89        20\n",
      "    AdelantamientoProhibidoParaCamiones       0.96      0.96      0.96        27\n",
      "                    CalzadaConPrioridad       0.97      1.00      0.98        28\n",
      "                             CedaElPaso       1.00      0.97      0.98        29\n",
      "                   CirculacionProhibida       0.75      0.75      0.75         8\n",
      "           CurvaPeligrosaHaciaLaDerecha       0.40      0.40      0.40         5\n",
      "         CurvaPeligrosaHaciaLaIzquierda       0.00      0.00      0.00         3\n",
      "       CurvasPeligrosasHaciaLaIzquierda       0.67      0.50      0.57         4\n",
      "                   DetencionObligatoria       1.00      1.00      1.00        10\n",
      "           DirPermitidasRectoEIzquierda       1.00      1.00      1.00         3\n",
      "             DirPermitidasRectoYDerecha       1.00      0.80      0.89         5\n",
      "                       EntradaProhibida       1.00      0.93      0.97        15\n",
      "   EntradaProhibidaAVehiculosMercancias       1.00      1.00      1.00         6\n",
      "                EntradaProhibidasCiclos       0.00      0.00      0.00         4\n",
      "        EstrechamientoCalzadaPorDerecha       0.00      0.00      0.00         4\n",
      "                     FinDeProhibiciones       1.00      0.33      0.50         3\n",
      "           FinProhibicionAdelantamiento       0.00      0.00      0.00         3\n",
      "   FinProhibicionAdelantamientoCamiones       0.60      1.00      0.75         3\n",
      "                   FinVelocidadMaxima80       1.00      1.00      1.00         6\n",
      "               InterseccionConPrioridad       0.70      0.78      0.74        18\n",
      "InterseccionSentidoObligatorioGiratorio       0.60      0.60      0.60         5\n",
      "                                   Kids       0.33      0.57      0.42         7\n",
      "                                  Obras       0.64      0.90      0.75        20\n",
      "                          OtrosPeligros       0.75      0.94      0.83        16\n",
      "               PasoDeAnimalesEnLibertad       1.00      0.90      0.95        10\n",
      "                         PasoDePeatones       0.00      0.00      0.00         3\n",
      "                 PasoObligatorioDerecha       1.00      0.96      0.98        28\n",
      "               PasoObligatorioizquierda       1.00      1.00      1.00         4\n",
      "                    PavimentoDeslizante       0.33      0.14      0.20         7\n",
      "          PavimentoDeslizanteNieveHielo       0.75      0.50      0.60         6\n",
      "                        PerfilIrregular       0.83      1.00      0.91         5\n",
      "                              Semaforos       0.71      0.62      0.67         8\n",
      "                     SentidoObligatorio       0.94      0.94      0.94        16\n",
      "              SentidoObligatorioDerecha       1.00      0.78      0.88         9\n",
      "            SentidoObligatorioIzquierda       0.80      0.67      0.73         6\n",
      "                     VelocidadMaxima100       0.69      0.95      0.80        19\n",
      "                     VelocidadMaxima120       0.83      0.79      0.81        19\n",
      "                      VelocidadMaxima20       1.00      0.33      0.50         3\n",
      "                      VelocidadMaxima30       0.79      0.77      0.78        30\n",
      "                      VelocidadMaxima50       0.92      0.73      0.81        30\n",
      "                      VelocidadMaxima60       0.78      0.95      0.86        19\n",
      "                      VelocidadMaxima70       0.96      0.96      0.96        26\n",
      "                      VelocidadMaxima80       0.78      0.84      0.81        25\n",
      "\n",
      "                               accuracy                           0.83       525\n",
      "                              macro avg       0.73      0.70      0.70       525\n",
      "                           weighted avg       0.82      0.83      0.82       525\n",
      "\n",
      "\n"
     ]
    },
    {
     "name": "stderr",
     "output_type": "stream",
     "text": [
      "C:\\Users\\daviz\\anaconda3\\envs\\py37vision\\lib\\site-packages\\sklearn\\metrics\\_classification.py:1221: UndefinedMetricWarning: Precision and F-score are ill-defined and being set to 0.0 in labels with no predicted samples. Use `zero_division` parameter to control this behavior.\n",
      "  _warn_prf(average, modifier, msg_start, len(result))\n"
     ]
    }
   ],
   "source": [
    "param_grid = [\n",
    "  {'C': [1, 10, 100, 1000], 'kernel': ['linear']},\n",
    "  {'C': [1, 10, 100, 1000], 'gamma': [0.001, 0.0001], 'kernel': ['rbf']},]\n",
    "svc = svm.SVC()\n",
    "clf = GridSearchCV(svc, param_grid)\n",
    "clf.fit(Xtrain, Ytrain.ravel())\n",
    "y_pred = clf.predict(Xtest)\n",
    "print(\"Classification report for - \\n{}:\\n{}\\n\".format(clf, metrics.classification_report(Ytest.ravel(), y_pred)))"
   ]
  },
  {
   "cell_type": "markdown",
   "metadata": {},
   "source": [
    "De manera manual vemos la tasa de acierto y comparamos."
   ]
  },
  {
   "cell_type": "code",
   "execution_count": 16,
   "metadata": {},
   "outputs": [
    {
     "name": "stdout",
     "output_type": "stream",
     "text": [
      "El porcentaje de aciertos es 83.04761904761905%\n"
     ]
    }
   ],
   "source": [
    "ytestCompararSVM = (y_pred)\n",
    "\n",
    "aciertosSVM =  0\n",
    "for i in range(len(ytestCompararSVM)):\n",
    "    if ytestCompararSVM[i] == Ytest[i]:\n",
    "        aciertosSVM+=1\n",
    "        \n",
    "porcentajeAciertosSVM = ( aciertosSVM/(len(ytestCompararSVM)) )*100\n",
    "print(f\"El porcentaje de aciertos es {porcentajeAciertosSVM}%\")"
   ]
  },
  {
   "cell_type": "markdown",
   "metadata": {},
   "source": [
    "Vemos que es lo que decia en los datos como \"accuracy\""
   ]
  },
  {
   "cell_type": "code",
   "execution_count": 17,
   "metadata": {},
   "outputs": [],
   "source": [
    "def predecirImagenSVM(imagen,carac_type,clf):\n",
    "    \n",
    "#     transformar imagen en des\n",
    "    d = creaMatrizCaracteristicas(np.array([imagen]), carac_type)\n",
    "    d = np.array(d).reshape(1,-1)\n",
    "    return clf.predict(d)"
   ]
  },
  {
   "cell_type": "markdown",
   "metadata": {},
   "source": [
    "Probamos con un ejemplo"
   ]
  },
  {
   "cell_type": "code",
   "execution_count": 18,
   "metadata": {},
   "outputs": [
    {
     "name": "stdout",
     "output_type": "stream",
     "text": [
      "¿Desea probar el clasificador? (si/no)si\n",
      "Introduce un numero de imagen para probar: 344\n",
      "Tu numero de imagen para probar es la numero 344\n"
     ]
    },
    {
     "data": {
      "image/png": "[encoded data removed]",
      "text/plain": [
       "<Figure size 432x288 with 1 Axes>"
      ]
     },
     "metadata": {
      "needs_background": "light"
     },
     "output_type": "display_data"
    },
    {
     "name": "stdout",
     "output_type": "stream",
     "text": [
      "¿Desea seguir probando el clasificador? (si/no)si\n",
      "Introduce un numero de imagen para probar: 55\n",
      "Tu numero de imagen para probar es la numero 55\n"
     ]
    },
    {
     "data": {
      "image/png": "[encoded data removed]",
      "text/plain": [
       "<Figure size 432x288 with 1 Axes>"
      ]
     },
     "metadata": {
      "needs_background": "light"
     },
     "output_type": "display_data"
    },
    {
     "name": "stdout",
     "output_type": "stream",
     "text": [
      "¿Desea seguir probando el clasificador? (si/no)no\n",
      "Hasta la proxima!!\n"
     ]
    }
   ],
   "source": [
    "#pequeña celda para interactuar con el clasificador\n",
    "\n",
    "caracter = input(\"¿Desea probar el clasificador? (si/no)\")\n",
    "\n",
    "if caracter == \"no\":\n",
    "    print(\"Hasta la proxima!!\")\n",
    "elif caracter == \"si\":\n",
    "    while(caracter == \"si\"):\n",
    "        numeroImagen = (int)(input(\"Introduce un numero de imagen para probar: \"))\n",
    "        print(f\"Tu numero de imagen para probar es la numero {numeroImagen}\")\n",
    "        res = predecirImagenSVM(imagenesTest[numeroImagen],carac_type,clf)\n",
    "        plt.figure()\n",
    "        plt.imshow(imagenesTest[numeroImagen])\n",
    "        lab = 'Precision' + str(np.round(porcentajeAciertosSVM,2))+'%\\n'+ res[0]\n",
    "        plt.xlabel(lab)\n",
    "        plt.show()\n",
    "        caracter = input(\"¿Desea seguir probando el clasificador? (si/no)\")\n",
    "        if caracter == \"no\":\n",
    "            print(\"Hasta la proxima!!\")\n",
    "            break"
   ]
  },
  {
   "cell_type": "markdown",
   "metadata": {},
   "source": [
    "Para finalizar, guiados por la tasa superior de aciertos, escogemos las SVMs como modelo de predicción para este proyecto."
   ]
  },
  {
   "cell_type": "markdown",
   "metadata": {},
   "source": [
    "# Preprocesamiento de imagen"
   ]
  },
  {
   "cell_type": "code",
   "execution_count": 34,
   "metadata": {},
   "outputs": [],
   "source": [
    "\n",
    "# -------------------------------------\n",
    "def filtro_suavizado(imagen, mascara):\n",
    "    a,b = mascara.shape\n",
    "    a = (a//2)\n",
    "    b = (b//2)\n",
    "    aux = np.zeros_like(imagen)\n",
    "\n",
    "    #Se crea la imagen ampliada \n",
    "    imagen_ampliada = cv2.copyMakeBorder(imagen,a,a,b,b,cv2.BORDER_REPLICATE)\n",
    "\n",
    "    #Dimensiones de la imagen ampliada\n",
    "    r,c = imagen_ampliada.shape\n",
    "\n",
    "    for i in range(a,r-a): #en el bucle no iteras sobre las filas que has ampliado\n",
    "        for j in range(b,c-b): #en el bucle no iteras sobre las columnas que has ampliado\n",
    "            vecindad= imagen_ampliada[i-a:i+a+1, j-b: j+b+1]\n",
    "            aux[i-a,j-b] = np.sum(vecindad * mascara)\n",
    "\n",
    "    return np.uint8(aux)\n",
    "# ---------------------------------\n"
   ]
  },
  {
   "cell_type": "code",
   "execution_count": 46,
   "metadata": {},
   "outputs": [],
   "source": [
    "# -------------------------\n",
    "n = 9 #tamaño del filtro\n",
    "sigma = 3 #desviación de la gaussiana\n",
    "mask = cv2.getGaussianKernel(n, sigma)*cv2.getGaussianKernel(n, sigma).T"
   ]
  },
  {
   "cell_type": "code",
   "execution_count": 47,
   "metadata": {},
   "outputs": [],
   "source": [
    "imagenesTrain_GK = np.zeros(imagenesTrain.shape)\n",
    "for i in range(imagenesTrain.shape[0]):\n",
    "    imagenesTrain_GK[i] = filtro_suavizado(imagenesTrain[i], mask)\n",
    "\n",
    "imagenesTest_GK = np.zeros(imagenesTest.shape)\n",
    "for i in range(imagenesTest.shape[0]):\n",
    "    imagenesTest_GK[i] = filtro_suavizado(imagenesTest[i], mask)\n",
    "    \n",
    "Xtrain_GK, Ytrain = creaMatrizCaracteristicas(imagenesTrain_GK,carac_type,ytrain)\n",
    "Xtest_GK, Ytest = creaMatrizCaracteristicas(imagenesTest_GK,carac_type,ytest)"
   ]
  },
  {
   "cell_type": "code",
   "execution_count": 51,
   "metadata": {},
   "outputs": [
    {
     "name": "stderr",
     "output_type": "stream",
     "text": [
      "C:\\Users\\daviz\\anaconda3\\envs\\py37vision\\lib\\site-packages\\sklearn\\model_selection\\_split.py:672: UserWarning: The least populated class in y has only 3 members, which is less than n_splits=5.\n",
      "  % (min_groups, self.n_splits)), UserWarning)\n"
     ]
    },
    {
     "name": "stdout",
     "output_type": "stream",
     "text": [
      "Classification report for - \n",
      "GridSearchCV(estimator=SVC(),\n",
      "             param_grid=[{'C': [1, 10, 100, 1000], 'kernel': ['linear']},\n",
      "                         {'C': [1, 10, 100, 1000], 'gamma': [0.001, 0.0001],\n",
      "                          'kernel': ['rbf']}]):\n",
      "                                         precision    recall  f1-score   support\n",
      "\n",
      "                AdelantamientoProhibido       0.95      0.90      0.92        20\n",
      "    AdelantamientoProhibidoParaCamiones       1.00      1.00      1.00        27\n",
      "                    CalzadaConPrioridad       0.93      1.00      0.97        28\n",
      "                             CedaElPaso       1.00      0.97      0.98        29\n",
      "                   CirculacionProhibida       1.00      1.00      1.00         8\n",
      "           CurvaPeligrosaHaciaLaDerecha       0.60      0.60      0.60         5\n",
      "         CurvaPeligrosaHaciaLaIzquierda       0.00      0.00      0.00         3\n",
      "       CurvasPeligrosasHaciaLaIzquierda       0.80      1.00      0.89         4\n",
      "                   DetencionObligatoria       0.91      1.00      0.95        10\n",
      "           DirPermitidasRectoEIzquierda       1.00      1.00      1.00         3\n",
      "             DirPermitidasRectoYDerecha       1.00      0.80      0.89         5\n",
      "                       EntradaProhibida       1.00      1.00      1.00        15\n",
      "   EntradaProhibidaAVehiculosMercancias       1.00      1.00      1.00         6\n",
      "                EntradaProhibidasCiclos       0.00      0.00      0.00         4\n",
      "        EstrechamientoCalzadaPorDerecha       0.00      0.00      0.00         4\n",
      "                     FinDeProhibiciones       1.00      0.33      0.50         3\n",
      "           FinProhibicionAdelantamiento       0.75      1.00      0.86         3\n",
      "   FinProhibicionAdelantamientoCamiones       1.00      1.00      1.00         3\n",
      "                   FinVelocidadMaxima80       1.00      0.83      0.91         6\n",
      "               InterseccionConPrioridad       0.88      0.83      0.86        18\n",
      "InterseccionSentidoObligatorioGiratorio       0.80      0.80      0.80         5\n",
      "                                   Kids       0.50      0.43      0.46         7\n",
      "                                  Obras       0.53      0.95      0.68        20\n",
      "                          OtrosPeligros       0.65      0.81      0.72        16\n",
      "               PasoDeAnimalesEnLibertad       0.88      0.70      0.78        10\n",
      "                         PasoDePeatones       0.00      0.00      0.00         3\n",
      "                 PasoObligatorioDerecha       0.93      0.93      0.93        28\n",
      "               PasoObligatorioizquierda       1.00      1.00      1.00         4\n",
      "                    PavimentoDeslizante       0.17      0.14      0.15         7\n",
      "          PavimentoDeslizanteNieveHielo       0.50      0.33      0.40         6\n",
      "                        PerfilIrregular       1.00      1.00      1.00         5\n",
      "                              Semaforos       0.44      0.50      0.47         8\n",
      "                     SentidoObligatorio       1.00      0.94      0.97        16\n",
      "              SentidoObligatorioDerecha       1.00      0.78      0.88         9\n",
      "            SentidoObligatorioIzquierda       0.80      0.67      0.73         6\n",
      "                     VelocidadMaxima100       0.90      1.00      0.95        19\n",
      "                     VelocidadMaxima120       0.80      0.63      0.71        19\n",
      "                      VelocidadMaxima20       1.00      0.33      0.50         3\n",
      "                      VelocidadMaxima30       0.67      0.80      0.73        30\n",
      "                      VelocidadMaxima50       0.69      0.73      0.71        30\n",
      "                      VelocidadMaxima60       0.80      0.63      0.71        19\n",
      "                      VelocidadMaxima70       0.89      0.96      0.93        26\n",
      "                      VelocidadMaxima80       0.56      0.60      0.58        25\n",
      "\n",
      "                               accuracy                           0.81       525\n",
      "                              macro avg       0.75      0.72      0.72       525\n",
      "                           weighted avg       0.80      0.81      0.80       525\n",
      "\n",
      "\n",
      "0.8095238095238095\n"
     ]
    },
    {
     "name": "stderr",
     "output_type": "stream",
     "text": [
      "C:\\Users\\daviz\\anaconda3\\envs\\py37vision\\lib\\site-packages\\sklearn\\metrics\\_classification.py:1221: UndefinedMetricWarning: Precision and F-score are ill-defined and being set to 0.0 in labels with no predicted samples. Use `zero_division` parameter to control this behavior.\n",
      "  _warn_prf(average, modifier, msg_start, len(result))\n"
     ]
    }
   ],
   "source": [
    "from sklearn.metrics import accuracy_score\n",
    "param_grid = [\n",
    "  {'C': [1, 10, 100, 1000], 'kernel': ['linear']},\n",
    "  {'C': [1, 10, 100, 1000], 'gamma': [0.001, 0.0001], 'kernel': ['rbf']},]\n",
    "svc = svm.SVC()\n",
    "clf_GK = GridSearchCV(svc, param_grid)\n",
    "clf_GK.fit(Xtrain_GK, Ytrain.ravel())\n",
    "y_pred = clf_GK.predict(Xtest_GK)\n",
    "print(\"Classification report for - \\n{}:\\n{}\\n\".format(clf_GK, metrics.classification_report(Ytest.ravel(), y_pred)))\n",
    "print(accuracy_score(Ytest, y_pred))"
   ]
  },
  {
   "cell_type": "code",
   "execution_count": 49,
   "metadata": {},
   "outputs": [
    {
     "name": "stdout",
     "output_type": "stream",
     "text": [
      "¿Desea probar el clasificador? (si/no)si\n",
      "Introduce un numero de imagen para probar: 78\n",
      "Tu numero de imagen para probar es la numero 78\n"
     ]
    },
    {
     "data": {
      "image/png": "[encoded data removed]",
      "text/plain": [
       "<Figure size 432x288 with 1 Axes>"
      ]
     },
     "metadata": {
      "needs_background": "light"
     },
     "output_type": "display_data"
    },
    {
     "name": "stdout",
     "output_type": "stream",
     "text": [
      "¿Desea seguir probando el clasificador? (si/no)no\n",
      "Hasta la proxima!!\n"
     ]
    }
   ],
   "source": [
    "#pequeña celda para interactuar con el clasificador\n",
    "\n",
    "caracter = input(\"¿Desea probar el clasificador? (si/no)\")\n",
    "\n",
    "if caracter == \"no\":\n",
    "    print(\"Hasta la proxima!!\")\n",
    "elif caracter == \"si\":\n",
    "    while(caracter == \"si\"):\n",
    "        numeroImagen = (int)(input(\"Introduce un numero de imagen para probar: \"))\n",
    "        print(f\"Tu numero de imagen para probar es la numero {numeroImagen}\")\n",
    "        res = predecirImagenSVM(imagenesTest_GK[numeroImagen],carac_type,clf_GK)\n",
    "        plt.figure()\n",
    "        plt.imshow(imagenesTest[numeroImagen])\n",
    "        lab = 'Precision 95%\\n'+ res[0]\n",
    "        plt.xlabel(lab)\n",
    "        plt.show()\n",
    "        caracter = input(\"¿Desea seguir probando el clasificador? (si/no)\")\n",
    "        if caracter == \"no\":\n",
    "            print(\"Hasta la proxima!!\")\n",
    "            break"
   ]
  },
  {
   "cell_type": "markdown",
   "metadata": {},
   "source": [
    "Con una ventana 11x11 nos sale una precision del 0.78.\n"
   ]
  },
  {
   "cell_type": "code",
   "execution_count": 57,
   "metadata": {},
   "outputs": [
    {
     "name": "stderr",
     "output_type": "stream",
     "text": [
      "C:\\Users\\daviz\\anaconda3\\envs\\py37vision\\lib\\site-packages\\sklearn\\model_selection\\_split.py:672: UserWarning: The least populated class in y has only 3 members, which is less than n_splits=5.\n",
      "  % (min_groups, self.n_splits)), UserWarning)\n"
     ]
    },
    {
     "name": "stdout",
     "output_type": "stream",
     "text": [
      "Classification report for - \n",
      "GridSearchCV(estimator=SVC(),\n",
      "             param_grid=[{'C': [1, 10, 100, 1000], 'kernel': ['linear']},\n",
      "                         {'C': [1, 10, 100, 1000], 'gamma': [0.001, 0.0001],\n",
      "                          'kernel': ['rbf']}]):\n",
      "                                         precision    recall  f1-score   support\n",
      "\n",
      "                AdelantamientoProhibido       1.00      1.00      1.00        20\n",
      "    AdelantamientoProhibidoParaCamiones       1.00      1.00      1.00        27\n",
      "                    CalzadaConPrioridad       0.97      1.00      0.98        28\n",
      "                             CedaElPaso       1.00      1.00      1.00        29\n",
      "                   CirculacionProhibida       1.00      0.88      0.93         8\n",
      "           CurvaPeligrosaHaciaLaDerecha       0.50      0.60      0.55         5\n",
      "         CurvaPeligrosaHaciaLaIzquierda       0.00      0.00      0.00         3\n",
      "       CurvasPeligrosasHaciaLaIzquierda       0.80      1.00      0.89         4\n",
      "                   DetencionObligatoria       1.00      1.00      1.00        10\n",
      "           DirPermitidasRectoEIzquierda       1.00      0.67      0.80         3\n",
      "             DirPermitidasRectoYDerecha       1.00      0.80      0.89         5\n",
      "                       EntradaProhibida       0.94      1.00      0.97        15\n",
      "   EntradaProhibidaAVehiculosMercancias       1.00      1.00      1.00         6\n",
      "                EntradaProhibidasCiclos       1.00      0.25      0.40         4\n",
      "        EstrechamientoCalzadaPorDerecha       1.00      0.25      0.40         4\n",
      "                     FinDeProhibiciones       1.00      0.67      0.80         3\n",
      "           FinProhibicionAdelantamiento       1.00      0.67      0.80         3\n",
      "   FinProhibicionAdelantamientoCamiones       0.75      1.00      0.86         3\n",
      "                   FinVelocidadMaxima80       1.00      0.83      0.91         6\n",
      "               InterseccionConPrioridad       0.87      0.72      0.79        18\n",
      "InterseccionSentidoObligatorioGiratorio       0.71      1.00      0.83         5\n",
      "                                   Kids       0.50      0.43      0.46         7\n",
      "                                  Obras       0.59      1.00      0.74        20\n",
      "                          OtrosPeligros       0.83      0.94      0.88        16\n",
      "               PasoDeAnimalesEnLibertad       0.91      1.00      0.95        10\n",
      "                         PasoDePeatones       0.50      0.33      0.40         3\n",
      "                 PasoObligatorioDerecha       1.00      1.00      1.00        28\n",
      "               PasoObligatorioizquierda       1.00      1.00      1.00         4\n",
      "                    PavimentoDeslizante       0.75      0.43      0.55         7\n",
      "          PavimentoDeslizanteNieveHielo       1.00      0.33      0.50         6\n",
      "                        PerfilIrregular       0.83      1.00      0.91         5\n",
      "                              Semaforos       0.75      0.75      0.75         8\n",
      "                     SentidoObligatorio       1.00      0.94      0.97        16\n",
      "              SentidoObligatorioDerecha       1.00      0.89      0.94         9\n",
      "            SentidoObligatorioIzquierda       0.86      1.00      0.92         6\n",
      "                     VelocidadMaxima100       0.86      1.00      0.93        19\n",
      "                     VelocidadMaxima120       0.94      0.79      0.86        19\n",
      "                      VelocidadMaxima20       1.00      0.33      0.50         3\n",
      "                      VelocidadMaxima30       0.79      0.73      0.76        30\n",
      "                      VelocidadMaxima50       0.83      0.83      0.83        30\n",
      "                      VelocidadMaxima60       0.94      0.84      0.89        19\n",
      "                      VelocidadMaxima70       0.87      1.00      0.93        26\n",
      "                      VelocidadMaxima80       0.72      0.84      0.78        25\n",
      "\n",
      "                               accuracy                           0.87       525\n",
      "                              macro avg       0.86      0.78      0.80       525\n",
      "                           weighted avg       0.88      0.87      0.87       525\n",
      "\n",
      "\n",
      "n = 3 accuracy = 0.8723809523809524\n"
     ]
    },
    {
     "name": "stderr",
     "output_type": "stream",
     "text": [
      "C:\\Users\\daviz\\anaconda3\\envs\\py37vision\\lib\\site-packages\\sklearn\\model_selection\\_split.py:672: UserWarning: The least populated class in y has only 3 members, which is less than n_splits=5.\n",
      "  % (min_groups, self.n_splits)), UserWarning)\n",
      "C:\\Users\\daviz\\anaconda3\\envs\\py37vision\\lib\\site-packages\\sklearn\\metrics\\_classification.py:1221: UndefinedMetricWarning: Precision and F-score are ill-defined and being set to 0.0 in labels with no predicted samples. Use `zero_division` parameter to control this behavior.\n",
      "  _warn_prf(average, modifier, msg_start, len(result))\n"
     ]
    },
    {
     "name": "stdout",
     "output_type": "stream",
     "text": [
      "Classification report for - \n",
      "GridSearchCV(estimator=SVC(),\n",
      "             param_grid=[{'C': [1, 10, 100, 1000], 'kernel': ['linear']},\n",
      "                         {'C': [1, 10, 100, 1000], 'gamma': [0.001, 0.0001],\n",
      "                          'kernel': ['rbf']}]):\n",
      "                                         precision    recall  f1-score   support\n",
      "\n",
      "                AdelantamientoProhibido       1.00      0.85      0.92        20\n",
      "    AdelantamientoProhibidoParaCamiones       0.96      1.00      0.98        27\n",
      "                    CalzadaConPrioridad       0.93      1.00      0.97        28\n",
      "                             CedaElPaso       1.00      0.97      0.98        29\n",
      "                   CirculacionProhibida       1.00      0.75      0.86         8\n",
      "           CurvaPeligrosaHaciaLaDerecha       0.43      0.60      0.50         5\n",
      "         CurvaPeligrosaHaciaLaIzquierda       0.00      0.00      0.00         3\n",
      "       CurvasPeligrosasHaciaLaIzquierda       1.00      0.75      0.86         4\n",
      "                   DetencionObligatoria       1.00      1.00      1.00        10\n",
      "           DirPermitidasRectoEIzquierda       1.00      1.00      1.00         3\n",
      "             DirPermitidasRectoYDerecha       1.00      0.80      0.89         5\n",
      "                       EntradaProhibida       0.94      1.00      0.97        15\n",
      "   EntradaProhibidaAVehiculosMercancias       1.00      1.00      1.00         6\n",
      "                EntradaProhibidasCiclos       0.00      0.00      0.00         4\n",
      "        EstrechamientoCalzadaPorDerecha       0.00      0.00      0.00         4\n",
      "                     FinDeProhibiciones       1.00      0.67      0.80         3\n",
      "           FinProhibicionAdelantamiento       1.00      1.00      1.00         3\n",
      "   FinProhibicionAdelantamientoCamiones       1.00      1.00      1.00         3\n",
      "                   FinVelocidadMaxima80       1.00      0.83      0.91         6\n",
      "               InterseccionConPrioridad       0.76      0.72      0.74        18\n",
      "InterseccionSentidoObligatorioGiratorio       0.62      1.00      0.77         5\n",
      "                                   Kids       0.14      0.14      0.14         7\n",
      "                                  Obras       0.49      0.90      0.63        20\n",
      "                          OtrosPeligros       0.83      0.94      0.88        16\n",
      "               PasoDeAnimalesEnLibertad       1.00      1.00      1.00        10\n",
      "                         PasoDePeatones       0.00      0.00      0.00         3\n",
      "                 PasoObligatorioDerecha       1.00      0.96      0.98        28\n",
      "               PasoObligatorioizquierda       1.00      1.00      1.00         4\n",
      "                    PavimentoDeslizante       0.40      0.29      0.33         7\n",
      "          PavimentoDeslizanteNieveHielo       1.00      0.33      0.50         6\n",
      "                        PerfilIrregular       1.00      1.00      1.00         5\n",
      "                              Semaforos       0.62      0.62      0.62         8\n",
      "                     SentidoObligatorio       1.00      0.94      0.97        16\n",
      "              SentidoObligatorioDerecha       1.00      0.67      0.80         9\n",
      "            SentidoObligatorioIzquierda       1.00      1.00      1.00         6\n",
      "                     VelocidadMaxima100       0.82      0.95      0.88        19\n",
      "                     VelocidadMaxima120       0.80      0.84      0.82        19\n",
      "                      VelocidadMaxima20       1.00      0.67      0.80         3\n",
      "                      VelocidadMaxima30       0.74      0.67      0.70        30\n",
      "                      VelocidadMaxima50       0.69      0.80      0.74        30\n",
      "                      VelocidadMaxima60       0.82      0.74      0.78        19\n",
      "                      VelocidadMaxima70       0.96      1.00      0.98        26\n",
      "                      VelocidadMaxima80       0.54      0.60      0.57        25\n",
      "\n",
      "                               accuracy                           0.82       525\n",
      "                              macro avg       0.78      0.74      0.75       525\n",
      "                           weighted avg       0.82      0.82      0.81       525\n",
      "\n",
      "\n",
      "n = 5 accuracy = 0.8228571428571428\n"
     ]
    },
    {
     "name": "stderr",
     "output_type": "stream",
     "text": [
      "C:\\Users\\daviz\\anaconda3\\envs\\py37vision\\lib\\site-packages\\sklearn\\model_selection\\_split.py:672: UserWarning: The least populated class in y has only 3 members, which is less than n_splits=5.\n",
      "  % (min_groups, self.n_splits)), UserWarning)\n",
      "C:\\Users\\daviz\\anaconda3\\envs\\py37vision\\lib\\site-packages\\sklearn\\metrics\\_classification.py:1221: UndefinedMetricWarning: Precision and F-score are ill-defined and being set to 0.0 in labels with no predicted samples. Use `zero_division` parameter to control this behavior.\n",
      "  _warn_prf(average, modifier, msg_start, len(result))\n"
     ]
    },
    {
     "name": "stdout",
     "output_type": "stream",
     "text": [
      "Classification report for - \n",
      "GridSearchCV(estimator=SVC(),\n",
      "             param_grid=[{'C': [1, 10, 100, 1000], 'kernel': ['linear']},\n",
      "                         {'C': [1, 10, 100, 1000], 'gamma': [0.001, 0.0001],\n",
      "                          'kernel': ['rbf']}]):\n",
      "                                         precision    recall  f1-score   support\n",
      "\n",
      "                AdelantamientoProhibido       1.00      0.85      0.92        20\n",
      "    AdelantamientoProhibidoParaCamiones       0.93      0.96      0.95        27\n",
      "                    CalzadaConPrioridad       0.93      1.00      0.97        28\n",
      "                             CedaElPaso       1.00      1.00      1.00        29\n",
      "                   CirculacionProhibida       1.00      0.88      0.93         8\n",
      "           CurvaPeligrosaHaciaLaDerecha       0.60      0.60      0.60         5\n",
      "         CurvaPeligrosaHaciaLaIzquierda       0.00      0.00      0.00         3\n",
      "       CurvasPeligrosasHaciaLaIzquierda       0.75      0.75      0.75         4\n",
      "                   DetencionObligatoria       0.91      1.00      0.95        10\n",
      "           DirPermitidasRectoEIzquierda       1.00      0.67      0.80         3\n",
      "             DirPermitidasRectoYDerecha       1.00      0.80      0.89         5\n",
      "                       EntradaProhibida       0.94      1.00      0.97        15\n",
      "   EntradaProhibidaAVehiculosMercancias       1.00      1.00      1.00         6\n",
      "                EntradaProhibidasCiclos       0.00      0.00      0.00         4\n",
      "        EstrechamientoCalzadaPorDerecha       0.00      0.00      0.00         4\n",
      "                     FinDeProhibiciones       1.00      0.67      0.80         3\n",
      "           FinProhibicionAdelantamiento       1.00      1.00      1.00         3\n",
      "   FinProhibicionAdelantamientoCamiones       1.00      1.00      1.00         3\n",
      "                   FinVelocidadMaxima80       1.00      0.83      0.91         6\n",
      "               InterseccionConPrioridad       0.88      0.78      0.82        18\n",
      "InterseccionSentidoObligatorioGiratorio       0.71      1.00      0.83         5\n",
      "                                   Kids       0.43      0.43      0.43         7\n",
      "                                  Obras       0.50      0.95      0.66        20\n",
      "                          OtrosPeligros       0.68      0.81      0.74        16\n",
      "               PasoDeAnimalesEnLibertad       1.00      0.90      0.95        10\n",
      "                         PasoDePeatones       0.00      0.00      0.00         3\n",
      "                 PasoObligatorioDerecha       1.00      0.93      0.96        28\n",
      "               PasoObligatorioizquierda       1.00      1.00      1.00         4\n",
      "                    PavimentoDeslizante       0.20      0.14      0.17         7\n",
      "          PavimentoDeslizanteNieveHielo       0.67      0.33      0.44         6\n",
      "                        PerfilIrregular       1.00      1.00      1.00         5\n",
      "                              Semaforos       0.44      0.50      0.47         8\n",
      "                     SentidoObligatorio       1.00      0.94      0.97        16\n",
      "              SentidoObligatorioDerecha       1.00      0.78      0.88         9\n",
      "            SentidoObligatorioIzquierda       0.80      0.67      0.73         6\n",
      "                     VelocidadMaxima100       0.83      1.00      0.90        19\n",
      "                     VelocidadMaxima120       0.87      0.68      0.76        19\n",
      "                      VelocidadMaxima20       1.00      0.33      0.50         3\n",
      "                      VelocidadMaxima30       0.73      0.73      0.73        30\n",
      "                      VelocidadMaxima50       0.62      0.80      0.70        30\n",
      "                      VelocidadMaxima60       0.81      0.68      0.74        19\n",
      "                      VelocidadMaxima70       0.93      1.00      0.96        26\n",
      "                      VelocidadMaxima80       0.50      0.52      0.51        25\n",
      "\n",
      "                               accuracy                           0.81       525\n",
      "                              macro avg       0.76      0.72      0.73       525\n",
      "                           weighted avg       0.81      0.81      0.80       525\n",
      "\n",
      "\n",
      "n = 7 accuracy = 0.8095238095238095\n"
     ]
    },
    {
     "name": "stderr",
     "output_type": "stream",
     "text": [
      "C:\\Users\\daviz\\anaconda3\\envs\\py37vision\\lib\\site-packages\\sklearn\\model_selection\\_split.py:672: UserWarning: The least populated class in y has only 3 members, which is less than n_splits=5.\n",
      "  % (min_groups, self.n_splits)), UserWarning)\n",
      "C:\\Users\\daviz\\anaconda3\\envs\\py37vision\\lib\\site-packages\\sklearn\\metrics\\_classification.py:1221: UndefinedMetricWarning: Precision and F-score are ill-defined and being set to 0.0 in labels with no predicted samples. Use `zero_division` parameter to control this behavior.\n",
      "  _warn_prf(average, modifier, msg_start, len(result))\n"
     ]
    },
    {
     "name": "stdout",
     "output_type": "stream",
     "text": [
      "Classification report for - \n",
      "GridSearchCV(estimator=SVC(),\n",
      "             param_grid=[{'C': [1, 10, 100, 1000], 'kernel': ['linear']},\n",
      "                         {'C': [1, 10, 100, 1000], 'gamma': [0.001, 0.0001],\n",
      "                          'kernel': ['rbf']}]):\n",
      "                                         precision    recall  f1-score   support\n",
      "\n",
      "                AdelantamientoProhibido       0.95      0.90      0.92        20\n",
      "    AdelantamientoProhibidoParaCamiones       1.00      1.00      1.00        27\n",
      "                    CalzadaConPrioridad       0.93      1.00      0.97        28\n",
      "                             CedaElPaso       1.00      0.97      0.98        29\n",
      "                   CirculacionProhibida       1.00      1.00      1.00         8\n",
      "           CurvaPeligrosaHaciaLaDerecha       0.60      0.60      0.60         5\n",
      "         CurvaPeligrosaHaciaLaIzquierda       0.00      0.00      0.00         3\n",
      "       CurvasPeligrosasHaciaLaIzquierda       0.80      1.00      0.89         4\n",
      "                   DetencionObligatoria       0.91      1.00      0.95        10\n",
      "           DirPermitidasRectoEIzquierda       1.00      1.00      1.00         3\n",
      "             DirPermitidasRectoYDerecha       1.00      0.80      0.89         5\n",
      "                       EntradaProhibida       1.00      1.00      1.00        15\n",
      "   EntradaProhibidaAVehiculosMercancias       1.00      1.00      1.00         6\n",
      "                EntradaProhibidasCiclos       0.00      0.00      0.00         4\n",
      "        EstrechamientoCalzadaPorDerecha       0.00      0.00      0.00         4\n",
      "                     FinDeProhibiciones       1.00      0.33      0.50         3\n",
      "           FinProhibicionAdelantamiento       0.75      1.00      0.86         3\n",
      "   FinProhibicionAdelantamientoCamiones       1.00      1.00      1.00         3\n",
      "                   FinVelocidadMaxima80       1.00      0.83      0.91         6\n",
      "               InterseccionConPrioridad       0.88      0.83      0.86        18\n",
      "InterseccionSentidoObligatorioGiratorio       0.80      0.80      0.80         5\n",
      "                                   Kids       0.50      0.43      0.46         7\n",
      "                                  Obras       0.53      0.95      0.68        20\n",
      "                          OtrosPeligros       0.65      0.81      0.72        16\n",
      "               PasoDeAnimalesEnLibertad       0.88      0.70      0.78        10\n",
      "                         PasoDePeatones       0.00      0.00      0.00         3\n",
      "                 PasoObligatorioDerecha       0.93      0.93      0.93        28\n",
      "               PasoObligatorioizquierda       1.00      1.00      1.00         4\n",
      "                    PavimentoDeslizante       0.17      0.14      0.15         7\n",
      "          PavimentoDeslizanteNieveHielo       0.50      0.33      0.40         6\n",
      "                        PerfilIrregular       1.00      1.00      1.00         5\n",
      "                              Semaforos       0.44      0.50      0.47         8\n",
      "                     SentidoObligatorio       1.00      0.94      0.97        16\n",
      "              SentidoObligatorioDerecha       1.00      0.78      0.88         9\n",
      "            SentidoObligatorioIzquierda       0.80      0.67      0.73         6\n",
      "                     VelocidadMaxima100       0.90      1.00      0.95        19\n",
      "                     VelocidadMaxima120       0.80      0.63      0.71        19\n",
      "                      VelocidadMaxima20       1.00      0.33      0.50         3\n",
      "                      VelocidadMaxima30       0.67      0.80      0.73        30\n",
      "                      VelocidadMaxima50       0.69      0.73      0.71        30\n",
      "                      VelocidadMaxima60       0.80      0.63      0.71        19\n",
      "                      VelocidadMaxima70       0.89      0.96      0.93        26\n",
      "                      VelocidadMaxima80       0.56      0.60      0.58        25\n",
      "\n",
      "                               accuracy                           0.81       525\n",
      "                              macro avg       0.75      0.72      0.72       525\n",
      "                           weighted avg       0.80      0.81      0.80       525\n",
      "\n",
      "\n",
      "n = 9 accuracy = 0.8095238095238095\n"
     ]
    },
    {
     "name": "stderr",
     "output_type": "stream",
     "text": [
      "C:\\Users\\daviz\\anaconda3\\envs\\py37vision\\lib\\site-packages\\sklearn\\model_selection\\_split.py:672: UserWarning: The least populated class in y has only 3 members, which is less than n_splits=5.\n",
      "  % (min_groups, self.n_splits)), UserWarning)\n"
     ]
    },
    {
     "name": "stdout",
     "output_type": "stream",
     "text": [
      "Classification report for - \n",
      "GridSearchCV(estimator=SVC(),\n",
      "             param_grid=[{'C': [1, 10, 100, 1000], 'kernel': ['linear']},\n",
      "                         {'C': [1, 10, 100, 1000], 'gamma': [0.001, 0.0001],\n",
      "                          'kernel': ['rbf']}]):\n",
      "                                         precision    recall  f1-score   support\n",
      "\n",
      "                AdelantamientoProhibido       0.95      0.90      0.92        20\n",
      "    AdelantamientoProhibidoParaCamiones       1.00      1.00      1.00        27\n",
      "                    CalzadaConPrioridad       0.93      1.00      0.97        28\n",
      "                             CedaElPaso       1.00      1.00      1.00        29\n",
      "                   CirculacionProhibida       1.00      1.00      1.00         8\n",
      "           CurvaPeligrosaHaciaLaDerecha       0.60      0.60      0.60         5\n",
      "         CurvaPeligrosaHaciaLaIzquierda       0.00      0.00      0.00         3\n",
      "       CurvasPeligrosasHaciaLaIzquierda       0.80      1.00      0.89         4\n",
      "                   DetencionObligatoria       0.91      1.00      0.95        10\n",
      "           DirPermitidasRectoEIzquierda       1.00      1.00      1.00         3\n",
      "             DirPermitidasRectoYDerecha       1.00      0.80      0.89         5\n",
      "                       EntradaProhibida       1.00      1.00      1.00        15\n",
      "   EntradaProhibidaAVehiculosMercancias       1.00      1.00      1.00         6\n",
      "                EntradaProhibidasCiclos       0.00      0.00      0.00         4\n",
      "        EstrechamientoCalzadaPorDerecha       0.00      0.00      0.00         4\n",
      "                     FinDeProhibiciones       1.00      0.33      0.50         3\n",
      "           FinProhibicionAdelantamiento       0.75      1.00      0.86         3\n",
      "   FinProhibicionAdelantamientoCamiones       0.75      1.00      0.86         3\n",
      "                   FinVelocidadMaxima80       1.00      0.83      0.91         6\n",
      "               InterseccionConPrioridad       0.78      0.78      0.78        18\n",
      "InterseccionSentidoObligatorioGiratorio       0.80      0.80      0.80         5\n",
      "                                   Kids       0.67      0.29      0.40         7\n",
      "                                  Obras       0.46      0.90      0.61        20\n",
      "                          OtrosPeligros       0.63      0.75      0.69        16\n",
      "               PasoDeAnimalesEnLibertad       0.88      0.70      0.78        10\n",
      "                         PasoDePeatones       0.00      0.00      0.00         3\n",
      "                 PasoObligatorioDerecha       1.00      0.93      0.96        28\n",
      "               PasoObligatorioizquierda       1.00      1.00      1.00         4\n",
      "                    PavimentoDeslizante       0.00      0.00      0.00         7\n",
      "          PavimentoDeslizanteNieveHielo       0.25      0.17      0.20         6\n",
      "                        PerfilIrregular       1.00      0.80      0.89         5\n",
      "                              Semaforos       0.30      0.38      0.33         8\n",
      "                     SentidoObligatorio       1.00      0.94      0.97        16\n",
      "              SentidoObligatorioDerecha       1.00      0.78      0.88         9\n",
      "            SentidoObligatorioIzquierda       0.80      0.67      0.73         6\n",
      "                     VelocidadMaxima100       0.95      0.95      0.95        19\n",
      "                     VelocidadMaxima120       0.81      0.68      0.74        19\n",
      "                      VelocidadMaxima20       1.00      0.33      0.50         3\n",
      "                      VelocidadMaxima30       0.70      0.77      0.73        30\n",
      "                      VelocidadMaxima50       0.54      0.63      0.58        30\n",
      "                      VelocidadMaxima60       0.75      0.63      0.69        19\n",
      "                      VelocidadMaxima70       0.96      0.96      0.96        26\n",
      "                      VelocidadMaxima80       0.45      0.52      0.48        25\n",
      "\n",
      "                               accuracy                           0.78       525\n",
      "                              macro avg       0.73      0.69      0.70       525\n",
      "                           weighted avg       0.79      0.78      0.78       525\n",
      "\n",
      "\n",
      "n = 11 accuracy = 0.7847619047619048\n"
     ]
    },
    {
     "name": "stderr",
     "output_type": "stream",
     "text": [
      "C:\\Users\\daviz\\anaconda3\\envs\\py37vision\\lib\\site-packages\\sklearn\\metrics\\_classification.py:1221: UndefinedMetricWarning: Precision and F-score are ill-defined and being set to 0.0 in labels with no predicted samples. Use `zero_division` parameter to control this behavior.\n",
      "  _warn_prf(average, modifier, msg_start, len(result))\n"
     ]
    }
   ],
   "source": [
    "n = [3,5,7,9,11]\n",
    "sigma = 3 #desviación de la gaussiana\n",
    "best_n = 0\n",
    "best_accuracy = 0\n",
    "best_clf_GK = None\n",
    "for v in n:\n",
    "    mask = cv2.getGaussianKernel(v, sigma)*cv2.getGaussianKernel(v, sigma).T\n",
    "    imagenesTrain_GK = np.zeros(imagenesTrain.shape)\n",
    "    for i in range(imagenesTrain.shape[0]):\n",
    "        imagenesTrain_GK[i] = filtro_suavizado(imagenesTrain[i], mask)\n",
    "\n",
    "    imagenesTest_GK = np.zeros(imagenesTest.shape)\n",
    "    for i in range(imagenesTest.shape[0]):\n",
    "        imagenesTest_GK[i] = filtro_suavizado(imagenesTest[i], mask)\n",
    "\n",
    "    Xtrain_GK, Ytrain = creaMatrizCaracteristicas(imagenesTrain_GK,carac_type,ytrain)\n",
    "    Xtest_GK, Ytest = creaMatrizCaracteristicas(imagenesTest_GK,carac_type,ytest)\n",
    "    \n",
    "    param_grid = [\n",
    "      {'C': [1, 10, 100, 1000], 'kernel': ['linear']},\n",
    "      {'C': [1, 10, 100, 1000], 'gamma': [0.001, 0.0001], 'kernel': ['rbf']},]\n",
    "    svc = svm.SVC()\n",
    "    clf_GK = GridSearchCV(svc, param_grid)\n",
    "    clf_GK.fit(Xtrain_GK, Ytrain.ravel())\n",
    "    y_pred = clf_GK.predict(Xtest_GK)\n",
    "    print(\"Classification report for - \\n{}:\\n{}\\n\".format(clf_GK, metrics.classification_report(Ytest.ravel(), y_pred)))\n",
    "    accuracy = accuracy_score(Ytest, y_pred)\n",
    "    print(f'n = {v} accuracy = {accuracy}')\n",
    "    if best_accuracy<accuracy:\n",
    "        best_accuracy = accuracy\n",
    "        best_n = v\n",
    "        best_clf_GK = clf_GK"
   ]
  },
  {
   "cell_type": "code",
   "execution_count": 58,
   "metadata": {},
   "outputs": [
    {
     "data": {
      "text/plain": [
       "3"
      ]
     },
     "execution_count": 58,
     "metadata": {},
     "output_type": "execute_result"
    }
   ],
   "source": [
    "best_n"
   ]
  },
  {
   "cell_type": "code",
   "execution_count": 59,
   "metadata": {},
   "outputs": [],
   "source": [
    "mask = cv2.getGaussianKernel(best_n, sigma)*cv2.getGaussianKernel(best_n, sigma).T\n",
    "imagenesTrain_GK = np.zeros(imagenesTrain.shape)\n",
    "for i in range(imagenesTrain.shape[0]):\n",
    "    imagenesTrain_GK[i] = filtro_suavizado(imagenesTrain[i], mask)\n",
    "\n",
    "imagenesTest_GK = np.zeros(imagenesTest.shape)\n",
    "for i in range(imagenesTest.shape[0]):\n",
    "    imagenesTest_GK[i] = filtro_suavizado(imagenesTest[i], mask)\n",
    "\n",
    "Xtrain_GK, Ytrain = creaMatrizCaracteristicas(imagenesTrain_GK,carac_type,ytrain)\n",
    "Xtest_GK, Ytest = creaMatrizCaracteristicas(imagenesTest_GK,carac_type,ytest)"
   ]
  },
  {
   "cell_type": "code",
   "execution_count": 61,
   "metadata": {},
   "outputs": [
    {
     "name": "stdout",
     "output_type": "stream",
     "text": [
      "¿Desea probar el clasificador? (si/no)si\n",
      "Introduce un numero de imagen para probar: 67\n",
      "Tu numero de imagen para probar es la numero 67\n"
     ]
    },
    {
     "data": {
      "image/png": "[encoded data removed]",
      "text/plain": [
       "<Figure size 432x288 with 1 Axes>"
      ]
     },
     "metadata": {
      "needs_background": "light"
     },
     "output_type": "display_data"
    },
    {
     "name": "stdout",
     "output_type": "stream",
     "text": [
      "¿Desea seguir probando el clasificador? (si/no)no\n",
      "Hasta la proxima!!\n"
     ]
    }
   ],
   "source": [
    "#pequeña celda para interactuar con el clasificador\n",
    "\n",
    "caracter = input(\"¿Desea probar el clasificador? (si/no)\")\n",
    "\n",
    "if caracter == \"no\":\n",
    "    print(\"Hasta la proxima!!\")\n",
    "elif caracter == \"si\":\n",
    "    while(caracter == \"si\"):\n",
    "        numeroImagen = (int)(input(\"Introduce un numero de imagen para probar: \"))\n",
    "        print(f\"Tu numero de imagen para probar es la numero {numeroImagen}\")\n",
    "        res = predecirImagenSVM(imagenesTest_GK[numeroImagen],carac_type,best_clf_GK)\n",
    "        plt.figure()\n",
    "        plt.imshow(imagenesTest[numeroImagen])\n",
    "        lab = 'Precision 95%\\n'+ res[0]\n",
    "        plt.xlabel(lab)\n",
    "        plt.show()\n",
    "        caracter = input(\"¿Desea seguir probando el clasificador? (si/no)\")\n",
    "        if caracter == \"no\":\n",
    "            print(\"Hasta la proxima!!\")\n",
    "            break"
   ]
  },
  {
   "cell_type": "markdown",
   "metadata": {},
   "source": [
    "# ECUALIZACION"
   ]
  },
  {
   "cell_type": "code",
   "execution_count": 62,
   "metadata": {},
   "outputs": [],
   "source": [
    "#bins contiene el indice de los elementos del histograma\n",
    "def ecualizacion_v3(imagen,h):\n",
    "    aux= np.copy(imagen) #se copia la imagen\n",
    "    rows, columns = imagen.shape\n",
    "    h = h/(rows * columns)\n",
    "    h = np.cumsum(h) #maravillosa jugada\n",
    "    aux =np.uint8(255 *  h[(aux)+1])\n",
    "    return aux"
   ]
  },
  {
   "cell_type": "code",
   "execution_count": 63,
   "metadata": {},
   "outputs": [
    {
     "name": "stderr",
     "output_type": "stream",
     "text": [
      "C:\\Users\\daviz\\anaconda3\\envs\\py37vision\\lib\\site-packages\\sklearn\\model_selection\\_split.py:672: UserWarning: The least populated class in y has only 3 members, which is less than n_splits=5.\n",
      "  % (min_groups, self.n_splits)), UserWarning)\n"
     ]
    },
    {
     "name": "stdout",
     "output_type": "stream",
     "text": [
      "Classification report for - \n",
      "GridSearchCV(estimator=SVC(),\n",
      "             param_grid=[{'C': [1, 10, 100, 1000], 'kernel': ['linear']},\n",
      "                         {'C': [1, 10, 100, 1000], 'gamma': [0.001, 0.0001],\n",
      "                          'kernel': ['rbf']}]):\n",
      "                                         precision    recall  f1-score   support\n",
      "\n",
      "                AdelantamientoProhibido       0.78      0.90      0.84        20\n",
      "    AdelantamientoProhibidoParaCamiones       0.89      0.89      0.89        27\n",
      "                    CalzadaConPrioridad       0.97      1.00      0.98        28\n",
      "                             CedaElPaso       1.00      1.00      1.00        29\n",
      "                   CirculacionProhibida       0.88      0.88      0.88         8\n",
      "           CurvaPeligrosaHaciaLaDerecha       0.33      0.40      0.36         5\n",
      "         CurvaPeligrosaHaciaLaIzquierda       0.00      0.00      0.00         3\n",
      "       CurvasPeligrosasHaciaLaIzquierda       0.80      1.00      0.89         4\n",
      "                   DetencionObligatoria       1.00      1.00      1.00        10\n",
      "           DirPermitidasRectoEIzquierda       1.00      0.33      0.50         3\n",
      "             DirPermitidasRectoYDerecha       0.80      0.80      0.80         5\n",
      "                       EntradaProhibida       0.94      1.00      0.97        15\n",
      "   EntradaProhibidaAVehiculosMercancias       1.00      0.83      0.91         6\n",
      "                EntradaProhibidasCiclos       0.00      0.00      0.00         4\n",
      "        EstrechamientoCalzadaPorDerecha       1.00      0.50      0.67         4\n",
      "                     FinDeProhibiciones       1.00      0.33      0.50         3\n",
      "           FinProhibicionAdelantamiento       0.00      0.00      0.00         3\n",
      "   FinProhibicionAdelantamientoCamiones       0.50      1.00      0.67         3\n",
      "                   FinVelocidadMaxima80       1.00      0.67      0.80         6\n",
      "               InterseccionConPrioridad       0.48      0.61      0.54        18\n",
      "InterseccionSentidoObligatorioGiratorio       0.29      0.40      0.33         5\n",
      "                                   Kids       0.33      0.57      0.42         7\n",
      "                                  Obras       0.55      0.85      0.67        20\n",
      "                          OtrosPeligros       0.93      0.88      0.90        16\n",
      "               PasoDeAnimalesEnLibertad       0.80      0.80      0.80        10\n",
      "                         PasoDePeatones       0.00      0.00      0.00         3\n",
      "                 PasoObligatorioDerecha       0.96      0.96      0.96        28\n",
      "               PasoObligatorioizquierda       1.00      1.00      1.00         4\n",
      "                    PavimentoDeslizante       0.00      0.00      0.00         7\n",
      "          PavimentoDeslizanteNieveHielo       0.75      0.50      0.60         6\n",
      "                        PerfilIrregular       1.00      0.40      0.57         5\n",
      "                              Semaforos       1.00      0.50      0.67         8\n",
      "                     SentidoObligatorio       0.94      1.00      0.97        16\n",
      "              SentidoObligatorioDerecha       1.00      0.67      0.80         9\n",
      "            SentidoObligatorioIzquierda       0.83      0.83      0.83         6\n",
      "                     VelocidadMaxima100       0.95      0.95      0.95        19\n",
      "                     VelocidadMaxima120       0.80      0.84      0.82        19\n",
      "                      VelocidadMaxima20       1.00      0.33      0.50         3\n",
      "                      VelocidadMaxima30       0.74      0.83      0.78        30\n",
      "                      VelocidadMaxima50       0.81      0.73      0.77        30\n",
      "                      VelocidadMaxima60       0.83      0.79      0.81        19\n",
      "                      VelocidadMaxima70       0.96      0.85      0.90        26\n",
      "                      VelocidadMaxima80       0.70      0.84      0.76        25\n",
      "\n",
      "                               accuracy                           0.80       525\n",
      "                              macro avg       0.73      0.67      0.67       525\n",
      "                           weighted avg       0.81      0.80      0.79       525\n",
      "\n",
      "\n",
      "0.8\n"
     ]
    },
    {
     "name": "stderr",
     "output_type": "stream",
     "text": [
      "C:\\Users\\daviz\\anaconda3\\envs\\py37vision\\lib\\site-packages\\sklearn\\metrics\\_classification.py:1221: UndefinedMetricWarning: Precision and F-score are ill-defined and being set to 0.0 in labels with no predicted samples. Use `zero_division` parameter to control this behavior.\n",
      "  _warn_prf(average, modifier, msg_start, len(result))\n"
     ]
    }
   ],
   "source": [
    "\n",
    "imagenesTrain_E = np.zeros(imagenesTrain.shape)\n",
    "for i in range(imagenesTrain.shape[0]):\n",
    "    h, bins = np.histogram(imagenesTrain[i], bins = 256, range = [0,256])\n",
    "    imagenesTrain_E[i] = ecualizacion_v3(imagenesTrain[i],h)\n",
    "\n",
    "imagenesTest_E = np.zeros(imagenesTest.shape)\n",
    "for i in range(imagenesTest.shape[0]):\n",
    "    h, bins = np.histogram(imagenesTest[i], bins = 256, range = [0,256])\n",
    "    imagenesTest_E[i] = ecualizacion_v3(imagenesTest[i],h)\n",
    "    \n",
    "Xtrain_E, Ytrain = creaMatrizCaracteristicas(imagenesTrain_E,carac_type,ytrain)\n",
    "Xtest_E, Ytest = creaMatrizCaracteristicas(imagenesTest_E,carac_type,ytest)\n",
    "\n",
    "param_grid = [\n",
    "  {'C': [1, 10, 100, 1000], 'kernel': ['linear']},\n",
    "  {'C': [1, 10, 100, 1000], 'gamma': [0.001, 0.0001], 'kernel': ['rbf']},]\n",
    "svc = svm.SVC()\n",
    "clf_E = GridSearchCV(svc, param_grid)\n",
    "clf_E.fit(Xtrain_E, Ytrain.ravel())\n",
    "y_pred = clf_E.predict(Xtest_E)\n",
    "print(\"Classification report for - \\n{}:\\n{}\\n\".format(clf_E, metrics.classification_report(Ytest.ravel(), y_pred)))\n",
    "print(accuracy_score(Ytest, y_pred))"
   ]
  },
  {
   "cell_type": "markdown",
   "metadata": {},
   "source": [
    "# UMBRALIZACION"
   ]
  },
  {
   "cell_type": "code",
   "execution_count": 64,
   "metadata": {},
   "outputs": [],
   "source": [
    "import skimage\n",
    "from skimage import data, io\n",
    "import numpy as np\n",
    "from matplotlib import pyplot as plt\n",
    "%matplotlib inline\n",
    "from skimage.filters import threshold_otsu "
   ]
  },
  {
   "cell_type": "code",
   "execution_count": 65,
   "metadata": {},
   "outputs": [
    {
     "name": "stderr",
     "output_type": "stream",
     "text": [
      "C:\\Users\\daviz\\anaconda3\\envs\\py37vision\\lib\\site-packages\\sklearn\\model_selection\\_split.py:672: UserWarning: The least populated class in y has only 3 members, which is less than n_splits=5.\n",
      "  % (min_groups, self.n_splits)), UserWarning)\n"
     ]
    },
    {
     "name": "stdout",
     "output_type": "stream",
     "text": [
      "Classification report for - \n",
      "GridSearchCV(estimator=SVC(),\n",
      "             param_grid=[{'C': [1, 10, 100, 1000], 'kernel': ['linear']},\n",
      "                         {'C': [1, 10, 100, 1000], 'gamma': [0.001, 0.0001],\n",
      "                          'kernel': ['rbf']}]):\n",
      "                                         precision    recall  f1-score   support\n",
      "\n",
      "                AdelantamientoProhibido       0.40      0.50      0.44        20\n",
      "    AdelantamientoProhibidoParaCamiones       0.37      0.48      0.42        27\n",
      "                    CalzadaConPrioridad       0.79      0.82      0.81        28\n",
      "                             CedaElPaso       0.96      0.90      0.93        29\n",
      "                   CirculacionProhibida       0.40      0.25      0.31         8\n",
      "           CurvaPeligrosaHaciaLaDerecha       0.12      0.20      0.15         5\n",
      "         CurvaPeligrosaHaciaLaIzquierda       0.00      0.00      0.00         3\n",
      "       CurvasPeligrosasHaciaLaIzquierda       0.00      0.00      0.00         4\n",
      "                   DetencionObligatoria       0.75      0.30      0.43        10\n",
      "           DirPermitidasRectoEIzquierda       0.00      0.00      0.00         3\n",
      "             DirPermitidasRectoYDerecha       1.00      0.60      0.75         5\n",
      "                       EntradaProhibida       0.56      0.67      0.61        15\n",
      "   EntradaProhibidaAVehiculosMercancias       0.60      0.50      0.55         6\n",
      "                EntradaProhibidasCiclos       0.00      0.00      0.00         4\n",
      "        EstrechamientoCalzadaPorDerecha       0.00      0.00      0.00         4\n",
      "                     FinDeProhibiciones       0.50      0.33      0.40         3\n",
      "           FinProhibicionAdelantamiento       0.00      0.00      0.00         3\n",
      "   FinProhibicionAdelantamientoCamiones       0.33      0.33      0.33         3\n",
      "                   FinVelocidadMaxima80       0.50      0.50      0.50         6\n",
      "               InterseccionConPrioridad       0.23      0.28      0.25        18\n",
      "InterseccionSentidoObligatorioGiratorio       0.00      0.00      0.00         5\n",
      "                                   Kids       0.00      0.00      0.00         7\n",
      "                                  Obras       0.28      0.50      0.36        20\n",
      "                          OtrosPeligros       0.38      0.38      0.38        16\n",
      "               PasoDeAnimalesEnLibertad       0.38      0.30      0.33        10\n",
      "                         PasoDePeatones       0.00      0.00      0.00         3\n",
      "                 PasoObligatorioDerecha       0.52      0.57      0.54        28\n",
      "               PasoObligatorioizquierda       1.00      0.50      0.67         4\n",
      "                    PavimentoDeslizante       0.00      0.00      0.00         7\n",
      "          PavimentoDeslizanteNieveHielo       0.50      0.17      0.25         6\n",
      "                        PerfilIrregular       0.33      0.20      0.25         5\n",
      "                              Semaforos       0.17      0.12      0.14         8\n",
      "                     SentidoObligatorio       0.62      0.50      0.55        16\n",
      "              SentidoObligatorioDerecha       0.25      0.22      0.24         9\n",
      "            SentidoObligatorioIzquierda       0.50      0.17      0.25         6\n",
      "                     VelocidadMaxima100       0.35      0.47      0.40        19\n",
      "                     VelocidadMaxima120       0.17      0.21      0.19        19\n",
      "                      VelocidadMaxima20       0.00      0.00      0.00         3\n",
      "                      VelocidadMaxima30       0.41      0.40      0.41        30\n",
      "                      VelocidadMaxima50       0.28      0.37      0.32        30\n",
      "                      VelocidadMaxima60       0.20      0.11      0.14        19\n",
      "                      VelocidadMaxima70       0.26      0.31      0.28        26\n",
      "                      VelocidadMaxima80       0.16      0.20      0.18        25\n",
      "\n",
      "                               accuracy                           0.39       525\n",
      "                              macro avg       0.33      0.29      0.30       525\n",
      "                           weighted avg       0.39      0.39      0.38       525\n",
      "\n",
      "\n",
      "0.3923809523809524\n"
     ]
    },
    {
     "name": "stderr",
     "output_type": "stream",
     "text": [
      "C:\\Users\\daviz\\anaconda3\\envs\\py37vision\\lib\\site-packages\\sklearn\\metrics\\_classification.py:1221: UndefinedMetricWarning: Precision and F-score are ill-defined and being set to 0.0 in labels with no predicted samples. Use `zero_division` parameter to control this behavior.\n",
      "  _warn_prf(average, modifier, msg_start, len(result))\n"
     ]
    }
   ],
   "source": [
    "imagenesTrain_Otsu = np.zeros(imagenesTrain.shape)\n",
    "for i in range(imagenesTrain.shape[0]):\n",
    "    threshold_value = threshold_otsu(imagenesTrain[i])\n",
    "    camera_threholded = imagenesTrain[i] > threshold_value\n",
    "    imagenesTrain_Otsu[i] = camera_threholded*255\n",
    "\n",
    "imagenesTest_Otsu = np.zeros(imagenesTest.shape)\n",
    "for i in range(imagenesTest.shape[0]):\n",
    "    threshold_value = threshold_otsu(imagenesTest[i])\n",
    "    camera_threholded = imagenesTest[i] > threshold_value\n",
    "    imagenesTest_Otsu[i] = camera_threholded*255\n",
    "    \n",
    "Xtrain_Otsu, Ytrain = creaMatrizCaracteristicas(imagenesTrain_Otsu,carac_type,ytrain)\n",
    "Xtest_Otsu, Ytest = creaMatrizCaracteristicas(imagenesTest_Otsu,carac_type,ytest)\n",
    "\n",
    "param_grid = [\n",
    "  {'C': [1, 10, 100, 1000], 'kernel': ['linear']},\n",
    "  {'C': [1, 10, 100, 1000], 'gamma': [0.001, 0.0001], 'kernel': ['rbf']},]\n",
    "svc = svm.SVC()\n",
    "clf_Otsu = GridSearchCV(svc, param_grid)\n",
    "clf_Otsu.fit(Xtrain_Otsu, Ytrain.ravel())\n",
    "y_pred = clf_Otsu.predict(Xtest_Otsu)\n",
    "print(\"Classification report for - \\n{}:\\n{}\\n\".format(clf_Otsu, metrics.classification_report(Ytest.ravel(), y_pred)))\n",
    "print(accuracy_score(Ytest, y_pred))"
   ]
  },
  {
   "cell_type": "markdown",
   "metadata": {},
   "source": [
    "Resumen:\n",
    "    Vamos a utilizar un suavizado gaussiano."
   ]
  }
 ],
 "metadata": {
  "kernelspec": {
   "display_name": "Python 3",
   "language": "python",
   "name": "python3"
  },
  "language_info": {
   "codemirror_mode": {
    "name": "ipython",
    "version": 3
   },
   "file_extension": ".py",
   "mimetype": "text/x-python",
   "name": "python",
   "nbconvert_exporter": "python",
   "pygments_lexer": "ipython3",
   "version": "3.7.4"
  }
 },
 "nbformat": 4,
 "nbformat_minor": 2
}
