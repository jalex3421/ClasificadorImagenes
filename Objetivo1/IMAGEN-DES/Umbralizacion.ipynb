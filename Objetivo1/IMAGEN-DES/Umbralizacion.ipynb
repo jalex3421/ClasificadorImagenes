{
 "cells": [
  {
   "cell_type": "markdown",
   "metadata": {},
   "source": [
    "# Práctica 4: Umbralización\n",
    "\n",
    "En esta práctica vamos a programar algunos de los algoritmos vistos en clase sobre umbralización. El objetivo es seguir afianzando los conocimientos de programación y tener una visión más clara sobre qué hace cada uno de los algoritmos vistos en clase"
   ]
  },
  {
   "cell_type": "code",
   "execution_count": 3,
   "metadata": {},
   "outputs": [],
   "source": [
    "import cv2\n",
    "import numpy as np\n",
    "import matplotlib.pyplot as plt"
   ]
  },
  {
   "cell_type": "code",
   "execution_count": 4,
   "metadata": {},
   "outputs": [],
   "source": [
    "def calculaHistograma(imagen):\n",
    "    histograma = np.zeros((256))\n",
    "    filas, columnas = imagen.shape\n",
    "    for i in range(filas):\n",
    "        for j in range(columnas):\n",
    "            histograma[imagen[i,j]] += 1\n",
    "    return np.uint8(histograma)"
   ]
  },
  {
   "cell_type": "markdown",
   "metadata": {},
   "source": [
    "### Ejercicio 1: mínimo entre máximos\n",
    "\n",
    "El primer programa que vamos a implementar es la umbralización de mínimo entre máximos. Para ello, crea una función que reciba como parámetro de entrada una imagen. El programa obtendrá el histograma de la imagen. A partir del histograma es muy sencillo obtener la posición que ocupa el máximo global del histograma (recuerda la función argmax). El siguiente paso es encontrar el segundo pico del histograma. Recuerda que no es tan sencillo como buscar el segundo máximo del histograma, sino que tenemos que recorrer cada una de las intensidades:\n",
    "- calcular el pico del histograma $q_1=\\arg \\max_i h(i)$\n",
    "- para cada intensidad i:\n",
    "    - Calcular $h(i)\\times |i-q_1|$\n",
    "- tomar como $q_2$  la posición que maximice la expresión anterior\n",
    "\n",
    "Una vez localizados $q_1,q_2$, busca el mínimo del histograma entre ambos picos. Umbraliza la imagen utilizando dicho umbral. Recuerda que puedes hacer algo como\n",
    " $$umbralizada = 255*(imagen<=q).astype(np.uint8)$$\n",
    " "
   ]
  },
  {
   "cell_type": "markdown",
   "metadata": {},
   "source": [
    "Calchist devuelve columna"
   ]
  },
  {
   "cell_type": "code",
   "execution_count": 5,
   "metadata": {},
   "outputs": [],
   "source": [
    "def min_entre_max(imagen):\n",
    "#     histograma = calculaHistograma(imagen) #cambiar\n",
    "    histograma = cv2.calcHist([imagen],[0],None,[256],[0,256]).reshape(-1)\n",
    "    i = np.arange(0,256,1)\n",
    "    q1 = np.argmax(histograma)\n",
    "    print(q1)\n",
    "    q2 = np.argmax(histograma*np.abs(i-q1))\n",
    "    print(q2)\n",
    "    if q1>q2:\n",
    "        q = np.argmin(histograma[q2:q1+1]) + q2\n",
    "    else:\n",
    "        q = np.argmin(histograma[q1:q2+1]) + q1 #estas encontreando la posiciion entre q1 y q2 asi q hay q sumarle la menor para tener la original\n",
    "    umbralizada = 255 * (imagen<= q).astype(np.uint8)\n",
    "    return umbralizada"
   ]
  },
  {
   "cell_type": "markdown",
   "metadata": {},
   "source": [
    "Una vez programada llama a la función con la imagen 01.bmp. Si devuelves el primer mínimo que encuentres, deberías tener como umbral $q=56$ ¿Obtienes un buen resultado? ¿Por qué? ¿Qué pegas encuentras?"
   ]
  },
  {
   "cell_type": "code",
   "execution_count": 6,
   "metadata": {},
   "outputs": [
    {
     "name": "stdout",
     "output_type": "stream",
     "text": [
      "53\n",
      "253\n"
     ]
    }
   ],
   "source": [
    "# imagen = cv2.imread('images/01.bmp', 0)\n",
    "imagen = cv2.imread('01.bmp', 0)\n",
    "umbralizada = min_entre_max(imagen)\n",
    "cv2.imshow('Umbralizacion minimo entre maximos', umbralizada)\n",
    "cv2.waitKey(0)\n",
    "cv2.destroyAllWindows()"
   ]
  },
  {
   "cell_type": "markdown",
   "metadata": {},
   "source": [
    "### Ejercicio 2: Otsu\n",
    "\n",
    "Realizar una función en Matlab que implemente el algoritmo de Otsu. Para ello, vamos a crear un array vacío de 256 posiciones. En la posición i-ésima del vector almacenaremos la varianza entre clases $\\sigma_b(i)$ tomando como umbral el valor de intensidad i. Por último obtenendremos como umbral aquel asociado a la máxima varianza entre clases. Recuerda que para calcular la varianza entre clases debemos tomar un umbral i y calcular:\n",
    "- $p_1$: probabilidad de la clase 1\n",
    "- $p_2$: probabilidad de la clase 2\n",
    "- $\\mu_1$: media de la clase 1\n",
    "- $\\mu_2$: media de la clase 2\n",
    "- varianza entre clases: $\\sigma_b(i)=p_1p_2(\\mu_1- \\mu_2)^2$\n",
    "\n",
    "Estos cálculos se pueden hacer de dos maneras distintas. Una opción sería utilizando funciones de numpy como np.mean, etc. Otra opción sería utilizar el histograma de la imagen y calcular $p_1,p_2,\\mu_1,\\mu_2$ utilizando únicamente el histograma."
   ]
  },
  {
   "cell_type": "markdown",
   "metadata": {},
   "source": [
    "    Necesitamos probabilidad, media, varianza ( p0*p1*(meanClase0 - meanClase2)**2)umbral el argmax de las varianzas"
   ]
  },
  {
   "cell_type": "code",
   "execution_count": 7,
   "metadata": {},
   "outputs": [],
   "source": [
    "def otsu(imagen):\n",
    "    r,c = imagen.shape\n",
    "    #reshape(-1,1) (-1) -> para lo q halla , (1) -> una columna\n",
    "    #reshape(-1) (-1) -> para lo q halla , ( ) -> 0 columnas\n",
    "    histograma = cv2.calcHist([imagen],[0],None,[256],[0,256]).reshape(-1)\n",
    "    i = np.arange(0,256,1)\n",
    "    o = np.zeros(histograma.size-1)\n",
    "    for x in range(o.size):\n",
    "        p0 = np.sum(histograma[0:x+1])/(r*c)\n",
    "        p1 = 1 - p0\n",
    "#         m0 = np.mean(imagen[imagen<=x])\n",
    "#         m1 = np.mean(imagen[imagen>x])\n",
    "        m0 = np.sum(histograma[0:x+1]*i[0:x+1])/(np.sum(histograma[0:x+1]))\n",
    "        m1 = np.sum(histograma[x+1:]*i[x+1:])/(np.sum(histograma[x+1:]))\n",
    "        o[x] = p0*p1*((m0-m1)**2)\n",
    "    q = np.argmax(o)\n",
    "    umbralizada = 255 * (imagen<= q).astype(np.uint8)\n",
    "    return umbralizada"
   ]
  },
  {
   "cell_type": "markdown",
   "metadata": {},
   "source": [
    "Una vez programada, prueba la umbralización con la imagen 01.bmp.\n",
    "\n",
    "Compara las imagenes obtenidas con el Ejercicio 1 y el Ejercicio 2. ¿Por qué crees que el resultado del Ejercicio 1 no tiene tanta calidad?\n",
    "\n",
    "Prueba ahora a suavizar la imagen con un filtro Gaussiano (o un filtro de la media 3x3 o 5x5) y luego umbraliza con la función Otsu. ¿Obtienes alguna mejora?\n"
   ]
  },
  {
   "cell_type": "code",
   "execution_count": 8,
   "metadata": {},
   "outputs": [],
   "source": [
    "# imagen = cv2.imread('images/01.bmp', 0)\n",
    "imagen = cv2.imread('01.bmp', 0)\n",
    "umbralizada = otsu(imagen)\n",
    "cv2.imshow('Umbralizacion Otsu', umbralizada)\n",
    "cv2.waitKey(0)\n",
    "cv2.destroyAllWindows()"
   ]
  },
  {
   "cell_type": "markdown",
   "metadata": {},
   "source": [
    "### Umbralizació de mínimo error\n",
    "\n",
    "Este algoritmo tiene algo parecido al anterior. Vamos a ir probando cada uno de las intensidades posibles como umbral y, para cada una, calcularemos una distribución de probabilidad gaussiana según la media y la desviación de los píxeles de la clase 0 y clase 1 en función del umbral. Para ello, recorre el conjunto de intensidades y calcula:\n",
    "- $p_0$: probabilidad de la clase0\n",
    "- $p_1$: probabilidad de la clase1\n",
    "- $\\mu_0$: media de la clase 0\n",
    "- $\\mu_1$: media de la clase 1\n",
    "- $\\sigma_0$: varianza de la clase 0\n",
    "- $\\sigma_1$: varianza de la clase 1\n",
    "\n",
    "Una vez tenemos los parámetros de cada una de las clases, vamos a calcular el error que cometemos al asignar cada una de las intensidades a la clase 0 y a la clase 1 en función del umbral. Esto se calcula como\n",
    "\n",
    "$$e(q)=\\sum_{i=0}^{q}h_p(i)e_0(i)+\\sum_{i=q+1}^{255}h_p(i)e_1(i)$$\n",
    "\n",
    "donde\n",
    "\n",
    "$$e_j(i)=\\frac{(i-\\mu_j)^2}{\\sigma_j^2}+2(\\log(\\sigma_j)-\\log(p_0))$$\n",
    "\n",
    "Una vez calculado el error por cada posible umbral, tomaremos aquel que minimice el error cometido."
   ]
  },
  {
   "cell_type": "code",
   "execution_count": 9,
   "metadata": {},
   "outputs": [],
   "source": [
    "def minimo_error(imagen):\n",
    "    r,c = imagen.shape\n",
    "    #reshape(-1,1) (-1) -> para lo q halla , (1) -> una columna\n",
    "    #reshape(-1) (-1) -> para lo q halla , ( ) -> 0 columnas\n",
    "    histograma = cv2.calcHist([imagen],[0],None,[256],[0,256]).reshape(-1)\n",
    "    i = np.arange(0,256,1)\n",
    "    error = np.zeros(histograma.size-1)\n",
    "    for x in range(0,error.size):\n",
    "        p0 = np.sum(histograma[0:x+1]/(r*c))\n",
    "        p1 = 1 - p0\n",
    "#         m0 = np.mean(imagen[imagen<=x])\n",
    "#         m1 = np.mean(imagen[imagen>x])\n",
    "        m0 = np.sum(histograma[0:x+1]*i[0:x+1])/(np.sum(histograma[0:x+1]))\n",
    "        m1 = np.sum(histograma[x+1:]*i[x+1:])/(np.sum(histograma[x+1:]))\n",
    "        o0 = np.sum(((i[0:x+1]-m0)**2)*histograma[0:x+1])/(np.sum(histograma[0:x+1]))\n",
    "        o1 = np.sum(((i[x+1:]-m1)**2)*histograma[x+1:])/(np.sum(histograma[x+1:]))\n",
    "        if o0==0:\n",
    "            e0 = 0\n",
    "        else:\n",
    "            e0 = ((i[0:x+1]-m0)**2)/(o0**2)+2*(np.log(o0)-np.log(p0))\n",
    "        if o1==0:\n",
    "            e1 = 0\n",
    "        else:\n",
    "            e1 = (i[x+1:]-m1)**2/(o1**2)+2*(np.log(o1)-np.log(p1))\n",
    "        error[x] = np.sum(histograma[0:x+1]*e0)/(r*c)+np.sum(histograma[x+1:]*e1)/(r*c)\n",
    "    q = np.argmin(error)\n",
    "    umbralizada = 255 * (imagen<= q).astype(np.uint8)\n",
    "    return umbralizada"
   ]
  },
  {
   "cell_type": "markdown",
   "metadata": {},
   "source": [
    "Una vez programado, comprueba su funcionamiento con las imágenes de antes. Al igual que aparece en las explicaciones de clase, podríamos pintar encima del histograma las dos distribuciones gaussianas que tratan de ajustarse al histograma. Para ello, una vez conocido el umbral q, las distribcuines gaussianas de la clase 0 y de la clase 1 vendrían dadas, para cada posible intensidad x, por\n",
    "\n",
    "$$\\frac{1}{\\sqrt{2\\pi\\sigma_0^2}}*\\exp\\left(-\\frac{(x-\\mu_0)^2}{2\\sigma_0^2}\\right)$$\n",
    "$$\\frac{1}{\\sqrt{2\\pi\\sigma_1^2}}*\\exp\\left(-\\frac{(x-\\mu_1)^2}{2\\sigma_1^2}\\right)$$"
   ]
  },
  {
   "cell_type": "code",
   "execution_count": 10,
   "metadata": {},
   "outputs": [],
   "source": [
    "# imagen = cv2.imread('images/01.bmp', 0)\n",
    "imagen = cv2.imread('01.bmp', 0)\n",
    "umbralizada = minimo_error(imagen)\n",
    "cv2.imshow('Umbralizacion Otsu', umbralizada)\n",
    "cv2.waitKey(0)\n",
    "cv2.destroyAllWindows()"
   ]
  },
  {
   "cell_type": "markdown",
   "metadata": {},
   "source": [
    "### Ejercicio 3: Umbralización variable\n",
    "\n",
    "Uno de los problemas del algoritmo de Otsu aparece cuando la iluminación de la imagen no es constante. Lee la imagen texto.tif. Visualiza y aplica el algoritmo del ejercicio 2 (otsu). Comprueba que la segmentación no es la adecuada. Vamos a solventar este problema mediante una umbralización variable, es decir, una combinación de técnicas globales y locales. De hecho, vamos a ver que se parece mucho a un filtro no lineal sobre la imagen. El algoritmo es el siguiente:\n",
    "- para cada píxel de la imagen\n",
    "    - tomar una ventana 3x3 de píxeles centrada en el\n",
    "    - calcular la media aritmética $\\mu_{x,y}$ y la desviación típica $\\sigma_{x,y}$\n",
    "    - Realizar la siguiente segmentación \n",
    "    $$g(x,y)=\\begin{cases} \n",
    "        1 & \\mbox{ si } imagen(x,y)<\\sigma_{x,y}+0.5\\mu_{x,y} \\\\\n",
    "        0 & \\mbox{ en otro caso}\n",
    "    \\end{cases}$$"
   ]
  },
  {
   "cell_type": "code",
   "execution_count": 30,
   "metadata": {},
   "outputs": [
    {
     "name": "stdout",
     "output_type": "stream",
     "text": [
      "[[255 255 255 ... 255 255 255]\n",
      " [255 255 255 ... 255 255 255]\n",
      " [255 255 255 ... 255 255 255]\n",
      " ...\n",
      " [255 255 255 ... 255 255 255]\n",
      " [255 255 255 ... 255 255 255]\n",
      " [255 255 255 ... 255 255 255]]\n"
     ]
    }
   ],
   "source": [
    "# imagen = cv2.imread('images/texto.tif', 0)\n",
    "imagen = cv2.imread('texto.tif', 0)\n",
    "texto_umbralizada = otsu(imagen)\n",
    "print(texto_umbralizada)\n",
    "cv2.imshow('Imagen texto', texto_umbralizada)\n",
    "cv2.waitKey(0)\n",
    "cv2.destroyAllWindows()\n",
    "\n"
   ]
  },
  {
   "cell_type": "code",
   "execution_count": 25,
   "metadata": {},
   "outputs": [],
   "source": [
    "def variable(imagen):\n",
    "    umbralizada = np.ones(np.shape(imagen))\n",
    "    imagen_ampliada = cv2.copyMakeBorder(imagen, 1, 1, 1, 1, cv2.BORDER_REPLICATE)\n",
    "    for i in range(1,np.shape(imagen)[0]+1):\n",
    "        for j in range(1,np.shape(imagen)[0]+1):\n",
    "            vecindad = imagen_ampliada[i-1:i+1,j-1:j+1]\n",
    "            mean = np.mean(vecindad)\n",
    "            o = (np.sum(((vecindad.flatten()-mean))**2)/vecindad.size)**(0.5)\n",
    "            if imagen_ampliada[i,j]<(o+0.5*mean):\n",
    "                umbralizada[i-1,j-1] = 1\n",
    "            else:\n",
    "                umbralizada[i-1,j-1] = 0\n",
    "    return np.uint8(umbralizada)"
   ]
  },
  {
   "cell_type": "markdown",
   "metadata": {},
   "source": [
    "Comprueba ahora que la umbralización variable funciona bien en este ejemplo concreto. Evidentemente, la fórmula elegida es ad-hoc para la imagen concreta, pero en función de la iluminación podríamos elegir otras condiciones del estilo \n",
    "$$imagen(x,y)<a \\sigma_{x,y} + b \\mu_{x,y}$$\n",
    "siendo $a$ y $b$ dos números cualesquiera."
   ]
  },
  {
   "cell_type": "code",
   "execution_count": 26,
   "metadata": {},
   "outputs": [],
   "source": [
    "imagen = cv2.imread('texto.tif', 0)\n",
    "# imagen = cv2.imread('images/texto.tif', 0)\n",
    "texto_umbralizada_2 = variable(imagen)*255\n",
    "cv2.imshow('Umbralizacion Variable', texto_umbralizada_2)\n",
    "cv2.waitKey(0)\n",
    "cv2.destroyAllWindows()"
   ]
  },
  {
   "cell_type": "code",
   "execution_count": null,
   "metadata": {},
   "outputs": [],
   "source": []
  }
 ],
 "metadata": {
  "kernelspec": {
   "display_name": "Python [conda env:py37vision] *",
   "language": "python",
   "name": "conda-env-py37vision-py"
  },
  "language_info": {
   "codemirror_mode": {
    "name": "ipython",
    "version": 3
   },
   "file_extension": ".py",
   "mimetype": "text/x-python",
   "name": "python",
   "nbconvert_exporter": "python",
   "pygments_lexer": "ipython3",
   "version": "3.7.4"
  }
 },
 "nbformat": 4,
 "nbformat_minor": 2
}
