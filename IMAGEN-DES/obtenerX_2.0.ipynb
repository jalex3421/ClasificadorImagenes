{
 "cells": [
  {
   "cell_type": "markdown",
   "metadata": {},
   "source": [
    "# Obtención X"
   ]
  },
  {
   "cell_type": "markdown",
   "metadata": {},
   "source": [
    "En este notebook se va a crear la matriz X, que es la que contiene las imágenes (se crea un dataset)."
   ]
  },
  {
   "cell_type": "code",
   "execution_count": 1,
   "metadata": {},
   "outputs": [],
   "source": [
    "import cv2\n",
    "import glob\n",
    "import skimage\n",
    "\n",
    "\n",
    "#Librerias contornos \n",
    "import numpy as np\n",
    "from skimage.io import imread, imshow\n",
    "from skimage.filters import prewitt_h,prewitt_v\n",
    "from skimage import data, io\n",
    "import matplotlib.pyplot as plt\n",
    "%matplotlib inline\n",
    "from skimage.filters import threshold_otsu \n",
    "from skimage.feature import hog\n",
    "from skimage import data, exposure"
   ]
  },
  {
   "cell_type": "markdown",
   "metadata": {},
   "source": [
    "$devolverDiccionarioEtiquetas$"
   ]
  },
  {
   "cell_type": "code",
   "execution_count": 2,
   "metadata": {},
   "outputs": [],
   "source": [
    "# $Sift$\n",
    "#devuelve descriptor de Sift\n",
    "def siftMaker(images00000_mod):\n",
    "    sift = cv2.xfeatures2d.SIFT_create()\n",
    "    kp, des = sift.detectAndCompute(images00000_mod,None)    \n",
    "    #quizas falta un tercer parametro:  imagen original\n",
    "    img=cv2.drawKeypoints(images00000_mod,kp, images00000_mod, flags=cv2.DRAW_MATCHES_FLAGS_DRAW_RICH_KEYPOINTS)\n",
    "    #cv2.imwrite('sift_keypoints.jpg',img)\n",
    "    return des\n",
    "\n",
    "\n",
    "# $Surf$\n",
    "def surfmaker(images00000_mod):\n",
    "    surf = cv2.xfeatures2d.SURF_create(400)\n",
    "    kp, des = surf.detectAndCompute(images00000_mod,None)\n",
    "    return des\n",
    "\n",
    "# $Fast$ + $Brief$\n",
    "def fastbrief_Maker(images00000_mod):\n",
    "    fast = cv2.FastFeatureDetector_create()\n",
    "\n",
    "    # find and draw the keypoints\n",
    "    kp2 = fast.detect(images00000_mod,None)\n",
    "    img2 = cv2.drawKeypoints(images00000_mod, kp2, None, color=(255,0,0))\n",
    "\n",
    "#     # Print all default params\n",
    "#     print( \"Threshold: {}\".format(fast.getThreshold()) )\n",
    "#     print( \"nonmaxSuppression:{}\".format(fast.getNonmaxSuppression()) )\n",
    "#     print( \"neighborhood: {}\".format(fast.getType()) )\n",
    "#     print( \"Total Keypoints with nonmaxSuppression: {}\".format(len(kp2)) )\n",
    "\n",
    "    # cv2.imwrite('fast_true.png',img2)\n",
    "#     cv2.imshow(\"test1\", img2)\n",
    "\n",
    "    # Disable nonmaxSuppression\n",
    "    fast.setNonmaxSuppression(0)\n",
    "    kp3 = fast.detect(img2,None)\n",
    "\n",
    "#     print( \"Total Keypoints without nonmaxSuppression: {}\".format(len(kp3)) )\n",
    "\n",
    "    img3 = cv2.drawKeypoints(img2, kp3, None, color=(255,0,0))\n",
    "    #cv2.imshow(\"test\", img3)\n",
    "    #cv2.waitKey(0)\n",
    "    #cv2.destroyAllWindows()\n",
    "    # cv2.imwrite('fast_false.png',img3)\n",
    "    brief = cv2.xfeatures2d.BriefDescriptorExtractor_create()\n",
    "\n",
    "    # Compute descriptors\n",
    "    kp, des = brief.compute(img3, kp3) #fast nonsup\n",
    "    return des\n",
    "\n",
    "\n",
    "# $ORB$\n",
    "def orbMaker(images00000_mod):\n",
    "    # Initiate ORB detector\n",
    "    orb = cv2.ORB_create()\n",
    "\n",
    "    # find the keypoints with ORB\n",
    "    kp = orb.detect(images00000_mod,None)\n",
    "\n",
    "    # compute the descriptors with ORB\n",
    "    kp, des = orb.compute(images00000_mod, kp)\n",
    "\n",
    "    # draw only keypoints location,not size and orientation\n",
    "    img2 = cv2.drawKeypoints(images00000_mod, kp, None, color=(0,255,0), flags=0)\n",
    "    #plt.imshow(img2), plt.show()\n",
    "    return des"
   ]
  },
  {
   "cell_type": "code",
   "execution_count": 3,
   "metadata": {},
   "outputs": [],
   "source": [
    "'''\n",
    "Descripcion: diccionario con los posibles valores de las imagenes, en relacion con el nombre de las carpetas.\n",
    "Entrada: -\n",
    "Salida: diccionario cuyas claves son el nombre de las carpetas, y los valores son el tipo de signals que contiene.\n",
    "'''\n",
    "\n",
    "\n",
    "def devolverDiccionarioEtiquetas():\n",
    "    \n",
    "    diccionarioValores = {}\n",
    "    diccionarioValores['00000'] = 'VelocidadMaxima20'\n",
    "    diccionarioValores['00001'] = 'VelocidadMaxima30'\n",
    "    diccionarioValores['00002'] = 'VelocidadMaxima50'\n",
    "    diccionarioValores['00003'] = 'VelocidadMaxima60'\n",
    "    diccionarioValores['00004'] = 'VelocidadMaxima70'\n",
    "    diccionarioValores['00005'] = 'VelocidadMaxima80'\n",
    "    diccionarioValores['00006'] = 'FinVelocidadMaxima80'\n",
    "    diccionarioValores['00007'] = 'VelocidadMaxima100'\n",
    "    diccionarioValores['00008'] = 'VelocidadMaxima120'\n",
    "    diccionarioValores['00009'] = 'AdelantamientoProhibido'\n",
    "    diccionarioValores['00010'] = 'AdelantamientoProhibidoParaCamiones'\n",
    "\n",
    "    diccionarioValores['00011'] = 'InterseccionConPrioridad'\n",
    "    diccionarioValores['00012'] = 'CalzadaConPrioridad'\n",
    "    diccionarioValores['00013'] = 'CedaElPaso'\n",
    "    diccionarioValores['00014'] = 'DetencionObligatoria'\n",
    "    diccionarioValores['00015'] = 'CirculacionProhibida'\n",
    "    diccionarioValores['00016'] = 'EntradaProhibidaAVehiculosMercancias'\n",
    "    diccionarioValores['00017'] = 'EntradaProhibida'\n",
    "    diccionarioValores['00018'] = 'OtrosPeligros'\n",
    "    diccionarioValores['00019'] = 'CurvaPeligrosaHaciaLaIzquierda'\n",
    "    diccionarioValores['00020'] = 'CurvaPeligrosaHaciaLaDerecha'\n",
    "\n",
    "    diccionarioValores['00021'] = 'CurvasPeligrosasHaciaLaIzquierda'\n",
    "    diccionarioValores['00022'] = 'PerfilIrregular'\n",
    "    diccionarioValores['00023'] = 'PavimentoDeslizante'\n",
    "    diccionarioValores['00024'] = 'EstrechamientoCalzadaPorDerecha'\n",
    "    diccionarioValores['00025'] = 'Obras'\n",
    "    diccionarioValores['00026'] = 'Semaforos'\n",
    "    diccionarioValores['00027'] = 'PasoDePeatones'\n",
    "    diccionarioValores['00028'] = 'Kids'\n",
    "    diccionarioValores['00029'] = 'EntradaProhibidasCiclos'\n",
    "    diccionarioValores['00030'] = 'PavimentoDeslizanteNieveHielo'\n",
    "\n",
    "    diccionarioValores['00031'] = 'PasoDeAnimalesEnLibertad'\n",
    "    diccionarioValores['00032'] = 'FinDeProhibiciones'\n",
    "    diccionarioValores['00033'] = 'SentidoObligatorioDerecha'\n",
    "    diccionarioValores['00034'] = 'SentidoObligatorioIzquierda'\n",
    "    diccionarioValores['00035'] = 'SentidoObligatorioArriba'\n",
    "    diccionarioValores['00036'] = 'DirPermitidasArribaDerecha'\n",
    "    diccionarioValores['00037'] = 'DirPermitidasArribaIzquierda'\n",
    "    diccionarioValores['00038'] = 'PasoObligatorioDerecha'\n",
    "    diccionarioValores['00039'] = 'PasoObligatorioizquierda'\n",
    "    diccionarioValores['00040'] = 'InterseccionSentidoObligatorioGiratorio'\n",
    "\n",
    "\n",
    "    diccionarioValores['00041'] = 'FinProhibicionAdelantamiento'\n",
    "    diccionarioValores['00042'] = 'FinProhibicionAdelantamientoCamiones'\n",
    "    \n",
    "    return diccionarioValores"
   ]
  },
  {
   "cell_type": "markdown",
   "metadata": {},
   "source": [
    "Probemos ahora el código...."
   ]
  },
  {
   "cell_type": "code",
   "execution_count": 4,
   "metadata": {},
   "outputs": [
    {
     "name": "stdout",
     "output_type": "stream",
     "text": [
      "VelocidadMaxima20\n",
      "VelocidadMaxima30\n",
      "VelocidadMaxima50\n",
      "VelocidadMaxima60\n",
      "VelocidadMaxima70\n",
      "VelocidadMaxima80\n",
      "FinVelocidadMaxima80\n",
      "VelocidadMaxima100\n",
      "VelocidadMaxima120\n",
      "AdelantamientoProhibido\n",
      "AdelantamientoProhibidoParaCamiones\n",
      "InterseccionConPrioridad\n",
      "CalzadaConPrioridad\n",
      "CedaElPaso\n",
      "DetencionObligatoria\n",
      "CirculacionProhibida\n",
      "EntradaProhibidaAVehiculosMercancias\n",
      "EntradaProhibida\n",
      "OtrosPeligros\n",
      "CurvaPeligrosaHaciaLaIzquierda\n",
      "CurvaPeligrosaHaciaLaDerecha\n",
      "CurvasPeligrosasHaciaLaIzquierda\n",
      "PerfilIrregular\n",
      "PavimentoDeslizante\n",
      "EstrechamientoCalzadaPorDerecha\n",
      "Obras\n",
      "Semaforos\n",
      "PasoDePeatones\n",
      "Kids\n",
      "EntradaProhibidasCiclos\n",
      "PavimentoDeslizanteNieveHielo\n",
      "PasoDeAnimalesEnLibertad\n",
      "FinDeProhibiciones\n",
      "SentidoObligatorioDerecha\n",
      "SentidoObligatorioIzquierda\n",
      "SentidoObligatorioArriba\n",
      "DirPermitidasArribaDerecha\n",
      "DirPermitidasArribaIzquierda\n",
      "PasoObligatorioDerecha\n",
      "PasoObligatorioizquierda\n",
      "InterseccionSentidoObligatorioGiratorio\n",
      "FinProhibicionAdelantamiento\n",
      "FinProhibicionAdelantamientoCamiones\n"
     ]
    }
   ],
   "source": [
    "d =  devolverDiccionarioEtiquetas()\n",
    "\n",
    "for k,v in d.items():\n",
    "    print(v)"
   ]
  },
  {
   "cell_type": "code",
   "execution_count": 5,
   "metadata": {},
   "outputs": [],
   "source": [
    "def crearDiccionarioDatos():\n",
    "    trafic_signals = {}\n",
    "    #para cada tipo de señal creamos una lista con sus ejemplos, y se la asignamos a su etiqueta de nombre de carpeta\n",
    "    for i in range(0,43):\n",
    "        if i<10:\n",
    "            folder = 'Dataset_traffic_sign/0000'+str(i)+'/*.png'\n",
    "            tipo = '0000'+str(i)\n",
    "        else:\n",
    "            folder = 'Dataset_traffic_sign/000'+str(i)+'/*.png'\n",
    "            tipo = '000'+str(i)\n",
    "        \n",
    "        images = [cv2.imread(file,0) for file in glob.glob(folder)]\n",
    "        images_mod = [] \n",
    "        for im in images:\n",
    "            #se aplica el resize\n",
    "            images_mod.append(cv2.resize(im, (100, 100), interpolation = cv2.INTER_NEAREST))\n",
    "\n",
    "        trafic_signals[tipo] = images_mod\n",
    "    return trafic_signals\n",
    "\n",
    "# Creamos nuestra matriz de datos\n",
    "def creaMatrizCaracteristicas(trafic_signals, signals_types, carac_type):\n",
    "    X = 0\n",
    "    Y = 0\n",
    "    \n",
    "    for signal,images in trafic_signals.items():\n",
    "        y = []\n",
    "        x = []\n",
    "        \n",
    "        x = obtenerDesCaracteristicas(np.array(images), carac_type)\n",
    "        \n",
    "        for i in range(x.shape[0]):\n",
    "            y.append(signals_types[signal])\n",
    "            \n",
    "        y = np.array(y).reshape(-1,1)\n",
    "        \n",
    "        if signal=='00000':\n",
    "            Y = y\n",
    "            X = x\n",
    "        else:\n",
    "            X = np.vstack((X,x))\n",
    "            Y = np.vstack((Y,y))\n",
    "    \n",
    "    return X,Y\n",
    "\n",
    "# Pasamos una np array de imagenes y vamos sacando sus descriptores 1 a 1\n",
    "def obtenerDesCaracteristicas(images_o, carac_type):\n",
    "    des = None\n",
    "    \n",
    "    for i in range(images_o.shape[0]):\n",
    "        if carac_type=='sift':\n",
    "            d = siftMaker(images_o[i])\n",
    "        elif carac_type=='surf':\n",
    "            d = surfmaker(images_o[i])\n",
    "        elif carac_type=='fast_brief':\n",
    "            d = fastbrief_Maker(images_o[i])\n",
    "        elif carac_type=='orb':\n",
    "            d = orbMaker(images_o[i])\n",
    "        else:\n",
    "            try:\n",
    "                raise ValueError\n",
    "            except ValueError:\n",
    "                print(\"valor incorrecto\")\n",
    "                \n",
    "        if d is not None:\n",
    "            if des is None:\n",
    "                des = d\n",
    "            else:\n",
    "                des = np.vstack((des,d))\n",
    "    return des"
   ]
  },
  {
   "cell_type": "code",
   "execution_count": 10,
   "metadata": {},
   "outputs": [],
   "source": [
    "trafic_signals = crearDiccionarioDatos()\n",
    "signals_types = devolverDiccionarioEtiquetas()\n",
    "carac_type = 'orb'"
   ]
  },
  {
   "cell_type": "code",
   "execution_count": 11,
   "metadata": {
    "scrolled": false
   },
   "outputs": [],
   "source": [
    "X, y = creaMatrizCaracteristicas(trafic_signals, signals_types, carac_type)"
   ]
  },
  {
   "cell_type": "code",
   "execution_count": 12,
   "metadata": {},
   "outputs": [
    {
     "data": {
      "text/plain": [
       "((22883, 32), (22883, 1))"
      ]
     },
     "execution_count": 12,
     "metadata": {},
     "output_type": "execute_result"
    }
   ],
   "source": [
    "X.shape, y.shape"
   ]
  },
  {
   "cell_type": "code",
   "execution_count": 13,
   "metadata": {},
   "outputs": [
    {
     "data": {
      "text/plain": [
       "array([ 41, 162, 228,  55, 116,  30, 120,  48, 119, 237, 119, 205, 107,\n",
       "        40, 150, 217,  30, 236, 229,  13, 172, 248,  77, 140,  78, 127,\n",
       "       112, 129, 111, 142,  90,  93], dtype=uint8)"
      ]
     },
     "execution_count": 13,
     "metadata": {},
     "output_type": "execute_result"
    }
   ],
   "source": [
    "X[0]\n"
   ]
  },
  {
   "cell_type": "code",
   "execution_count": null,
   "metadata": {},
   "outputs": [],
   "source": []
  }
 ],
 "metadata": {
  "kernelspec": {
   "display_name": "Python 3",
   "language": "python",
   "name": "python3"
  },
  "language_info": {
   "codemirror_mode": {
    "name": "ipython",
    "version": 3
   },
   "file_extension": ".py",
   "mimetype": "text/x-python",
   "name": "python",
   "nbconvert_exporter": "python",
   "pygments_lexer": "ipython3",
   "version": "3.7.4"
  }
 },
 "nbformat": 4,
 "nbformat_minor": 2
}
