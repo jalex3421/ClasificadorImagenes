{
 "cells": [
  {
   "cell_type": "markdown",
   "metadata": {},
   "source": [
    "# Objetivo 2.1"
   ]
  },
  {
   "cell_type": "markdown",
   "metadata": {},
   "source": [
    "# Autores\n",
    "David Rodríguez , Alejandro Meza"
   ]
  },
  {
   "cell_type": "markdown",
   "metadata": {},
   "source": [
    "# Índice de la práctica"
   ]
  },
  {
   "cell_type": "markdown",
   "metadata": {},
   "source": [
    "- [1.Introducción](#1.Introducción)\n",
    "- [2.Creación del dataset](#2.Creación-del-dataset)\n",
    "- [3.Creación del clasificador detección de señal](#3.Creación-del-clasificador-detección-de-señal)\n",
    "- [4.Creación del clasificador distinción de señal](#4.Creación-del-clasificador-distinción-de-señal)\n",
    "- [5.Predictor Final](#5.Predictor-Final)"
   ]
  },
  {
   "cell_type": "code",
   "execution_count": 1,
   "metadata": {},
   "outputs": [],
   "source": [
    "import cv2\n",
    "import glob\n",
    "import skimage\n",
    "\n",
    "\n",
    "#Librerias contornos \n",
    "import numpy as np\n",
    "from skimage.io import imread, imshow\n",
    "import matplotlib.pyplot as plt\n",
    "%matplotlib inline\n",
    "from skimage.feature import hog\n",
    "from skimage import data, exposure\n",
    "\n",
    "#Machine Learning\n",
    "from scipy.optimize import minimize\n",
    "import sklearn.metrics as metrics\n",
    "from sklearn.model_selection import GridSearchCV\n",
    "from sklearn import svm"
   ]
  },
  {
   "cell_type": "markdown",
   "metadata": {},
   "source": [
    "# 1.Introducción"
   ]
  },
  {
   "cell_type": "markdown",
   "metadata": {},
   "source": [
    "El tercer objetivo ponemos en común los dos objetivos anteriores y los unimos:\n",
    "-    Objetivo2 \n",
    "-    Objetivo1\n",
    "-    Producto final"
   ]
  },
  {
   "cell_type": "markdown",
   "metadata": {},
   "source": [
    "# 2.Creación de datos"
   ]
  },
  {
   "cell_type": "markdown",
   "metadata": {},
   "source": [
    "Se va a crear la matriz X, que es la que contiene las imágenes (se crea un dataset). Creamos metodos que nos ayudaran a conseguir nuestro objetivo."
   ]
  },
  {
   "cell_type": "code",
   "execution_count": 2,
   "metadata": {},
   "outputs": [],
   "source": [
    "'''\n",
    "Descripcion: diccionario con los posibles valores de las imagenes, en relacion con el nombre de las carpetas.\n",
    "Entrada: -\n",
    "Salida: diccionario cuyas claves son el nombre de las carpetas, y los valores son el tipo de signals que contiene.\n",
    "'''\n",
    "def devolverDiccionarioEtiquetasSign():\n",
    "    \n",
    "    diccionarioValores = {}\n",
    "    diccionarioValores['00000'] = 'VelocidadMaxima20'\n",
    "    diccionarioValores['00001'] = 'VelocidadMaxima30'\n",
    "    diccionarioValores['00002'] = 'VelocidadMaxima50'\n",
    "    diccionarioValores['00003'] = 'VelocidadMaxima60'\n",
    "    diccionarioValores['00004'] = 'VelocidadMaxima70'\n",
    "    diccionarioValores['00005'] = 'VelocidadMaxima80'\n",
    "    diccionarioValores['00006'] = 'FinVelocidadMaxima80'\n",
    "    diccionarioValores['00007'] = 'VelocidadMaxima100'\n",
    "    diccionarioValores['00008'] = 'VelocidadMaxima120'\n",
    "    diccionarioValores['00009'] = 'AdelantamientoProhibido'\n",
    "    diccionarioValores['00010'] = 'AdelantamientoProhibidoParaCamiones'\n",
    "\n",
    "    diccionarioValores['00011'] = 'InterseccionConPrioridad'\n",
    "    diccionarioValores['00012'] = 'CalzadaConPrioridad'\n",
    "    diccionarioValores['00013'] = 'CedaElPaso'\n",
    "    diccionarioValores['00014'] = 'DetencionObligatoria'\n",
    "    diccionarioValores['00015'] = 'CirculacionProhibida'\n",
    "    diccionarioValores['00016'] = 'EntradaProhibidaAVehiculosMercancias'\n",
    "    diccionarioValores['00017'] = 'EntradaProhibida'\n",
    "    diccionarioValores['00018'] = 'OtrosPeligros'\n",
    "    diccionarioValores['00019'] = 'CurvaPeligrosaHaciaLaIzquierda'\n",
    "    diccionarioValores['00020'] = 'CurvaPeligrosaHaciaLaDerecha'\n",
    "\n",
    "    diccionarioValores['00021'] = 'CurvasPeligrosasHaciaLaIzquierda'\n",
    "    diccionarioValores['00022'] = 'PerfilIrregular'\n",
    "    diccionarioValores['00023'] = 'PavimentoDeslizante'\n",
    "    diccionarioValores['00024'] = 'EstrechamientoCalzadaPorDerecha'\n",
    "    diccionarioValores['00025'] = 'Obras'\n",
    "    diccionarioValores['00026'] = 'Semaforos'\n",
    "    diccionarioValores['00027'] = 'PasoDePeatones'\n",
    "    diccionarioValores['00028'] = 'Kids'\n",
    "    diccionarioValores['00029'] = 'EntradaProhibidasCiclos'\n",
    "    diccionarioValores['00030'] = 'PavimentoDeslizanteNieveHielo'\n",
    "\n",
    "    diccionarioValores['00031'] = 'PasoDeAnimalesEnLibertad'\n",
    "    diccionarioValores['00032'] = 'FinDeProhibiciones'\n",
    "    diccionarioValores['00033'] = 'SentidoObligatorioDerecha'\n",
    "    diccionarioValores['00034'] = 'SentidoObligatorioIzquierda'\n",
    "    diccionarioValores['00035'] = 'SentidoObligatorio'\n",
    "    diccionarioValores['00036'] = 'DirPermitidasRectoYDerecha'\n",
    "    diccionarioValores['00037'] = 'DirPermitidasRectoEIzquierda'\n",
    "    diccionarioValores['00038'] = 'PasoObligatorioDerecha'\n",
    "    diccionarioValores['00039'] = 'PasoObligatorioizquierda'\n",
    "    diccionarioValores['00040'] = 'InterseccionSentidoObligatorioGiratorio'\n",
    "\n",
    "\n",
    "    diccionarioValores['00041'] = 'FinProhibicionAdelantamiento'\n",
    "    diccionarioValores['00042'] = 'FinProhibicionAdelantamientoCamiones'\n",
    "    \n",
    "    return diccionarioValores"
   ]
  },
  {
   "cell_type": "code",
   "execution_count": 3,
   "metadata": {},
   "outputs": [],
   "source": [
    "'''\n",
    "Descripcion: diccionario con los posibles valores de las imagenes, en relacion con el nombre de las carpetas.\n",
    "Entrada: -\n",
    "Salida: diccionario cuyas claves son el nombre de las carpetas, y los valores son el tipo de signals que contiene.\n",
    "'''\n",
    "def devolverDiccionarioEtiquetasNoSign():\n",
    "    \n",
    "    diccionarioValores = {}\n",
    "    diccionarioValores['000'] = 'Animal'\n",
    "    diccionarioValores['001'] = 'Carretera'\n",
    "    diccionarioValores['002'] = 'Cielo'\n",
    "    diccionarioValores['003'] = 'VehiculoCoche'\n",
    "    diccionarioValores['004'] = 'Arbol'\n",
    "    diccionarioValores['005'] = 'Persona'\n",
    "    diccionarioValores['006'] = 'Edificio'\n",
    "    diccionarioValores['007'] = 'VehiculoMoto'\n",
    "    diccionarioValores['008'] = 'Semaforo'\n",
    "    diccionarioValores['009'] = 'Basura'\n",
    "    diccionarioValores['010'] = 'Farola'\n",
    "\n",
    "    diccionarioValores['011'] = 'Estatua'\n",
    "    diccionarioValores['012'] = 'PasoDeZebra'\n",
    "    diccionarioValores['013'] = 'Carteles'\n",
    "    diccionarioValores['014'] = 'Ventana'\n",
    "    diccionarioValores['015'] = 'Paisaje'\n",
    "    diccionarioValores['016'] = 'Mix'\n",
    "    diccionarioValores['017'] = 'All'\n",
    "    diccionarioValores['018'] = 'Prueba'\n",
    "    \n",
    "    return diccionarioValores"
   ]
  },
  {
   "cell_type": "markdown",
   "metadata": {},
   "source": [
    "Creamos un diccionario para almacenar todas las fotos, relacionadas a cada elemento diferente de señal"
   ]
  },
  {
   "cell_type": "code",
   "execution_count": 4,
   "metadata": {},
   "outputs": [],
   "source": [
    "'''\n",
    "Descripcion: diccionario con los posibles valores de las imagenes, en relacion con el nombre de las carpetas.\n",
    "Entrada: -\n",
    "Salida: diccionario cuyas claves son el nombre de las carpetas, y los valores son las imagenes de las signals\n",
    "'''\n",
    "def crearDiccionarioDatosSign():\n",
    "    trafic_signals = {}\n",
    "    #para cada tipo de señal creamos una lista con sus ejemplos, y se la asignamos a su etiqueta de nombre de carpeta\n",
    "    for i in range(0,43):\n",
    "        if i<10:\n",
    "            folder = 'Dataset_traffic_sign/0000'+str(i)+'/*.png'\n",
    "            tipo = '0000'+str(i)\n",
    "        else:\n",
    "            folder = 'Dataset_traffic_sign/000'+str(i)+'/*.png'\n",
    "            tipo = '000'+str(i)\n",
    "        \n",
    "        images = [cv2.imread(file,0) for file in glob.glob(folder)]\n",
    "        images_mod = [] \n",
    "        for im in images:\n",
    "            #se aplica el resize\n",
    "            images_mod.append(cv2.resize(im, (100, 100), interpolation = cv2.INTER_NEAREST))\n",
    "\n",
    "        trafic_signals[tipo] = images_mod\n",
    "    return trafic_signals"
   ]
  },
  {
   "cell_type": "code",
   "execution_count": 5,
   "metadata": {},
   "outputs": [],
   "source": [
    "'''\n",
    "Descripcion: diccionario con los posibles valores de las imagenes, en relacion con el nombre de las carpetas.\n",
    "Entrada: -\n",
    "Salida: diccionario cuyas claves son el nombre de las carpetas, y los valores los elementos que no son signals\n",
    "'''\n",
    "def crearDiccionarioDatosNoSign():\n",
    "    noSignals = {} #diccionario para almacenar todo lo que no es sinal\n",
    "    #para cada tipo de elemento que no es señal creamos una lista con sus ejemplos\n",
    "    # y se la asignamos a su etiqueta de nombre de carpeta\n",
    "    for i in range(0,18): #iteramos sobre el numero de carptas\n",
    "        if i<10:\n",
    "            folder = 'Dataset_no_traffic_sign/00'+str(i)+'/*.jpg'\n",
    "            tipo = '00'+str(i)\n",
    "        else:\n",
    "            folder = 'Dataset_no_traffic_sign/0'+str(i)+'/*.jpg'\n",
    "            tipo = '0'+str(i)\n",
    "\n",
    "        images = [cv2.imread(file,0) for file in glob.glob(folder)]\n",
    "        images_mod = [] \n",
    "        for im in images:\n",
    "            #se aplica el resize\n",
    "            images_mod.append(cv2.resize(im, (100, 100), interpolation = cv2.INTER_NEAREST))\n",
    "\n",
    "        noSignals[tipo] = images_mod\n",
    "    return noSignals"
   ]
  },
  {
   "cell_type": "markdown",
   "metadata": {},
   "source": [
    "Creamos funciones para transformar imagenes en descriptores con HOG."
   ]
  },
  {
   "cell_type": "code",
   "execution_count": 6,
   "metadata": {},
   "outputs": [],
   "source": [
    "# HOG\n",
    "def hogMaker(images00000_mod):\n",
    "    fd, hog_image = hog(images00000_mod, orientations=8, pixels_per_cell=(16, 16),cells_per_block=(1, 1), visualize=True)\n",
    "    return fd"
   ]
  },
  {
   "cell_type": "markdown",
   "metadata": {},
   "source": [
    "Cogemos las imagenes y las separamos en train y test, y decimos a que clase pertenecen*"
   ]
  },
  {
   "cell_type": "code",
   "execution_count": 7,
   "metadata": {},
   "outputs": [],
   "source": [
    "'''\n",
    "Descripcion: Obtencion de train y test a partir de un conjunto de imágenes\n",
    "Entrada: trafic_signals, signals_types\n",
    "Salida: imagenesTrain,imagenesTest,ytrain,ytest\n",
    "'''\n",
    "def separaTrainTest(trafic_signals,signals_types):\n",
    "    imagenesTrain = None\n",
    "    imagenesTest = None\n",
    "    ytrain = None\n",
    "    ytest = None\n",
    "    \n",
    "    for signal,images in trafic_signals.items():\n",
    "        \n",
    "        aux_y_train = []\n",
    "        aux_y_test = []\n",
    "        \n",
    "        np_im = np.array(images)\n",
    "        n_train = int(0.6*np_im.shape[0])\n",
    "        n_test = np_im.shape[0]-n_train\n",
    "        \n",
    "        aux_train = np_im[:n_train]\n",
    "        aux_test = np_im[n_train:]\n",
    "        \n",
    "        for i in range(n_train):\n",
    "            aux_y_train.append(signals_types[signal])\n",
    "        for i in range(n_test):\n",
    "            aux_y_test.append(signals_types[signal])\n",
    "        \n",
    "        aux_y_train = np.array(aux_y_train).reshape(-1,1)\n",
    "        aux_y_test = np.array(aux_y_test).reshape(-1,1)\n",
    "        \n",
    "        if imagenesTrain is None:\n",
    "            imagenesTrain = aux_train\n",
    "            ytrain = aux_y_train\n",
    "            imagenesTest = aux_test\n",
    "            ytest = aux_y_test\n",
    "        else:\n",
    "            imagenesTrain = np.concatenate((imagenesTrain,aux_train),axis=0)\n",
    "            ytrain =  np.vstack((ytrain,aux_y_train))\n",
    "            imagenesTest = np.concatenate((imagenesTest,aux_test),axis=0)\n",
    "            ytest = np.vstack((ytest,aux_y_test))\n",
    "        \n",
    "    return imagenesTrain,imagenesTest,ytrain,ytest"
   ]
  },
  {
   "cell_type": "markdown",
   "metadata": {},
   "source": [
    "Creamos las caracteristicas con los datos que nos den y sus tipos*"
   ]
  },
  {
   "cell_type": "code",
   "execution_count": 8,
   "metadata": {},
   "outputs": [],
   "source": [
    "def creaMatrizCaracteristicas(imagenes,carac_type):\n",
    "    X = None\n",
    "        \n",
    "    for i in range(imagenes.shape[0]):\n",
    "        if carac_type=='hog':\n",
    "            d = hogMaker(imagenes[i])\n",
    "        else: #en caso de recibir un valor que no es valido\n",
    "            try:\n",
    "                raise ValueError\n",
    "            except ValueError:\n",
    "                print(\"valor incorrecto\")\n",
    "        \n",
    "        if d is not None:\n",
    "            if X is None:\n",
    "                X = d\n",
    "            else:\n",
    "                X = np.vstack((X,d))\n",
    "    return X"
   ]
  },
  {
   "cell_type": "code",
   "execution_count": 9,
   "metadata": {},
   "outputs": [],
   "source": [
    "elem_signals = crearDiccionarioDatosSign() #creacion del diccionario de datos\n",
    "signals_types = devolverDiccionarioEtiquetasSign() #creacion de diccionario que contiene nombre de carpetas y tipos de signals\n",
    "\n",
    "elem_no_signals = crearDiccionarioDatosNoSign() #creacion del diccionario de datos\n",
    "no_signals_types = devolverDiccionarioEtiquetasNoSign() #creacion de diccionario que contiene nombre de carpetas y tipos de signalcarac_type = 'hog' #el tipo elegido para los descriptores va a ser Hog\n",
    "carac_type = 'hog'"
   ]
  },
  {
   "cell_type": "code",
   "execution_count": 10,
   "metadata": {},
   "outputs": [],
   "source": [
    "signal_Train,signal_Test,signal_ytrain,signal_ytest = separaTrainTest(elem_signals,signals_types)"
   ]
  },
  {
   "cell_type": "code",
   "execution_count": 11,
   "metadata": {},
   "outputs": [],
   "source": [
    "no_signal_Train,no_signal_Test,no_signal_ytrain,no_signal_ytest = separaTrainTest(elem_no_signals,no_signals_types)"
   ]
  },
  {
   "cell_type": "code",
   "execution_count": 12,
   "metadata": {},
   "outputs": [],
   "source": [
    "imagenesTrain = np.concatenate((signal_Train, no_signal_Train))\n",
    "imagenesTest = np.concatenate((signal_Test, no_signal_Test))\n",
    "\n",
    "Ytrain = np.vstack((signal_ytrain,no_signal_ytrain))\n",
    "Ytest = np.vstack((signal_ytest,no_signal_ytest))"
   ]
  },
  {
   "cell_type": "code",
   "execution_count": 13,
   "metadata": {},
   "outputs": [],
   "source": [
    "imagenesTrain_GK = np.zeros(imagenesTrain.shape)\n",
    "for i in range(imagenesTrain.shape[0]):\n",
    "    imagenesTrain_GK[i] = cv2.GaussianBlur(imagenesTrain[i],(3,3),cv2.BORDER_REPLICATE)\n",
    "    \n",
    "imagenesTest_GK = np.zeros(imagenesTest.shape)\n",
    "for i in range(imagenesTest.shape[0]):\n",
    "    imagenesTest_GK[i] = cv2.GaussianBlur(imagenesTest[i],(3,3),cv2.BORDER_REPLICATE)\n",
    "    \n",
    "Xtrain = creaMatrizCaracteristicas(imagenesTrain_GK,carac_type)\n",
    "Xtest = creaMatrizCaracteristicas(imagenesTest_GK,carac_type)"
   ]
  },
  {
   "cell_type": "markdown",
   "metadata": {},
   "source": [
    "[Indice](#Índice-de-la-práctica)"
   ]
  },
  {
   "cell_type": "markdown",
   "metadata": {},
   "source": [
    "# 3.Creación del clasificador detección de señal"
   ]
  },
  {
   "cell_type": "code",
   "execution_count": 14,
   "metadata": {},
   "outputs": [],
   "source": [
    "def transformarY_SignNoSign(y, dicNoSign):\n",
    "    Y = np.ones(y.shape[0]).reshape(-1,1)\n",
    "    \n",
    "    for signal,nombre in dicNoSign.items():\n",
    "        for i in range(Y.size):\n",
    "            if y[i]==nombre:\n",
    "                Y[i] = 0\n",
    "    Yfinal = []\n",
    "    for i in range(Y.size):\n",
    "        if Y[i] == 1:\n",
    "            Yfinal.append('Signal')\n",
    "        else:\n",
    "            Yfinal.append('No Signal')\n",
    "    return Yfinal"
   ]
  },
  {
   "cell_type": "code",
   "execution_count": 15,
   "metadata": {},
   "outputs": [],
   "source": [
    "Ytrain_T = transformarY_SignNoSign(Ytrain, no_signals_types)\n",
    "Ytest_T = transformarY_SignNoSign(Ytest, no_signals_types)"
   ]
  },
  {
   "cell_type": "code",
   "execution_count": 16,
   "metadata": {},
   "outputs": [],
   "source": [
    "Ytrain_T = np.array(Ytrain_T)\n",
    "Ytest_T = np.array(Ytest_T)"
   ]
  },
  {
   "cell_type": "code",
   "execution_count": null,
   "metadata": {},
   "outputs": [],
   "source": [
    "param_grid = [\n",
    "  {'C': [1, 10, 100, 1000], 'kernel': ['linear']},\n",
    "  {'C': [1, 10, 100, 1000], 'gamma': [ 0.001, 0.0001], 'kernel': ['rbf']},]\n",
    "svc = svm.SVC()\n",
    "clf = GridSearchCV(svc, param_grid)\n",
    "clf.fit(Xtrain,Ytrain_T.ravel())\n",
    "y_pred = clf.predict(Xtest)\n",
    "print(\"Classification report for - \\n{}:\\n{}\\n\".format(clf, metrics.classification_report(Ytest_T.ravel(), y_pred)))"
   ]
  },
  {
   "cell_type": "code",
   "execution_count": null,
   "metadata": {},
   "outputs": [],
   "source": [
    "def predecirImagenSVM(imagen,carac_type,clf):\n",
    "#     transformar imagen en des\n",
    "    d = creaMatrizCaracteristicas(np.array([imagen]), carac_type)\n",
    "    d = np.array(d).reshape(1,-1)\n",
    "    return clf.predict(d)"
   ]
  },
  {
   "cell_type": "code",
   "execution_count": null,
   "metadata": {},
   "outputs": [],
   "source": [
    "def sliding_window(image, entreVentanas, windowSize):\n",
    "    # slide a window across the image\n",
    "    for j in range(0, image.shape[0], entreVentanas):\n",
    "        for i in range(0, image.shape[1], entreVentanas):\n",
    "            # yield the current window\n",
    "            yield (i, j, image[j:j + windowSize[1], i:i + windowSize[0]])"
   ]
  },
  {
   "cell_type": "markdown",
   "metadata": {},
   "source": [
    "(La ventana la vamos a implementar en la función final)"
   ]
  },
  {
   "cell_type": "markdown",
   "metadata": {},
   "source": [
    "[Indice](#Índice-de-la-práctica)"
   ]
  },
  {
   "cell_type": "markdown",
   "metadata": {},
   "source": [
    "# 4.Creación del clasificador distinción de señal"
   ]
  },
  {
   "cell_type": "markdown",
   "metadata": {},
   "source": [
    "Primero separamos las imagenes de señales en conjuntos de Train y Test como en el objetivo anterior para entrenar la SVM y para probarla. Y les aplicamos un filtro gaussiano el cual "
   ]
  },
  {
   "cell_type": "code",
   "execution_count": null,
   "metadata": {},
   "outputs": [],
   "source": [
    "signal_Train,signal_Test,signal_ytrain,signal_ytest = separaTrainTest(elem_signals,signals_types)"
   ]
  },
  {
   "cell_type": "code",
   "execution_count": null,
   "metadata": {},
   "outputs": [],
   "source": [
    "imagenesTrainForSignalRecog,imagenesTestForSignalRecog,Ytrain_Sign,Ytest_Sign = separaTrainTest(elem_signals,signals_types)"
   ]
  },
  {
   "cell_type": "code",
   "execution_count": null,
   "metadata": {},
   "outputs": [],
   "source": [
    "signal_Train_GK = np.zeros(signal_Train.shape)\n",
    "for i in range(signal_Train.shape[0]):\n",
    "    signal_Train_GK[i] = cv2.GaussianBlur(signal_Train[i],(3,3),cv2.BORDER_REPLICATE)\n",
    "\n",
    "signal_Test_GK = np.zeros(signal_Test.shape)\n",
    "for i in range(signal_Test_GK.shape[0]):\n",
    "    signal_Test_GK[i] = cv2.GaussianBlur(signal_Test[i],(3,3),cv2.BORDER_REPLICATE)\n",
    "    \n",
    "Xtrain_Sign = creaMatrizCaracteristicas(signal_Train_GK,carac_type)\n",
    "Xtest_Sign = creaMatrizCaracteristicas(signal_Test_GK,carac_type)"
   ]
  },
  {
   "cell_type": "markdown",
   "metadata": {},
   "source": [
    "Entrenamos la SVM"
   ]
  },
  {
   "cell_type": "code",
   "execution_count": null,
   "metadata": {},
   "outputs": [],
   "source": [
    "param_grid = [\n",
    "  {'C': [1, 10, 100, 1000], 'kernel': ['linear']},\n",
    "  {'C': [1, 10, 100, 1000], 'gamma': [0.001, 0.0001], 'kernel': ['rbf']},]\n",
    "svc = svm.SVC()\n",
    "clf_signaltype = GridSearchCV(svc, param_grid)\n",
    "clf_signaltype.fit(Xtrain_Sign, Ytrain_Sign.ravel())\n",
    "y_pred = clf_signaltype.predict(Xtest_Sign)\n",
    "print(\"Classification report for - \\n{}:\\n{}\\n\".format(clf_signaltype, metrics.classification_report(Ytest_Sign.ravel(), y_pred)))"
   ]
  },
  {
   "cell_type": "markdown",
   "metadata": {},
   "source": [
    "[Indice](#Índice-de-la-práctica)"
   ]
  },
  {
   "cell_type": "markdown",
   "metadata": {},
   "source": [
    "# 5.Predictor Final"
   ]
  },
  {
   "cell_type": "markdown",
   "metadata": {},
   "source": [
    "En la siguiente función vamos a juntar lo creado anteriormente para que como entrada le pasemos el \"path\" de la imagen a analizar y nos devuelva la imagen con las señales encontradas y predichas."
   ]
  },
  {
   "cell_type": "code",
   "execution_count": null,
   "metadata": {},
   "outputs": [],
   "source": [
    "def dondeHaySignal(imagen_nombre,clf,clf_signaltype):\n",
    "    \n",
    "    imagen_sin_color = cv2.imread(imagen_nombre,0)\n",
    "    imagen_color = cv2.imread(imagen_nombre)\n",
    "    \n",
    "#     Predecimos que parches son señales\n",
    "    if imagen_sin_color.shape[0]<imagen_sin_color.shape[1]:\n",
    "        winH = int(imagen_sin_color.shape[0])\n",
    "    else:\n",
    "        winH = int(imagen_sin_color.shape[1])\n",
    "    winW = winH\n",
    "    step = int(winW/2)\n",
    "    result = []\n",
    "    while winW>30 and winH>30:\n",
    "        for (x, y, window) in sliding_window(imagen_sin_color, step, windowSize=(winW, winH)):\n",
    "            if x+winW<=imagen_sin_color.shape[1] and y+winH<=imagen_sin_color.shape[0]:\n",
    "                res = predecirImagenSVM(cv2.resize(window, (100, 100), interpolation = cv2.INTER_NEAREST),carac_type,clf)\n",
    "                if res=='Signal':\n",
    "                    result.append(np.array([x,y,winW,winH]))\n",
    "        winW = int(winW/1.5)\n",
    "        winH = winW\n",
    "        step = int(winW/2)\n",
    "        \n",
    "#     Si hay alguna prediccion incluida en otra se elimina la \n",
    "#     que está incluida (exclusion de no maximos) en otra\n",
    "    n_result = []\n",
    "    repetidos = []\n",
    "    for i in range(len(result)):\n",
    "        for j in range(len(result)):\n",
    "            if result[j][0]>=result[i][0] and result[j][1]>=result[i][1] and result[j][0]+result[j][2]<=result[i][0]+result[i][2] and result[j][1]+result[j][3]<=result[i][1]+result[i][3] and i!=j:\n",
    "                repetidos.append(j)\n",
    "\n",
    "    for i in range(len(result)):\n",
    "        if i not in repetidos:\n",
    "            n_result.append(result[i])\n",
    "            \n",
    "#     Saca la imagen con la señal identificada\n",
    "    clone = imagen_color.copy()\n",
    "    for i in range(len(n_result)):\n",
    "        x,y,winW,winH = n_result[i]\n",
    "        parche = imagen_sin_color[y:y + winH, x:x + winW]\n",
    "        res = predecirImagenSVM(cv2.resize(parche, (100, 100), interpolation = cv2.INTER_NEAREST),carac_type,clf_signaltype)\n",
    "        cv2.rectangle(clone, (x, y), (x + winW, y + winH), (0, 255, 0), 2)\n",
    "        cv2.putText(clone,str(res), (x,y-10), cv2.FONT_HERSHEY_PLAIN,.7,(0, 255, 0))\n",
    "        cv2.imshow(\"Window\", clone)\n",
    "    cv2.waitKey(0)\n",
    "    cv2.destroyAllWindows()"
   ]
  },
  {
   "cell_type": "markdown",
   "metadata": {},
   "source": [
    "Probamos la funcion anterior con un ejemplo:"
   ]
  },
  {
   "cell_type": "code",
   "execution_count": null,
   "metadata": {},
   "outputs": [],
   "source": [
    "dondeHaySignal('Dataset_images/00001.jpg',clf,clf_signaltype)"
   ]
  },
  {
   "cell_type": "markdown",
   "metadata": {},
   "source": [
    "[Indice](#Índice-de-la-práctica)"
   ]
  },
  {
   "cell_type": "markdown",
   "metadata": {},
   "source": [
    "En resumen, como podemos apreciar en este ejemplo, el objetivo ha sido un exito: hemos podido clasificar adecuadamente la posicion y el tipo de señal. "
   ]
  }
 ],
 "metadata": {
  "kernelspec": {
   "display_name": "Python 3",
   "language": "python",
   "name": "python3"
  },
  "language_info": {
   "codemirror_mode": {
    "name": "ipython",
    "version": 3
   },
   "file_extension": ".py",
   "mimetype": "text/x-python",
   "name": "python",
   "nbconvert_exporter": "python",
   "pygments_lexer": "ipython3",
   "version": "3.7.4"
  }
 },
 "nbformat": 4,
 "nbformat_minor": 2
}
